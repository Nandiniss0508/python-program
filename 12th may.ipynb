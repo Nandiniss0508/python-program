{
 "cells": [
  {
   "cell_type": "code",
   "execution_count": null,
   "id": "3d41bbd0-26f9-4678-a6d0-f606f746f675",
   "metadata": {},
   "outputs": [],
   "source": [
    "# Tuples\n"
   ]
  },
  {
   "cell_type": "code",
   "execution_count": 10,
   "id": "7439e14b-1db5-4379-bb10-942aceeaa5aa",
   "metadata": {},
   "outputs": [
    {
     "data": {
      "text/plain": [
       "10"
      ]
     },
     "execution_count": 10,
     "metadata": {},
     "output_type": "execute_result"
    }
   ],
   "source": [
    "my_tups=(10,20,30,40,50)\n",
    "(my_tups[0])"
   ]
  },
  {
   "cell_type": "code",
   "execution_count": 11,
   "id": "e50c7d32-7a68-413f-b710-1400165d5478",
   "metadata": {},
   "outputs": [
    {
     "name": "stdout",
     "output_type": "stream",
     "text": [
      "('john', 25, 'engineer')\n"
     ]
    }
   ],
   "source": [
    "#create a tuple\n",
    "person = (\"john\",25,\"engineer\")\n",
    "print(person)"
   ]
  },
  {
   "cell_type": "code",
   "execution_count": null,
   "id": "318e5efa-2acc-41d1-b48b-78f75d93dab2",
   "metadata": {},
   "outputs": [],
   "source": [
    "# accessing tuple elements\n"
   ]
  },
  {
   "cell_type": "code",
   "execution_count": 3,
   "id": "c6400adc-69b6-4cee-9719-11608dc99f6d",
   "metadata": {},
   "outputs": [
    {
     "name": "stdout",
     "output_type": "stream",
     "text": [
      "(2, 3)\n",
      "(1, 2, 3, 4)\n",
      "(3, 4, 5)\n"
     ]
    }
   ],
   "source": [
    "# slicing  a tuple\n",
    "\n",
    "my_tuple=(1,2,3,4,5)\n",
    "slice_1=my_tuple[1:3]\n",
    "slice_2=my_tuple[:4]\n",
    "slice_3=my_tuple[2:]\n",
    "print(slice_1)\n",
    "print(slice_2)\n",
    "print(slice_3)"
   ]
  },
  {
   "cell_type": "code",
   "execution_count": 4,
   "id": "f5ab8744-5226-48ea-b00c-897bada4d096",
   "metadata": {},
   "outputs": [
    {
     "name": "stdout",
     "output_type": "stream",
     "text": [
      "(4,)\n"
     ]
    }
   ],
   "source": [
    "\n",
    "slice_4=my_tuple[-2:-1]\n",
    "print(slice_4) "
   ]
  },
  {
   "cell_type": "code",
   "execution_count": 14,
   "id": "5b1c2459-e966-40e0-bede-88bd4e42011d",
   "metadata": {},
   "outputs": [
    {
     "data": {
      "text/plain": [
       "'cherry'"
      ]
     },
     "execution_count": 14,
     "metadata": {},
     "output_type": "execute_result"
    }
   ],
   "source": [
    "#q1\n",
    "fruits=(\"apple\",\"banana\",\"cherry\",\"date\",\"canberry\")\n",
    "fruits[2]"
   ]
  },
  {
   "cell_type": "code",
   "execution_count": 16,
   "id": "7abc8b93-5669-43c9-a6a7-b5d98b1128b6",
   "metadata": {},
   "outputs": [
    {
     "data": {
      "text/plain": [
       "(10, 20, 30)"
      ]
     },
     "execution_count": 16,
     "metadata": {},
     "output_type": "execute_result"
    }
   ],
   "source": [
    "#Q2\n",
    "num=(10,20,30,40,40)\n",
    "num[ :3]"
   ]
  },
  {
   "cell_type": "code",
   "execution_count": 21,
   "id": "bc272835-2a76-4792-8bb3-03d9e6d2f042",
   "metadata": {},
   "outputs": [
    {
     "data": {
      "text/plain": [
       "'purple'"
      ]
     },
     "execution_count": 21,
     "metadata": {},
     "output_type": "execute_result"
    }
   ],
   "source": [
    "colors=(\"red\",\"blue\",\"green\",\"yello\",\"purple\")\n",
    "colors [-1]"
   ]
  },
  {
   "cell_type": "code",
   "execution_count": 22,
   "id": "91d1263a-680b-4a78-aa13-ca8b688edc58",
   "metadata": {},
   "outputs": [
    {
     "data": {
      "text/plain": [
       "('red', 'blue', 'green', 'yello')"
      ]
     },
     "execution_count": 22,
     "metadata": {},
     "output_type": "execute_result"
    }
   ],
   "source": [
    "colors[-5:-1]"
   ]
  },
  {
   "cell_type": "code",
   "execution_count": 5,
   "id": "1a3b04ff-b7d9-415e-bf1f-8cfa97397564",
   "metadata": {},
   "outputs": [
    {
     "name": "stdout",
     "output_type": "stream",
     "text": [
      "(1, 2, 3)\n"
     ]
    }
   ],
   "source": [
    "my_tuple = 1,2,3\n",
    "print(my_tuple)"
   ]
  },
  {
   "cell_type": "code",
   "execution_count": 8,
   "id": "b015d590-5d3d-4c9c-9aff-d68de1c22b2e",
   "metadata": {},
   "outputs": [
    {
     "name": "stdout",
     "output_type": "stream",
     "text": [
      "1\n",
      "2\n",
      "3\n"
     ]
    }
   ],
   "source": [
    "a,b,c = my_tuple\n",
    "print(a)\n",
    "print(b)\n",
    "print(c)"
   ]
  },
  {
   "cell_type": "code",
   "execution_count": 9,
   "id": "a6ebdd72-1d69-499b-9b67-4c335e9eb258",
   "metadata": {},
   "outputs": [
    {
     "name": "stdout",
     "output_type": "stream",
     "text": [
      "('hello', 1)\n",
      "(1, 2)\n",
      "50.2\n"
     ]
    }
   ],
   "source": [
    "# ordered:have definate order\n",
    "t = (\"hello\",1,20,45,50.2,(1,2))\n",
    "print(t[0:2])\n",
    "print(t[5])\n",
    "print(t[4])"
   ]
  },
  {
   "cell_type": "code",
   "execution_count": 10,
   "id": "425dac9c-40dc-4dee-958f-2beb91bccb64",
   "metadata": {},
   "outputs": [
    {
     "ename": "TypeError",
     "evalue": "'tuple' object does not support item assignment",
     "output_type": "error",
     "traceback": [
      "\u001b[1;31m---------------------------------------------------------------------------\u001b[0m",
      "\u001b[1;31mTypeError\u001b[0m                                 Traceback (most recent call last)",
      "Cell \u001b[1;32mIn[10], line 3\u001b[0m\n\u001b[0;32m      1\u001b[0m \u001b[38;5;66;03m# immutable: cannot be modified\u001b[39;00m\n\u001b[0;32m      2\u001b[0m my_tup1 \u001b[38;5;241m=\u001b[39m (\u001b[38;5;241m1\u001b[39m,\u001b[38;5;241m2\u001b[39m,\u001b[38;5;241m3\u001b[39m)\n\u001b[1;32m----> 3\u001b[0m my_tup1[\u001b[38;5;241m0\u001b[39m] \u001b[38;5;241m=\u001b[39m \u001b[38;5;241m11\u001b[39m\n",
      "\u001b[1;31mTypeError\u001b[0m: 'tuple' object does not support item assignment"
     ]
    }
   ],
   "source": [
    "# immutable: cannot be modified\n",
    "my_tup1 = (1,2,3)\n",
    "my_tup1[0] = 11\n"
   ]
  },
  {
   "cell_type": "code",
   "execution_count": 11,
   "id": "3e508278-d47a-4f81-b783-57d95c7f867a",
   "metadata": {},
   "outputs": [
    {
     "name": "stdout",
     "output_type": "stream",
     "text": [
      "(1, 'hello', 3.14)\n"
     ]
    }
   ],
   "source": [
    "# heterogenous: can have multiple datatypes\n",
    "my_tup2 = (1,\"hello\",3.14)\n",
    "print(my_tup2)"
   ]
  },
  {
   "cell_type": "code",
   "execution_count": 12,
   "id": "2e59df2c-6b3e-4ba9-96c7-083c7856c63e",
   "metadata": {},
   "outputs": [
    {
     "data": {
      "text/plain": [
       "30"
      ]
     },
     "execution_count": 12,
     "metadata": {},
     "output_type": "execute_result"
    }
   ],
   "source": [
    "#  tuple supports indexing and slicing\n",
    "my_tupl = (10,20,30,40,50)\n",
    "my_tupl[2]\n"
   ]
  },
  {
   "cell_type": "code",
   "execution_count": 13,
   "id": "c8e54cf7-d1ac-4f9b-b6af-f2f40017f507",
   "metadata": {},
   "outputs": [
    {
     "data": {
      "text/plain": [
       "(20, 30, 40)"
      ]
     },
     "execution_count": 13,
     "metadata": {},
     "output_type": "execute_result"
    }
   ],
   "source": [
    "my_tupl[1:4]"
   ]
  },
  {
   "cell_type": "code",
   "execution_count": 14,
   "id": "6dbe4b0b-64e6-4353-8dc3-780f0890e46d",
   "metadata": {},
   "outputs": [
    {
     "name": "stdout",
     "output_type": "stream",
     "text": [
      "(1, 2, 3)\n"
     ]
    }
   ],
   "source": [
    "# packing and unpacking\n",
    "my_tuple = 1,2,3\n",
    "print(my_tuple)"
   ]
  },
  {
   "cell_type": "code",
   "execution_count": 15,
   "id": "5d228484-b6a3-42cf-b6e1-9fe720a48ec1",
   "metadata": {},
   "outputs": [
    {
     "name": "stdout",
     "output_type": "stream",
     "text": [
      "1\n",
      "2\n",
      "3\n"
     ]
    }
   ],
   "source": [
    "a,b,c = my_tuple\n",
    "print(a)\n",
    "print(b)\n",
    "print(c)"
   ]
  },
  {
   "cell_type": "code",
   "execution_count": 16,
   "id": "65b6468a-ef5c-46c0-b3c4-2dbf5a065da9",
   "metadata": {},
   "outputs": [
    {
     "name": "stdout",
     "output_type": "stream",
     "text": [
      "1\n",
      "7\n"
     ]
    }
   ],
   "source": [
    "# nested list\n",
    "list1 = [[1,2,3,4],[5,6,7,8]]\n",
    "print(list1[0][0])\n",
    "print(list1[1][2])"
   ]
  },
  {
   "cell_type": "code",
   "execution_count": 19,
   "id": "cb7e890d-5370-4c59-809a-bcc2b9257a02",
   "metadata": {},
   "outputs": [
    {
     "data": {
      "text/plain": [
       "5"
      ]
     },
     "execution_count": 19,
     "metadata": {},
     "output_type": "execute_result"
    }
   ],
   "source": [
    "#4\n",
    "nest_tup = (1,(2,3),(4,(5,6),7),8)\n",
    "nest_tup[2][1][0]"
   ]
  },
  {
   "cell_type": "code",
   "execution_count": 21,
   "id": "e46a6ce3-8024-426a-a41c-154165d1dc68",
   "metadata": {},
   "outputs": [
    {
     "name": "stdout",
     "output_type": "stream",
     "text": [
      "(5, 6)\n",
      "(4, (5, 6), 7)\n",
      "8\n"
     ]
    }
   ],
   "source": [
    "print(nest_tup[2][1])\n",
    "print(nest_tup[2])\n",
    "print(nest_tup[3])"
   ]
  },
  {
   "cell_type": "code",
   "execution_count": 23,
   "id": "7de3b7b3-549d-46ec-8698-c5f2ff854d41",
   "metadata": {},
   "outputs": [
    {
     "name": "stdout",
     "output_type": "stream",
     "text": [
      "cherry\n",
      "('apple', 'banana')\n",
      "('apple', 'banana', 'cherry')\n",
      "('cherry', 'banana', 'apple')\n"
     ]
    }
   ],
   "source": [
    "#negative indexing\n",
    "my_tup11 = (\"apple\",\"banana\",\"cherry\")\n",
    "print(my_tup11[-1])\n",
    "print(my_tup11[-3:-1])\n",
    "print(my_tup11[-3::])\n",
    "print(my_tup11[::-1])# reversing"
   ]
  },
  {
   "cell_type": "code",
   "execution_count": 26,
   "id": "3216d56a-6c88-49c2-b7fc-90cbec29fdfb",
   "metadata": {},
   "outputs": [
    {
     "name": "stdout",
     "output_type": "stream",
     "text": [
      "(2, 3)\n",
      "(1, 2, 3, 4)\n",
      "(3, 4, 5)\n",
      "5\n"
     ]
    }
   ],
   "source": [
    "# slicing the tuple [start:end]\n",
    "my_tuple11 = (1,2,3,4,5)\n",
    "slice_1 = my_tuple11[1:3]\n",
    "slice_2 = my_tuple11[:4]\n",
    "slice_3 = my_tuple11[2: ]\n",
    "print(slice_1)\n",
    "print(slice_2)\n",
    "print(slice_3)\n",
    "print(my_tuple11[-1])"
   ]
  },
  {
   "cell_type": "code",
   "execution_count": 29,
   "id": "7e202e63-269e-4d57-be53-d73417c6a0f3",
   "metadata": {},
   "outputs": [
    {
     "data": {
      "text/plain": [
       "tuple"
      ]
     },
     "execution_count": 29,
     "metadata": {},
     "output_type": "execute_result"
    }
   ],
   "source": [
    "# converting types\n",
    "fruits=(\"apple\",\"banana\",\"cherry\")\n",
    "type(fruits)"
   ]
  },
  {
   "cell_type": "code",
   "execution_count": 36,
   "id": "280ccbe9-1fd2-4b91-9b53-fa9c2ac6b365",
   "metadata": {},
   "outputs": [
    {
     "data": {
      "text/plain": [
       "list"
      ]
     },
     "execution_count": 36,
     "metadata": {},
     "output_type": "execute_result"
    }
   ],
   "source": [
    "a=list(fruits)\n",
    "type(a)"
   ]
  },
  {
   "cell_type": "code",
   "execution_count": 37,
   "id": "5e5b0201-6f24-47eb-98ee-6711c0e455a8",
   "metadata": {},
   "outputs": [
    {
     "data": {
      "text/plain": [
       "['apple', 'banana', 'cherry', 'mango']"
      ]
     },
     "execution_count": 37,
     "metadata": {},
     "output_type": "execute_result"
    }
   ],
   "source": [
    "a.append(\"mango\")\n",
    "a"
   ]
  },
  {
   "cell_type": "code",
   "execution_count": 38,
   "id": "09c44548-622a-4ee9-a464-31ad11d661fe",
   "metadata": {},
   "outputs": [
    {
     "data": {
      "text/plain": [
       "('apple', 'banana', 'cherry', 'mango')"
      ]
     },
     "execution_count": 38,
     "metadata": {},
     "output_type": "execute_result"
    }
   ],
   "source": [
    "b=tuple(a)\n",
    "b"
   ]
  },
  {
   "cell_type": "code",
   "execution_count": 44,
   "id": "395bcbd8-0a75-4bf8-b9ba-81e308a8604a",
   "metadata": {},
   "outputs": [
    {
     "name": "stdout",
     "output_type": "stream",
     "text": [
      "('apple', 'berry', 'cherry')\n"
     ]
    }
   ],
   "source": [
    "# add elements with out changing the original\n",
    "fruits=(\"apple\",\"banana\",\"cherry\")\n",
    "fruits_new=fruits[ :1]+(\"berry\",)+fruits[2: ]\n",
    "print(fruits_new)"
   ]
  },
  {
   "cell_type": "code",
   "execution_count": 45,
   "id": "6d0238a3-0902-4e3c-b32f-b8052c67e183",
   "metadata": {},
   "outputs": [
    {
     "name": "stdout",
     "output_type": "stream",
     "text": [
      "('apple', 'banana', 'cherry', 'date')\n"
     ]
    }
   ],
   "source": [
    "fruits1=fruits+(\"date\",)\n",
    "print(fruits1)"
   ]
  },
  {
   "cell_type": "code",
   "execution_count": 46,
   "id": "aa36e409-fe8f-4f94-8e8a-e0bb9036c315",
   "metadata": {},
   "outputs": [
    {
     "data": {
      "text/plain": [
       "2"
      ]
     },
     "execution_count": 46,
     "metadata": {},
     "output_type": "execute_result"
    }
   ],
   "source": [
    "my_tup=('a','b','c','d')\n",
    "my_tup.index('c')"
   ]
  },
  {
   "cell_type": "code",
   "execution_count": 47,
   "id": "7f783aec-a1da-496e-b092-dc3d5d14f89a",
   "metadata": {},
   "outputs": [
    {
     "data": {
      "text/plain": [
       "4"
      ]
     },
     "execution_count": 47,
     "metadata": {},
     "output_type": "execute_result"
    }
   ],
   "source": [
    "len(my_tup)"
   ]
  },
  {
   "cell_type": "code",
   "execution_count": 48,
   "id": "2be5b8ef-9d1e-4ad7-83b9-741bc497c6ce",
   "metadata": {},
   "outputs": [
    {
     "data": {
      "text/plain": [
       "45"
      ]
     },
     "execution_count": 48,
     "metadata": {},
     "output_type": "execute_result"
    }
   ],
   "source": [
    "t = (1,2,45,6,8,8)\n",
    "max(t)"
   ]
  },
  {
   "cell_type": "code",
   "execution_count": 49,
   "id": "be64a80c-92e4-4cb8-b3b3-07b53bd84cd3",
   "metadata": {},
   "outputs": [
    {
     "data": {
      "text/plain": [
       "'c'"
      ]
     },
     "execution_count": 49,
     "metadata": {},
     "output_type": "execute_result"
    }
   ],
   "source": [
    "t1 = (\"a\",\"b\",\"c\")\n",
    "max(t1)"
   ]
  },
  {
   "cell_type": "code",
   "execution_count": 74,
   "id": "15912f72-cefa-492e-be5e-057add1d33ae",
   "metadata": {},
   "outputs": [
    {
     "data": {
      "text/plain": [
       "tuple"
      ]
     },
     "execution_count": 74,
     "metadata": {},
     "output_type": "execute_result"
    }
   ],
   "source": [
    "# use concatenation and add elements\n",
    "fruits1 = (\"apple\",\"banana\",\"cherry\")\n",
    "type(fruits1)"
   ]
  },
  {
   "cell_type": "code",
   "execution_count": 75,
   "id": "fc49c994-3ec9-4913-a273-af4a56201af5",
   "metadata": {},
   "outputs": [
    {
     "data": {
      "text/plain": [
       "list"
      ]
     },
     "execution_count": 75,
     "metadata": {},
     "output_type": "execute_result"
    }
   ],
   "source": [
    "a = list(fruits1)\n",
    "type(a)"
   ]
  },
  {
   "cell_type": "code",
   "execution_count": 76,
   "id": "06bebf48-b651-4a55-be45-a1db82da8fd9",
   "metadata": {},
   "outputs": [
    {
     "data": {
      "text/plain": [
       "['apple', 'banana', 'cherry', 'mango']"
      ]
     },
     "execution_count": 76,
     "metadata": {},
     "output_type": "execute_result"
    }
   ],
   "source": [
    "a.append(\"mango\")\n",
    "a"
   ]
  },
  {
   "cell_type": "code",
   "execution_count": null,
   "id": "76e3c9d5-a20e-4154-afc4-01bfb605fae1",
   "metadata": {},
   "outputs": [],
   "source": []
  },
  {
   "cell_type": "code",
   "execution_count": 52,
   "id": "70781716-1c32-4c75-82bd-c849e9ee2220",
   "metadata": {},
   "outputs": [
    {
     "name": "stdout",
     "output_type": "stream",
     "text": [
      "the highest is 92\n",
      "the lowest is 76\n"
     ]
    }
   ],
   "source": [
    "# q scores\n",
    "scores = (80,76,92,85,79)\n",
    "high = max(scores)\n",
    "print(\"the highest is\",high)\n",
    "low = min(scores)\n",
    "print(\"the lowest is\",low)"
   ]
  },
  {
   "cell_type": "code",
   "execution_count": 80,
   "id": "14f1b180-80c1-49c9-8ad7-887cdb7d65ae",
   "metadata": {},
   "outputs": [
    {
     "name": "stdout",
     "output_type": "stream",
     "text": [
      "('apple', 'dates', 'blueberry', 'cherry')\n"
     ]
    }
   ],
   "source": [
    "# using concatenation to add elements\n",
    "fruits11 = (\"apple\",\"banana\",\"cherry\")\n",
    "fruits1_new = fruits11[ :1] + (\"dates\",) + (\"blueberry\",) + fruits11[2: ]\n",
    "print(fruits1_new)"
   ]
  },
  {
   "cell_type": "code",
   "execution_count": 51,
   "id": "7c3cbeb9-c4a5-4e6a-8f88-f7aa1896a931",
   "metadata": {},
   "outputs": [
    {
     "data": {
      "text/plain": [
       "True"
      ]
     },
     "execution_count": 51,
     "metadata": {},
     "output_type": "execute_result"
    }
   ],
   "source": [
    "#q2 check whether paris is in the tuple\n",
    "cities = (\"new york\",\"los angeles\",\"paris\",\"london\",\"tokyo\")\n",
    "\"paris\" in cities\n"
   ]
  },
  {
   "cell_type": "code",
   "execution_count": 2,
   "id": "8765e30f-cab9-4ea3-811b-da542ab9d221",
   "metadata": {},
   "outputs": [
    {
     "name": "stdout",
     "output_type": "stream",
     "text": [
      "1\n",
      "2\n",
      "3\n",
      "4\n"
     ]
    }
   ],
   "source": [
    "# loop in tuple\n",
    "tup = (1,2,3,4)\n",
    "for i in tup:\n",
    "    print(i)"
   ]
  },
  {
   "cell_type": "code",
   "execution_count": 3,
   "id": "d80e75ed-6d44-43a8-83ac-03ae4921ea9c",
   "metadata": {},
   "outputs": [
    {
     "data": {
      "text/plain": [
       "1"
      ]
     },
     "execution_count": 3,
     "metadata": {},
     "output_type": "execute_result"
    }
   ],
   "source": [
    "#count returns the number of times the item is present in the tuple\n",
    "\n",
    "tup.count(4)"
   ]
  },
  {
   "cell_type": "code",
   "execution_count": 7,
   "id": "092031fc-4f4d-4acc-b8c3-9a3f1ac9a497",
   "metadata": {},
   "outputs": [
    {
     "data": {
      "text/plain": [
       "0"
      ]
     },
     "execution_count": 7,
     "metadata": {},
     "output_type": "execute_result"
    }
   ],
   "source": [
    "#index()\n",
    "my_tup = (\"apple\",\"banana\",\"cherry\")\n",
    "my_tup.index(\"apple\")"
   ]
  },
  {
   "cell_type": "code",
   "execution_count": 8,
   "id": "8d1de665-8184-4c4f-a1c4-8756326aa4d9",
   "metadata": {},
   "outputs": [
    {
     "data": {
      "text/plain": [
       "1"
      ]
     },
     "execution_count": 8,
     "metadata": {},
     "output_type": "execute_result"
    }
   ],
   "source": [
    "my_tup.index(\"banana\")"
   ]
  },
  {
   "cell_type": "code",
   "execution_count": 9,
   "id": "ebc3a657-968c-45ea-b56f-5617c21df131",
   "metadata": {},
   "outputs": [
    {
     "data": {
      "text/plain": [
       "'cherry'"
      ]
     },
     "execution_count": 9,
     "metadata": {},
     "output_type": "execute_result"
    }
   ],
   "source": [
    "# max() returns maximum element\n",
    "max(my_tup)"
   ]
  },
  {
   "cell_type": "code",
   "execution_count": 11,
   "id": "4b343dd3-0685-48bc-bee8-dc2bd4c4a056",
   "metadata": {},
   "outputs": [
    {
     "data": {
      "text/plain": [
       "'apple'"
      ]
     },
     "execution_count": 11,
     "metadata": {},
     "output_type": "execute_result"
    }
   ],
   "source": [
    "#min() returns minimum element\n",
    "min(my_tup)"
   ]
  },
  {
   "cell_type": "code",
   "execution_count": 12,
   "id": "218a97f4-3235-457c-99c7-526cf4e2db38",
   "metadata": {},
   "outputs": [
    {
     "data": {
      "text/plain": [
       "1"
      ]
     },
     "execution_count": 12,
     "metadata": {},
     "output_type": "execute_result"
    }
   ],
   "source": [
    "min(tup)"
   ]
  },
  {
   "cell_type": "code",
   "execution_count": 14,
   "id": "3bbac607-7bab-41b6-84db-998fadd6d079",
   "metadata": {},
   "outputs": [
    {
     "data": {
      "text/plain": [
       "10"
      ]
     },
     "execution_count": 14,
     "metadata": {},
     "output_type": "execute_result"
    }
   ],
   "source": [
    "#sum()\n",
    "sum(tup)"
   ]
  },
  {
   "cell_type": "code",
   "execution_count": 15,
   "id": "3723d5de-7788-4fb8-976e-9c6047c47489",
   "metadata": {},
   "outputs": [
    {
     "data": {
      "text/plain": [
       "[9, 10, 11, 23, 44]"
      ]
     },
     "execution_count": 15,
     "metadata": {},
     "output_type": "execute_result"
    }
   ],
   "source": [
    "#sorted()\n",
    "tup1 = (11,10,23,9,44)\n",
    "sorted(tup1)"
   ]
  },
  {
   "cell_type": "code",
   "execution_count": 16,
   "id": "b030ce14-1a43-4b23-bf91-771593bbd603",
   "metadata": {},
   "outputs": [
    {
     "data": {
      "text/plain": [
       "(11, 10, 23, 9, 44)"
      ]
     },
     "execution_count": 16,
     "metadata": {},
     "output_type": "execute_result"
    }
   ],
   "source": [
    "tup1"
   ]
  },
  {
   "cell_type": "code",
   "execution_count": 10,
   "id": "0e259f91-d5d1-4cc9-a50a-55b94ec2ea5a",
   "metadata": {},
   "outputs": [
    {
     "data": {
      "text/plain": [
       "4"
      ]
     },
     "execution_count": 10,
     "metadata": {},
     "output_type": "execute_result"
    }
   ],
   "source": [
    "max(tup)"
   ]
  },
  {
   "cell_type": "code",
   "execution_count": 18,
   "id": "4500ac01-9fe8-4272-96a8-a1d478ab8482",
   "metadata": {},
   "outputs": [
    {
     "data": {
      "text/plain": [
       "False"
      ]
     },
     "execution_count": 18,
     "metadata": {},
     "output_type": "execute_result"
    }
   ],
   "source": [
    "#any()\n",
    "t = (0,0,0)\n",
    "any(t)"
   ]
  },
  {
   "cell_type": "code",
   "execution_count": 19,
   "id": "5d116e17-5e36-4d04-b68d-f798235ede51",
   "metadata": {},
   "outputs": [
    {
     "data": {
      "text/plain": [
       "True"
      ]
     },
     "execution_count": 19,
     "metadata": {},
     "output_type": "execute_result"
    }
   ],
   "source": [
    "any(tup1)"
   ]
  },
  {
   "cell_type": "code",
   "execution_count": 20,
   "id": "ecd728a4-9c39-47b3-8275-6da2d75c1a50",
   "metadata": {},
   "outputs": [
    {
     "data": {
      "text/plain": [
       "True"
      ]
     },
     "execution_count": 20,
     "metadata": {},
     "output_type": "execute_result"
    }
   ],
   "source": [
    "any(tup)"
   ]
  },
  {
   "cell_type": "code",
   "execution_count": 21,
   "id": "9632ed46-8fed-40f9-8b64-deb22dffe7af",
   "metadata": {},
   "outputs": [
    {
     "data": {
      "text/plain": [
       "False"
      ]
     },
     "execution_count": 21,
     "metadata": {},
     "output_type": "execute_result"
    }
   ],
   "source": [
    "#all()\n",
    "t1 = (1,1,0)\n",
    "t2 = (1,1,1)\n",
    "all(t1)"
   ]
  },
  {
   "cell_type": "code",
   "execution_count": 22,
   "id": "6f17d20e-20ab-41c5-a5dd-2aa40fe6531d",
   "metadata": {},
   "outputs": [
    {
     "data": {
      "text/plain": [
       "True"
      ]
     },
     "execution_count": 22,
     "metadata": {},
     "output_type": "execute_result"
    }
   ],
   "source": [
    "all(t2)"
   ]
  },
  {
   "cell_type": "code",
   "execution_count": 23,
   "id": "b0563cfd-5ecc-48d8-b6d3-219c28e9e848",
   "metadata": {},
   "outputs": [
    {
     "name": "stdout",
     "output_type": "stream",
     "text": [
      "the highest is 92\n",
      "the lowest is 76\n"
     ]
    }
   ],
   "source": [
    "#q1 print highest and lowest of scores\n",
    "\n",
    "scores = (88,76,92,85,79)\n",
    "low = min(scores)\n",
    "high = max(scores)\n",
    "print(\"the highest is\",high)\n",
    "print(\"the lowest is\",low)\n"
   ]
  },
  {
   "cell_type": "code",
   "execution_count": 24,
   "id": "d171cfb1-c1bd-4f7e-af12-f9eaa0f8ee4d",
   "metadata": {},
   "outputs": [
    {
     "data": {
      "text/plain": [
       "True"
      ]
     },
     "execution_count": 24,
     "metadata": {},
     "output_type": "execute_result"
    }
   ],
   "source": [
    "#q2 check if paris is in the tuple\n",
    "\n",
    "cities = (\"new york\",\"los angeles\",\"paris\",\"london\",\"tokyo\")\n",
    "\"paris\" in cities\n"
   ]
  },
  {
   "cell_type": "code",
   "execution_count": 9,
   "id": "c16f0128-b117-4001-99f7-9675f5808db8",
   "metadata": {},
   "outputs": [
    {
     "name": "stdout",
     "output_type": "stream",
     "text": [
      "6\n"
     ]
    }
   ],
   "source": [
    "#q3 tuple representing the dimensions of a rectangle box containing length,breadth, height\n",
    "rectangle = (1,2,3)\n",
    "vol = rectangle[0] * rectangle[1] * rectangle[2]\n",
    "print(vol)"
   ]
  },
  {
   "cell_type": "code",
   "execution_count": null,
   "id": "0dc28156-6cbd-4f88-ab6e-5f7a3a5c1672",
   "metadata": {},
   "outputs": [],
   "source": []
  }
 ],
 "metadata": {
  "kernelspec": {
   "display_name": "Python 3 (ipykernel)",
   "language": "python",
   "name": "python3"
  },
  "language_info": {
   "codemirror_mode": {
    "name": "ipython",
    "version": 3
   },
   "file_extension": ".py",
   "mimetype": "text/x-python",
   "name": "python",
   "nbconvert_exporter": "python",
   "pygments_lexer": "ipython3",
   "version": "3.12.7"
  }
 },
 "nbformat": 4,
 "nbformat_minor": 5
}
