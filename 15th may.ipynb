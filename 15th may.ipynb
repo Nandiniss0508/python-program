{
 "cells": [
  {
   "cell_type": "code",
   "execution_count": null,
   "id": "b8aefa79-fbf8-4b96-8741-b6fdd62fa38e",
   "metadata": {},
   "outputs": [],
   "source": [
    "# functions in python # def function_name():"
   ]
  },
  {
   "cell_type": "code",
   "execution_count": 1,
   "id": "63796091-2816-46cc-a91a-410f2a4a2f34",
   "metadata": {},
   "outputs": [],
   "source": [
    "# adding two  numbers\n",
    "def add_two():\n",
    "    a=10\n",
    "    b=20\n",
    "    c=a+b\n",
    "    print(c)\n"
   ]
  },
  {
   "cell_type": "code",
   "execution_count": 2,
   "id": "b9eea18f-215f-4c23-9066-e249205a5230",
   "metadata": {},
   "outputs": [
    {
     "name": "stdout",
     "output_type": "stream",
     "text": [
      "30\n"
     ]
    }
   ],
   "source": [
    "add_two()"
   ]
  },
  {
   "cell_type": "code",
   "execution_count": 3,
   "id": "df50c33c-16cb-4d0e-820c-dac3df349e6a",
   "metadata": {},
   "outputs": [],
   "source": [
    "def Greet():\n",
    "    name = input(\"enter the name\")\n",
    "    print(f\"hi {name}, welcome to the party\")\n",
    "    "
   ]
  },
  {
   "cell_type": "code",
   "execution_count": 4,
   "id": "0356f1e3-cfc7-40d3-8bcd-6186c45c424b",
   "metadata": {},
   "outputs": [
    {
     "name": "stdin",
     "output_type": "stream",
     "text": [
      "enter the name Nandini\n"
     ]
    },
    {
     "name": "stdout",
     "output_type": "stream",
     "text": [
      "hi Nandini, welcome to the party\n"
     ]
    }
   ],
   "source": [
    "Greet()"
   ]
  },
  {
   "cell_type": "code",
   "execution_count": 6,
   "id": "26adbc81-fa1e-4651-9531-dc78100186e4",
   "metadata": {},
   "outputs": [
    {
     "name": "stdout",
     "output_type": "stream",
     "text": [
      "5\n"
     ]
    }
   ],
   "source": [
    "# subtracting two numbers\n",
    "def sub():\n",
    "    x=10\n",
    "    y=5\n",
    "    c=x-y\n",
    "    print(c)\n",
    "sub()"
   ]
  },
  {
   "cell_type": "code",
   "execution_count": 68,
   "id": "b191c578-0eec-499d-bd7c-dd2de5ea0956",
   "metadata": {},
   "outputs": [
    {
     "name": "stdout",
     "output_type": "stream",
     "text": [
      "5\n",
      "6\n",
      "1.0\n",
      "2\n"
     ]
    }
   ],
   "source": [
    "def add(x,y):\n",
    "    add = x+y\n",
    "    print(add)\n",
    "def sub(x,y):\n",
    "    sub = x-y\n",
    "    print(sub)\n",
    "\n",
    "def mul(x,y):\n",
    "    mul = x*y\n",
    "    print(mul)\n",
    "\n",
    "def div(x,y):\n",
    "    div = x/y\n",
    "    print(div)\n",
    "\n",
    "add(2,3)\n",
    "sub(11,5)\n",
    "div(2,2)\n",
    "mul(2,1)\n",
    "    \n",
    "    "
   ]
  },
  {
   "cell_type": "code",
   "execution_count": 92,
   "id": "9c624edc-8b8a-4f13-815d-7e9a5ccd80e2",
   "metadata": {},
   "outputs": [
    {
     "name": "stdin",
     "output_type": "stream",
     "text": [
      "enter operation(+,-,*,/) /\n",
      "enter the first number 5\n",
      "enter the second number 1\n"
     ]
    },
    {
     "name": "stdout",
     "output_type": "stream",
     "text": [
      "the division is 5.0\n"
     ]
    }
   ],
   "source": [
    "def calculate():\n",
    "    operation = input(\"enter operation(+,-,*,/)\")\n",
    "    num1 = int(input(\"enter the first number\"))\n",
    "    num2 = int(input(\"enter the second number\"))\n",
    "    if(operation==\"+\"):\n",
    "         add = num1 + num2\n",
    "         print(\"sum is\",add)\n",
    "    if(operation==\"-\"):\n",
    "         sub = num1 - num2\n",
    "         print(\"difference is\",sub)\n",
    "    if(operation==\"/\"):\n",
    "         div = num1 / num2\n",
    "         print(\"the division is\",div)\n",
    "    if(operation==\"*\"):\n",
    "         mul = num1 * num2\n",
    "         print(\"the product is\",mul)\n",
    "  \n",
    "\n",
    "calculate()"
   ]
  },
  {
   "cell_type": "code",
   "execution_count": 14,
   "id": "166dfda4-b7a6-4bed-94d6-7270a6cbe3de",
   "metadata": {},
   "outputs": [
    {
     "name": "stdout",
     "output_type": "stream",
     "text": [
      "2 x 1 = 2\n",
      "2 x 2 = 4\n",
      "2 x 3 = 6\n",
      "2 x 4 = 8\n",
      "2 x 5 = 10\n",
      "2 x 6 = 12\n",
      "2 x 7 = 14\n",
      "2 x 8 = 16\n",
      "2 x 9 = 18\n",
      "2 x 10 = 20\n"
     ]
    }
   ],
   "source": [
    "num = 2\n",
    "for i in range(1,11):\n",
    "    print(num,\"x\",i,\"=\", num*i)"
   ]
  },
  {
   "cell_type": "code",
   "execution_count": 103,
   "id": "13ce4cdf-199d-4875-930f-901b699e6b3b",
   "metadata": {},
   "outputs": [
    {
     "name": "stdout",
     "output_type": "stream",
     "text": [
      "2 x 1 = 2\n",
      "2 x 2 = 4\n",
      "2 x 3 = 6\n",
      "2 x 4 = 8\n",
      "2 x 5 = 10\n",
      "2 x 6 = 12\n",
      "2 x 7 = 14\n",
      "2 x 8 = 16\n",
      "2 x 9 = 18\n",
      "2 x 10 = 20\n"
     ]
    }
   ],
   "source": [
    "def mul_table(num):\n",
    "    for i in range(1,11):\n",
    "        print(f\"{num} x {i} = {num*i}\")\n",
    "\n",
    "mul_table(2)"
   ]
  },
  {
   "cell_type": "code",
   "execution_count": 110,
   "id": "f400e679-6366-4153-83dc-5c8ba07e6f53",
   "metadata": {},
   "outputs": [
    {
     "name": "stdin",
     "output_type": "stream",
     "text": [
      "enter the number 2\n"
     ]
    },
    {
     "name": "stdout",
     "output_type": "stream",
     "text": [
      "2 x 1 =  2\n",
      "2 x 2 =  4\n",
      "2 x 3 =  6\n",
      "2 x 4 =  8\n",
      "2 x 5 =  10\n",
      "2 x 6 =  12\n",
      "2 x 7 =  14\n",
      "2 x 8 =  16\n",
      "2 x 9 =  18\n",
      "2 x 10 =  20\n"
     ]
    }
   ],
   "source": [
    "def mul_table():\n",
    "    num2 = int(input(\"enter the number\"))\n",
    "    for i in range(1,11):\n",
    "        print(f\"{num2} x {i} =  {num2 * i}\")\n",
    "\n",
    "mul_table()"
   ]
  },
  {
   "cell_type": "code",
   "execution_count": 17,
   "id": "788537f8-c307-4daf-960e-0c6578f79af7",
   "metadata": {},
   "outputs": [
    {
     "name": "stdout",
     "output_type": "stream",
     "text": [
      "30\n"
     ]
    }
   ],
   "source": [
    "def func1(a,b):  # passing parameters\n",
    "    c = a+b\n",
    "    print(c)\n",
    "\n",
    "func1(10,20) # passing arguments\n"
   ]
  },
  {
   "cell_type": "code",
   "execution_count": 37,
   "id": "ff961d24-8094-424d-a12f-e0379d4fce82",
   "metadata": {},
   "outputs": [],
   "source": [
    "def greet1(name):\n",
    "    print(\"HELLO\", {name})\n"
   ]
  },
  {
   "cell_type": "code",
   "execution_count": 38,
   "id": "0e1c70c8-634d-4384-8395-ae36ddb3982b",
   "metadata": {},
   "outputs": [
    {
     "name": "stdout",
     "output_type": "stream",
     "text": [
      "HELLO {'Nandini'}\n"
     ]
    }
   ],
   "source": [
    "greet1(\"Nandini\")"
   ]
  },
  {
   "cell_type": "code",
   "execution_count": 41,
   "id": "b4371f60-0f2c-44b7-8a35-648895ac00ed",
   "metadata": {},
   "outputs": [
    {
     "data": {
      "text/plain": [
       "30"
      ]
     },
     "execution_count": 41,
     "metadata": {},
     "output_type": "execute_result"
    }
   ],
   "source": [
    "# return\n",
    "def fun2():\n",
    "    a=10\n",
    "    b=20\n",
    "    c=a+b\n",
    "    return c\n",
    "\n",
    "var = fun2()\n",
    "var"
   ]
  },
  {
   "cell_type": "code",
   "execution_count": 43,
   "id": "d5a9b0a2-9ff7-465e-b550-b877eda1a8f9",
   "metadata": {},
   "outputs": [
    {
     "data": {
      "text/plain": [
       "30"
      ]
     },
     "execution_count": 43,
     "metadata": {},
     "output_type": "execute_result"
    }
   ],
   "source": [
    "def func(a,b):\n",
    "    c= a+b\n",
    "    return c\n",
    "\n",
    "v = func(10,20)\n",
    "v"
   ]
  },
  {
   "cell_type": "code",
   "execution_count": 44,
   "id": "7e45a7aa-a8f9-4b51-846f-3e49575da881",
   "metadata": {},
   "outputs": [
    {
     "data": {
      "text/plain": [
       "'ODD'"
      ]
     },
     "execution_count": 44,
     "metadata": {},
     "output_type": "execute_result"
    }
   ],
   "source": [
    "def check_even(num):\n",
    "    if num%2==0:\n",
    "        return \"EVEN\"\n",
    "    return \"ODD\"\n",
    "res = check_even(1)\n",
    "res"
   ]
  },
  {
   "cell_type": "code",
   "execution_count": 47,
   "id": "9943225b-02eb-4212-9920-7c266de8e630",
   "metadata": {},
   "outputs": [
    {
     "data": {
      "text/plain": [
       "'EVEN'"
      ]
     },
     "execution_count": 47,
     "metadata": {},
     "output_type": "execute_result"
    }
   ],
   "source": [
    "def check_even(num):\n",
    "    if num%2==0:\n",
    "        return \"EVEN\"\n",
    "    return \"ODD\"\n",
    "res = check_even(2)\n",
    "res"
   ]
  },
  {
   "cell_type": "code",
   "execution_count": 49,
   "id": "c860196b-fcef-46b0-898c-96cbf5bbb67f",
   "metadata": {},
   "outputs": [
    {
     "data": {
      "text/plain": [
       "[1, 2, 3, 4]"
      ]
     },
     "execution_count": 49,
     "metadata": {},
     "output_type": "execute_result"
    }
   ],
   "source": [
    "# collections\n",
    "def create_list():\n",
    "     return[1,2,3,4]\n",
    "\n",
    "my_list = create_list()\n",
    "my_list"
   ]
  },
  {
   "cell_type": "code",
   "execution_count": 59,
   "id": "4f137adf-b262-44b6-b199-75717a410471",
   "metadata": {},
   "outputs": [
    {
     "name": "stdout",
     "output_type": "stream",
     "text": [
      "Alice age is 20\n"
     ]
    }
   ],
   "source": [
    "# default values\n",
    "\n",
    "def fun(age=18,name=\"Alice\"):\n",
    "    print(f\"{name} age is {age}\")\n",
    "\n",
    "fun(20)"
   ]
  },
  {
   "cell_type": "code",
   "execution_count": 60,
   "id": "d12e4079-3913-468c-a6ee-cf008831014b",
   "metadata": {},
   "outputs": [
    {
     "name": "stdout",
     "output_type": "stream",
     "text": [
      "Raj age is 22\n"
     ]
    }
   ],
   "source": [
    "fun(22,\"Raj\")"
   ]
  },
  {
   "cell_type": "code",
   "execution_count": 61,
   "id": "f9bee678-9c56-4de6-8c0f-885b38f32579",
   "metadata": {},
   "outputs": [
    {
     "name": "stdout",
     "output_type": "stream",
     "text": [
      "Alice age is 18\n"
     ]
    }
   ],
   "source": [
    "fun()"
   ]
  },
  {
   "cell_type": "code",
   "execution_count": 63,
   "id": "6b44b5c8-21fc-4f69-a420-4ddb8e27ef8d",
   "metadata": {},
   "outputs": [
    {
     "data": {
      "text/plain": [
       "5"
      ]
     },
     "execution_count": 63,
     "metadata": {},
     "output_type": "execute_result"
    }
   ],
   "source": [
    "def cal_area(width,length=1):\n",
    "    return width*length\n",
    "\n",
    "cal_area(5)"
   ]
  },
  {
   "cell_type": "code",
   "execution_count": 64,
   "id": "9ca9fb49-be62-40bf-a98e-bb738165687e",
   "metadata": {},
   "outputs": [
    {
     "data": {
      "text/plain": [
       "6"
      ]
     },
     "execution_count": 64,
     "metadata": {},
     "output_type": "execute_result"
    }
   ],
   "source": [
    "cal_area(2,3)"
   ]
  },
  {
   "cell_type": "code",
   "execution_count": 65,
   "id": "db199175-e4c8-4e0f-b077-0ba8ad9eab9c",
   "metadata": {},
   "outputs": [
    {
     "name": "stdout",
     "output_type": "stream",
     "text": [
      " Name is Ram, age is 22, gender is Male\n"
     ]
    }
   ],
   "source": [
    "#keyword arguments\n",
    "def func6(name, age, gender):\n",
    "    print(f\" Name is {name}, age is {age}, gender is {gender}\")\n",
    "\n",
    "func6(\"Ram\",22,\"Male\")\n"
   ]
  },
  {
   "cell_type": "code",
   "execution_count": 67,
   "id": "3877742e-a578-4d55-b86f-6f5e372af475",
   "metadata": {},
   "outputs": [
    {
     "name": "stdout",
     "output_type": "stream",
     "text": [
      " Name is Sita, age is 22, gender is Female\n"
     ]
    }
   ],
   "source": [
    "func6(name = \"Sita\", gender = \"Female\", age = 22)"
   ]
  },
  {
   "cell_type": "code",
   "execution_count": null,
   "id": "a8e5c8d0-16c6-49f8-9ab7-9f09a5c0a770",
   "metadata": {},
   "outputs": [],
   "source": []
  }
 ],
 "metadata": {
  "kernelspec": {
   "display_name": "Python 3 (ipykernel)",
   "language": "python",
   "name": "python3"
  },
  "language_info": {
   "codemirror_mode": {
    "name": "ipython",
    "version": 3
   },
   "file_extension": ".py",
   "mimetype": "text/x-python",
   "name": "python",
   "nbconvert_exporter": "python",
   "pygments_lexer": "ipython3",
   "version": "3.12.7"
  }
 },
 "nbformat": 4,
 "nbformat_minor": 5
}
