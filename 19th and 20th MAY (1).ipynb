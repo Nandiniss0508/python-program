{
 "cells": [
  {
   "cell_type": "code",
   "execution_count": null,
   "id": "b0e9bf72-3398-43a3-af89-2c3ea5da841a",
   "metadata": {},
   "outputs": [],
   "source": [
    "##OOP CONCEPTS\n"
   ]
  },
  {
   "cell_type": "code",
   "execution_count": 1,
   "id": "1d95e6f1-6798-4d00-8f09-57ec05f61763",
   "metadata": {},
   "outputs": [
    {
     "name": "stdout",
     "output_type": "stream",
     "text": [
      "<class 'str'>\n"
     ]
    }
   ],
   "source": [
    "a = \"hello world\"\n",
    "print(type(a))"
   ]
  },
  {
   "cell_type": "code",
   "execution_count": 2,
   "id": "3878c56b-d86d-41c1-b045-f64ce70c97e1",
   "metadata": {},
   "outputs": [
    {
     "name": "stdout",
     "output_type": "stream",
     "text": [
      "<class 'list'>\n"
     ]
    }
   ],
   "source": [
    "l = [1,2,3,4]\n",
    "print(type(l))\n"
   ]
  },
  {
   "cell_type": "code",
   "execution_count": 4,
   "id": "3d3a0efe-e7ae-4958-a5e0-ea00485eb855",
   "metadata": {},
   "outputs": [],
   "source": [
    "lists = [1,2,3,4,5,6,7]\n"
   ]
  },
  {
   "cell_type": "code",
   "execution_count": 5,
   "id": "c917994d-2d4a-495c-af60-0fc4a9df334e",
   "metadata": {},
   "outputs": [
    {
     "data": {
      "text/plain": [
       "7"
      ]
     },
     "execution_count": 5,
     "metadata": {},
     "output_type": "execute_result"
    }
   ],
   "source": [
    "len(lists)"
   ]
  },
  {
   "cell_type": "code",
   "execution_count": 7,
   "id": "b43fa9df-87a9-46fa-b3ee-66caa76e8369",
   "metadata": {},
   "outputs": [
    {
     "data": {
      "text/plain": [
       "1"
      ]
     },
     "execution_count": 7,
     "metadata": {},
     "output_type": "execute_result"
    }
   ],
   "source": [
    "min(lists)"
   ]
  },
  {
   "cell_type": "code",
   "execution_count": 9,
   "id": "d2e6e40d-f487-41c2-ab59-8a2a2597bc9f",
   "metadata": {},
   "outputs": [
    {
     "data": {
      "text/plain": [
       "7"
      ]
     },
     "execution_count": 9,
     "metadata": {},
     "output_type": "execute_result"
    }
   ],
   "source": [
    "max(lists)"
   ]
  },
  {
   "cell_type": "code",
   "execution_count": 10,
   "id": "ae1f557e-f506-43c3-ab1d-5b2428c59459",
   "metadata": {},
   "outputs": [],
   "source": [
    "lists.append(8)"
   ]
  },
  {
   "cell_type": "code",
   "execution_count": 11,
   "id": "afc353f1-f083-4dbe-a35a-05a01cf25aa8",
   "metadata": {},
   "outputs": [
    {
     "data": {
      "text/plain": [
       "[1, 2, 3, 4, 5, 6, 7, 8]"
      ]
     },
     "execution_count": 11,
     "metadata": {},
     "output_type": "execute_result"
    }
   ],
   "source": [
    "lists"
   ]
  },
  {
   "cell_type": "code",
   "execution_count": 18,
   "id": "3d3e981b-b878-4689-9c57-b1437c526d52",
   "metadata": {},
   "outputs": [
    {
     "data": {
      "text/plain": [
       "36"
      ]
     },
     "execution_count": 18,
     "metadata": {},
     "output_type": "execute_result"
    }
   ],
   "source": [
    "sum(lists)"
   ]
  },
  {
   "cell_type": "code",
   "execution_count": 75,
   "id": "a50f00d3-f246-4de5-a1cf-7b622defd863",
   "metadata": {},
   "outputs": [],
   "source": [
    "class Mobile_Phone1:\n",
    "  \n",
    "    def __init__(self,a_col,b_size,c_numc):\n",
    "        self.color = a_col\n",
    "        self.size = b_size\n",
    "        self.camera = c_numc\n",
    "    \n",
    "\n",
    "    def calling(self,call_rates):\n",
    "        print(f\"i am calling using {self.color} cell phone and with the call rate {call_rates} \")\n",
    "    "
   ]
  },
  {
   "cell_type": "code",
   "execution_count": 65,
   "id": "379bcedf-e5f1-4a0c-90bc-592cd9bf4e41",
   "metadata": {},
   "outputs": [],
   "source": [
    "samsung = Mobile_Phone1(\"maroon\",12,2)"
   ]
  },
  {
   "cell_type": "code",
   "execution_count": 66,
   "id": "0d974ec5-9318-40d6-ab08-fc6feaeade82",
   "metadata": {},
   "outputs": [],
   "source": [
    "motorolo = Mobile_Phone1(\"red\",10,1)"
   ]
  },
  {
   "cell_type": "code",
   "execution_count": 67,
   "id": "c8b03737-91c1-49d2-9ebb-7ff93810afa1",
   "metadata": {},
   "outputs": [
    {
     "data": {
      "text/plain": [
       "'maroon'"
      ]
     },
     "execution_count": 67,
     "metadata": {},
     "output_type": "execute_result"
    }
   ],
   "source": [
    "samsung.color"
   ]
  },
  {
   "cell_type": "code",
   "execution_count": 68,
   "id": "65ff2bbf-1a3f-49eb-adad-e9bd7c03c3bf",
   "metadata": {},
   "outputs": [
    {
     "data": {
      "text/plain": [
       "'red'"
      ]
     },
     "execution_count": 68,
     "metadata": {},
     "output_type": "execute_result"
    }
   ],
   "source": [
    "motorolo.color"
   ]
  },
  {
   "cell_type": "code",
   "execution_count": 69,
   "id": "6a5fd373-c93b-4b8c-8d56-0e0483719652",
   "metadata": {},
   "outputs": [
    {
     "data": {
      "text/plain": [
       "2"
      ]
     },
     "execution_count": 69,
     "metadata": {},
     "output_type": "execute_result"
    }
   ],
   "source": [
    "samsung.camera"
   ]
  },
  {
   "cell_type": "code",
   "execution_count": 70,
   "id": "9937f1d8-295a-49cf-82bf-dfccc5af78fb",
   "metadata": {},
   "outputs": [
    {
     "data": {
      "text/plain": [
       "1"
      ]
     },
     "execution_count": 70,
     "metadata": {},
     "output_type": "execute_result"
    }
   ],
   "source": [
    "motorolo.camera"
   ]
  },
  {
   "cell_type": "code",
   "execution_count": 71,
   "id": "8732a82f-ba30-4d6e-97ea-50b0f1d837ff",
   "metadata": {},
   "outputs": [
    {
     "data": {
      "text/plain": [
       "12"
      ]
     },
     "execution_count": 71,
     "metadata": {},
     "output_type": "execute_result"
    }
   ],
   "source": [
    "samsung.size"
   ]
  },
  {
   "cell_type": "code",
   "execution_count": 72,
   "id": "36fb959f-5d32-4ba8-a375-ad498cbbe0de",
   "metadata": {},
   "outputs": [
    {
     "data": {
      "text/plain": [
       "10"
      ]
     },
     "execution_count": 72,
     "metadata": {},
     "output_type": "execute_result"
    }
   ],
   "source": [
    "motorolo.size"
   ]
  },
  {
   "cell_type": "code",
   "execution_count": 76,
   "id": "052e4588-2b12-40d9-ba2b-b6f378ebac8e",
   "metadata": {},
   "outputs": [
    {
     "name": "stdout",
     "output_type": "stream",
     "text": [
      "i am calling using maroon cell phone and the call rates per second is 1 \n"
     ]
    }
   ],
   "source": [
    "samsung.calling(1)"
   ]
  },
  {
   "cell_type": "code",
   "execution_count": 77,
   "id": "7dc16417-3a2a-480d-b05f-c4837eb89aa5",
   "metadata": {},
   "outputs": [
    {
     "name": "stdout",
     "output_type": "stream",
     "text": [
      "i am calling using red cell phone and the call rates per second is 0.2 \n"
     ]
    }
   ],
   "source": [
    "motorolo.calling(0.2)"
   ]
  },
  {
   "cell_type": "code",
   "execution_count": null,
   "id": "50960941-8a04-4883-93d7-d6d884793bf0",
   "metadata": {},
   "outputs": [],
   "source": []
  },
  {
   "cell_type": "code",
   "execution_count": 117,
   "id": "259b9861-805a-441e-a9a8-e33d463faf84",
   "metadata": {},
   "outputs": [],
   "source": [
    "#ex 2\n",
    "class Person:\n",
    "    def __init__(self, a, b):\n",
    "        self.name = a \n",
    "        self.age = b    \n",
    "    def introduce(self):\n",
    "       return f\"Hello, my name is {self.name} and I am {self.age} years old.\"\n"
   ]
  },
  {
   "cell_type": "code",
   "execution_count": 118,
   "id": "f9997f1e-0869-41e3-aa2a-c13040d576ce",
   "metadata": {},
   "outputs": [],
   "source": [
    "person1 = Person(\"bob\",23)"
   ]
  },
  {
   "cell_type": "code",
   "execution_count": 119,
   "id": "1e53e1ee-2260-4072-9192-5af9e09cbc54",
   "metadata": {},
   "outputs": [],
   "source": [
    "person2 = Person(\"rosy\",21)"
   ]
  },
  {
   "cell_type": "code",
   "execution_count": 120,
   "id": "99fe5706-45ae-4a39-b5d8-0b432a325af3",
   "metadata": {},
   "outputs": [
    {
     "data": {
      "text/plain": [
       "'bob'"
      ]
     },
     "execution_count": 120,
     "metadata": {},
     "output_type": "execute_result"
    }
   ],
   "source": [
    "person1.name"
   ]
  },
  {
   "cell_type": "code",
   "execution_count": 121,
   "id": "50e2845b-5394-477f-a32f-9e0cbd6a8f9f",
   "metadata": {},
   "outputs": [
    {
     "data": {
      "text/plain": [
       "23"
      ]
     },
     "execution_count": 121,
     "metadata": {},
     "output_type": "execute_result"
    }
   ],
   "source": [
    "person1.age"
   ]
  },
  {
   "cell_type": "code",
   "execution_count": 122,
   "id": "7ced3b4e-d765-4bca-a8b5-fe19a2b92b7c",
   "metadata": {},
   "outputs": [
    {
     "data": {
      "text/plain": [
       "'rosy'"
      ]
     },
     "execution_count": 122,
     "metadata": {},
     "output_type": "execute_result"
    }
   ],
   "source": [
    "person2.name"
   ]
  },
  {
   "cell_type": "code",
   "execution_count": 123,
   "id": "af0cd1ab-ec9b-4af4-8752-6ac91408a75b",
   "metadata": {},
   "outputs": [
    {
     "data": {
      "text/plain": [
       "21"
      ]
     },
     "execution_count": 123,
     "metadata": {},
     "output_type": "execute_result"
    }
   ],
   "source": [
    "person2.age"
   ]
  },
  {
   "cell_type": "code",
   "execution_count": 124,
   "id": "7c8e9992-cfc8-4a81-9d12-902bc6ffe92a",
   "metadata": {},
   "outputs": [
    {
     "data": {
      "text/plain": [
       "'Hello, my name is bob and I am 23 years old.'"
      ]
     },
     "execution_count": 124,
     "metadata": {},
     "output_type": "execute_result"
    }
   ],
   "source": [
    "person1.introduce()"
   ]
  },
  {
   "cell_type": "code",
   "execution_count": 125,
   "id": "f542edd5-1eb6-4258-bd00-9c52b1978fe3",
   "metadata": {},
   "outputs": [
    {
     "data": {
      "text/plain": [
       "'Hello, my name is rosy and I am 21 years old.'"
      ]
     },
     "execution_count": 125,
     "metadata": {},
     "output_type": "execute_result"
    }
   ],
   "source": [
    "person2.introduce()"
   ]
  },
  {
   "cell_type": "code",
   "execution_count": 126,
   "id": "18eb4350-8b2d-46d8-98eb-f1a1e994f2b7",
   "metadata": {},
   "outputs": [],
   "source": []
  },
  {
   "cell_type": "code",
   "execution_count": 127,
   "id": "1d4ecfdc-d4a9-40a7-b2e6-e3a8206a25d8",
   "metadata": {},
   "outputs": [],
   "source": []
  },
  {
   "cell_type": "code",
   "execution_count": null,
   "id": "278ae358-d27f-44a5-a965-ad9ccacd6373",
   "metadata": {},
   "outputs": [],
   "source": [
    "##20th"
   ]
  },
  {
   "cell_type": "code",
   "execution_count": 151,
   "id": "032ce9c9-0969-40a9-b92a-a10dbfc4b17f",
   "metadata": {},
   "outputs": [],
   "source": [
    "class MyList:\n",
    "    def __init__(self):\n",
    "        self.items=[]\n",
    "    def append(self,item):\n",
    "        self.items.append(item)\n",
    "    def remove(self,item):\n",
    "        if item in self.items:\n",
    "            self.items.remove(item)\n",
    "        else:\n",
    "            print(f\"{item} not found in the list\")\n",
    "    def display(self):\n",
    "        print(self.items)\n",
    "    def size(self):\n",
    "        return len(self.items)"
   ]
  },
  {
   "cell_type": "code",
   "execution_count": 152,
   "id": "dfa7150f-ac30-4326-a544-020cb6b52420",
   "metadata": {},
   "outputs": [],
   "source": [
    "l = MyList()\n"
   ]
  },
  {
   "cell_type": "code",
   "execution_count": 153,
   "id": "4f73ba9d-f011-4773-bf2c-86e7a470e9c5",
   "metadata": {},
   "outputs": [],
   "source": [
    "l.append(1)\n",
    "l.append(2)\n",
    "l.append(3)"
   ]
  },
  {
   "cell_type": "code",
   "execution_count": 154,
   "id": "105f2786-bce1-464a-b92c-0809d410b42b",
   "metadata": {},
   "outputs": [
    {
     "name": "stdout",
     "output_type": "stream",
     "text": [
      "[1, 2, 3]\n"
     ]
    }
   ],
   "source": [
    "l.display()\n"
   ]
  },
  {
   "cell_type": "code",
   "execution_count": 155,
   "id": "97540769-9ef5-4006-9856-0255a1625f5b",
   "metadata": {},
   "outputs": [],
   "source": [
    "l.remove(2)"
   ]
  },
  {
   "cell_type": "code",
   "execution_count": 156,
   "id": "ae605c25-7d28-44bc-9abe-bc56b3533268",
   "metadata": {},
   "outputs": [
    {
     "name": "stdout",
     "output_type": "stream",
     "text": [
      "[1, 3]\n"
     ]
    }
   ],
   "source": [
    "l.display()"
   ]
  },
  {
   "cell_type": "code",
   "execution_count": 157,
   "id": "4fe7a82d-77ae-4185-b5ac-8ba39a6b3f35",
   "metadata": {},
   "outputs": [
    {
     "name": "stdout",
     "output_type": "stream",
     "text": [
      "9 not found in the list\n"
     ]
    }
   ],
   "source": [
    "l.remove(9)"
   ]
  },
  {
   "cell_type": "code",
   "execution_count": 158,
   "id": "9a4984d4-a277-4c5a-a78e-f0d1614ddc3d",
   "metadata": {},
   "outputs": [
    {
     "data": {
      "text/plain": [
       "2"
      ]
     },
     "execution_count": 158,
     "metadata": {},
     "output_type": "execute_result"
    }
   ],
   "source": [
    "l.size()"
   ]
  },
  {
   "cell_type": "code",
   "execution_count": 15,
   "id": "512730d6-c3e4-4aaa-89fe-0a42c9b3d181",
   "metadata": {},
   "outputs": [
    {
     "data": {
      "text/plain": [
       "4"
      ]
     },
     "execution_count": 15,
     "metadata": {},
     "output_type": "execute_result"
    }
   ],
   "source": [
    "class car:\n",
    "    wheels=4\n",
    "    def __init__(self,make,model):\n",
    "       self.make=make\n",
    "       self.model=model\n",
    "\n",
    "    @classmethod\n",
    "    def set_wheels(cls,number):\n",
    "       cls.wheels = number\n",
    "    def car_info(self):\n",
    "       return f\"{self.make} {self.model} has {cls.wheels} wheels\"\n",
    "\n",
    "car1 = car(\"toyoto\",\"corolla\")\n",
    "car1.wheels"
   ]
  },
  {
   "cell_type": "code",
   "execution_count": 20,
   "id": "fb343726-3306-4c06-bfc7-33b430b3b707",
   "metadata": {},
   "outputs": [
    {
     "name": "stdin",
     "output_type": "stream",
     "text": [
      "enter the number qw\n"
     ]
    },
    {
     "name": "stdout",
     "output_type": "stream",
     "text": [
      "OOpS! that was not a valid number\n"
     ]
    }
   ],
   "source": [
    "# Exception handling\n",
    "\n",
    "try:\n",
    "    value=int(input(\"enter the number\"))\n",
    "    print(\"you entered:\",value)\n",
    "except ValueError:\n",
    "    print(\"OOpS! that was not a valid number\")\n",
    "    "
   ]
  },
  {
   "cell_type": "code",
   "execution_count": 21,
   "id": "4e9e8124-35ac-47c6-aad4-e550fb924ef8",
   "metadata": {},
   "outputs": [
    {
     "name": "stdin",
     "output_type": "stream",
     "text": [
      "enter a number 4\n"
     ]
    },
    {
     "name": "stdout",
     "output_type": "stream",
     "text": [
      "result is 2.5\n"
     ]
    }
   ],
   "source": [
    "try:\n",
    "    x=int(input(\"enter a number\"))\n",
    "    result=10/x\n",
    "    print(\"result is\",result)\n",
    "except ValueError:\n",
    "    print(\"that was not a number\")\n",
    "except ZeroDivisionError:\n",
    "    print(\"you cannot divide by zero\")\n",
    "\n"
   ]
  },
  {
   "cell_type": "code",
   "execution_count": 22,
   "id": "a5b2ca4c-7099-4466-91a0-449e8bab24e1",
   "metadata": {},
   "outputs": [
    {
     "name": "stdin",
     "output_type": "stream",
     "text": [
      "enter a number oop\n"
     ]
    },
    {
     "name": "stdout",
     "output_type": "stream",
     "text": [
      "that was not a number\n"
     ]
    }
   ],
   "source": [
    "try:\n",
    "    x=int(input(\"enter a number\"))\n",
    "    result=10/x\n",
    "    print(\"result is\",result)\n",
    "except ValueError:\n",
    "    print(\"that was not a number\")\n",
    "except ZeroDivisionError:\n",
    "    print(\"you cannot divide by zero\")\n"
   ]
  },
  {
   "cell_type": "code",
   "execution_count": 23,
   "id": "148b8c63-e3a9-44d7-8e2c-f2b9f4cde280",
   "metadata": {},
   "outputs": [
    {
     "name": "stdin",
     "output_type": "stream",
     "text": [
      "enter a number 0\n"
     ]
    },
    {
     "name": "stdout",
     "output_type": "stream",
     "text": [
      "you cannot divide by zero\n"
     ]
    }
   ],
   "source": [
    "try:\n",
    "    x=int(input(\"enter a number\"))\n",
    "    result=10/x\n",
    "    print(\"result is\",result)\n",
    "except ValueError:\n",
    "    print(\"that was not a number\")\n",
    "except ZeroDivisionError:\n",
    "    print(\"you cannot divide by zero\")\n"
   ]
  },
  {
   "cell_type": "code",
   "execution_count": 27,
   "id": "09a926b3-d6d5-4aeb-9f35-c0c11c9f44a4",
   "metadata": {},
   "outputs": [
    {
     "name": "stdout",
     "output_type": "stream",
     "text": [
      "result is 5.0\n",
      "this block runs no matter what\n"
     ]
    }
   ],
   "source": [
    "try:\n",
    "    x=10\n",
    "    y=2\n",
    "    result=x/y\n",
    "except ZeroDivisionError:\n",
    "    print(\"cannot dicide by zero\")\n",
    "else:\n",
    "    print(\"result is\",result)\n",
    "finally:\n",
    "    print(\"this block runs no matter what\")\n",
    "    "
   ]
  },
  {
   "cell_type": "code",
   "execution_count": 28,
   "id": "4131e002-ca94-4e55-9da7-a1c579d7759b",
   "metadata": {},
   "outputs": [],
   "source": [
    "class NegativeAgeError(Exception):\n",
    "    pass\n",
    "def validate_age(age):\n",
    "    if age<0:\n",
    "        raise NegativeAgeError(\"age cannot be negative\")\n",
    "    else:\n",
    "        print(\"valid age\",age)\n",
    "        "
   ]
  },
  {
   "cell_type": "code",
   "execution_count": 33,
   "id": "9d1b38ca-dad5-4bd6-8ad6-2fdfd2c55c30",
   "metadata": {},
   "outputs": [
    {
     "name": "stdout",
     "output_type": "stream",
     "text": [
      "customer exception caught: age cannot be negative\n"
     ]
    }
   ],
   "source": [
    "#test\n",
    "try:\n",
    " validate_age(-5)\n",
    "except NegativeAgeError as e:\n",
    " print(\"customer exception caught:\",e)"
   ]
  },
  {
   "cell_type": "code",
   "execution_count": 51,
   "id": "d6d44cf2-5041-4370-a084-253faff816ce",
   "metadata": {},
   "outputs": [
    {
     "name": "stdin",
     "output_type": "stream",
     "text": [
      "enter amount to withdraw: 500\n"
     ]
    },
    {
     "name": "stdout",
     "output_type": "stream",
     "text": [
      "withdrawl successfull! remaining balance:500\n"
     ]
    }
   ],
   "source": [
    "class InsufficientFundsError(Exception):\n",
    "    pass\n",
    "    balance=1000\n",
    "    try:\n",
    "       amount = int(input(\"enter amount to withdraw:\"))\n",
    "       if amount>balance:\n",
    "         raise InsufficientFundsError(\"you dont have enough money\")\n",
    "       else:\n",
    "         balance-=amount\n",
    "         print(f\"withdrawl successfull! remaining balance:{balance}\")\n",
    "\n",
    "    except InsufficientFundsError as e:\n",
    "        print(\"customer error:\",e)\n",
    "\n",
    "    except ValueError:\n",
    "         print(\"please entre the valid number\")\n",
    "\n",
    "\n"
   ]
  },
  {
   "cell_type": "code",
   "execution_count": 52,
   "id": "cbf74765-1c76-4169-8ed2-0e934b283ed3",
   "metadata": {},
   "outputs": [
    {
     "name": "stdin",
     "output_type": "stream",
     "text": [
      "enter amount to withdraw: 1222\n"
     ]
    },
    {
     "name": "stdout",
     "output_type": "stream",
     "text": [
      "customer error: you dont have enough money\n"
     ]
    }
   ],
   "source": [
    "class InsufficientFundsError(Exception):\n",
    "    pass\n",
    "    balance=1000\n",
    "    try:\n",
    "       amount = int(input(\"enter amount to withdraw:\"))\n",
    "       if amount>balance:\n",
    "         raise InsufficientFundsError(\"you dont have enough money\")\n",
    "       else:\n",
    "         balance-=amount\n",
    "         print(f\"withdrawl successfull! remaining balance:{balance}\")\n",
    "\n",
    "    except InsufficientFundsError as e:\n",
    "        print(\"customer error:\",e)\n",
    "\n",
    "    except ValueError:\n",
    "         print(\"please entre the valid number\")\n"
   ]
  },
  {
   "cell_type": "code",
   "execution_count": 53,
   "id": "b33dbbe2-48b6-4105-956d-6ede4ec1542e",
   "metadata": {},
   "outputs": [
    {
     "name": "stdin",
     "output_type": "stream",
     "text": [
      "enter amount to withdraw: 8uh\n"
     ]
    },
    {
     "name": "stdout",
     "output_type": "stream",
     "text": [
      "please entre the valid number\n"
     ]
    }
   ],
   "source": [
    "class InsufficientFundsError(Exception):\n",
    "    pass\n",
    "    balance=1000\n",
    "    try:\n",
    "       amount = int(input(\"enter amount to withdraw:\"))\n",
    "       if amount>balance:\n",
    "         raise InsufficientFundsError(\"you dont have enough money\")\n",
    "       else:\n",
    "         balance-=amount\n",
    "         print(f\"withdrawl successfull! remaining balance:{balance}\")\n",
    "\n",
    "    except InsufficientFundsError as e:\n",
    "        print(\"customer error:\",e)\n",
    "\n",
    "    except ValueError:\n",
    "         print(\"please entre the valid number\")\n"
   ]
  },
  {
   "cell_type": "code",
   "execution_count": 36,
   "id": "88e01f37-2549-47e8-85f3-0477b69c42d1",
   "metadata": {},
   "outputs": [],
   "source": [
    "class Mobile_Phone:\n",
    "  \n",
    "    def __init__(self,a_col,b_size,c_numc):\n",
    "        self.color = a_col\n",
    "        self.size = b_size\n",
    "        self.camera = c_numc\n",
    "    \n",
    "\n",
    "    def calling(self,call_rates):\n",
    "        print(f\"i am calling using {self.color} cell phone and the call rates per second is {call_rates} \")\n",
    "    "
   ]
  },
  {
   "cell_type": "code",
   "execution_count": 37,
   "id": "378c020b-5921-4c46-a192-6c7afe4e62e8",
   "metadata": {},
   "outputs": [],
   "source": [
    "samsung = Mobile_Phone(\"red\",10,2)"
   ]
  },
  {
   "cell_type": "code",
   "execution_count": 38,
   "id": "7078b05f-c615-44d5-aaec-7c62af4f943e",
   "metadata": {},
   "outputs": [
    {
     "data": {
      "text/plain": [
       "'red'"
      ]
     },
     "execution_count": 38,
     "metadata": {},
     "output_type": "execute_result"
    }
   ],
   "source": [
    "samsung.color"
   ]
  },
  {
   "cell_type": "code",
   "execution_count": 39,
   "id": "097fa97f-89e7-421d-99e3-a3a5dfdbb38f",
   "metadata": {},
   "outputs": [
    {
     "data": {
      "text/plain": [
       "2"
      ]
     },
     "execution_count": 39,
     "metadata": {},
     "output_type": "execute_result"
    }
   ],
   "source": [
    "samsung.camera"
   ]
  },
  {
   "cell_type": "code",
   "execution_count": 40,
   "id": "60971277-9085-4709-8071-e108261955e4",
   "metadata": {},
   "outputs": [
    {
     "data": {
      "text/plain": [
       "10"
      ]
     },
     "execution_count": 40,
     "metadata": {},
     "output_type": "execute_result"
    }
   ],
   "source": [
    "samsung.size"
   ]
  },
  {
   "cell_type": "code",
   "execution_count": 41,
   "id": "02f1c7b0-8dbe-401b-8c7d-bd3b3ed879df",
   "metadata": {},
   "outputs": [],
   "source": [
    "motorolo = Mobile_Phone(\"green\",12,1)"
   ]
  },
  {
   "cell_type": "code",
   "execution_count": 42,
   "id": "3a56d537-0577-4e03-8bc1-81ea66ea8b29",
   "metadata": {},
   "outputs": [
    {
     "data": {
      "text/plain": [
       "'green'"
      ]
     },
     "execution_count": 42,
     "metadata": {},
     "output_type": "execute_result"
    }
   ],
   "source": [
    "motorolo.color"
   ]
  },
  {
   "cell_type": "code",
   "execution_count": 43,
   "id": "37fc483c-5b19-4ce6-825a-4aea0ddc3e3e",
   "metadata": {},
   "outputs": [
    {
     "data": {
      "text/plain": [
       "12"
      ]
     },
     "execution_count": 43,
     "metadata": {},
     "output_type": "execute_result"
    }
   ],
   "source": [
    "motorolo.size"
   ]
  },
  {
   "cell_type": "code",
   "execution_count": 44,
   "id": "c34f8f27-bb88-464b-b768-2bed8f999fbf",
   "metadata": {},
   "outputs": [
    {
     "data": {
      "text/plain": [
       "1"
      ]
     },
     "execution_count": 44,
     "metadata": {},
     "output_type": "execute_result"
    }
   ],
   "source": [
    "motorolo.camera"
   ]
  },
  {
   "cell_type": "code",
   "execution_count": null,
   "id": "3f90736d-7358-497c-9506-9476812e91ae",
   "metadata": {},
   "outputs": [],
   "source": []
  }
 ],
 "metadata": {
  "kernelspec": {
   "display_name": "Python 3 (ipykernel)",
   "language": "python",
   "name": "python3"
  },
  "language_info": {
   "codemirror_mode": {
    "name": "ipython",
    "version": 3
   },
   "file_extension": ".py",
   "mimetype": "text/x-python",
   "name": "python",
   "nbconvert_exporter": "python",
   "pygments_lexer": "ipython3",
   "version": "3.12.7"
  }
 },
 "nbformat": 4,
 "nbformat_minor": 5
}
