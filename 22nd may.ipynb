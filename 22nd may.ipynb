{
 "cells": [
  {
   "cell_type": "code",
   "execution_count": 2,
   "id": "8efe9ef0-4fbe-4562-a476-e95b5bb4f3c7",
   "metadata": {},
   "outputs": [
    {
     "data": {
      "text/plain": [
       "array([[1., 1., 1., 1.],\n",
       "       [1., 1., 1., 1.],\n",
       "       [1., 1., 1., 1.]])"
      ]
     },
     "execution_count": 2,
     "metadata": {},
     "output_type": "execute_result"
    }
   ],
   "source": [
    "import numpy as np\n",
    "a33 = np.ones((3,4))\n",
    "\n",
    "a33"
   ]
  },
  {
   "cell_type": "code",
   "execution_count": 3,
   "id": "f88c74f2-34b0-4fad-a383-41fe83fd0e37",
   "metadata": {},
   "outputs": [
    {
     "data": {
      "text/plain": [
       "numpy.ndarray"
      ]
     },
     "execution_count": 3,
     "metadata": {},
     "output_type": "execute_result"
    }
   ],
   "source": [
    "type(a33)"
   ]
  },
  {
   "cell_type": "code",
   "execution_count": 9,
   "id": "f6f99b66-fcb4-4870-abb9-760cfffb4e53",
   "metadata": {},
   "outputs": [],
   "source": [
    "a44 = np.zeros((2,4))"
   ]
  },
  {
   "cell_type": "code",
   "execution_count": 10,
   "id": "415c6138-409b-46b2-bcb3-f100516fe3b3",
   "metadata": {},
   "outputs": [
    {
     "data": {
      "text/plain": [
       "array([[0., 0., 0., 0.],\n",
       "       [0., 0., 0., 0.]])"
      ]
     },
     "execution_count": 10,
     "metadata": {},
     "output_type": "execute_result"
    }
   ],
   "source": [
    "a44"
   ]
  },
  {
   "cell_type": "code",
   "execution_count": 11,
   "id": "8fbb32da-dc8b-486b-a879-e71a008b544e",
   "metadata": {},
   "outputs": [
    {
     "data": {
      "text/plain": [
       "numpy.ndarray"
      ]
     },
     "execution_count": 11,
     "metadata": {},
     "output_type": "execute_result"
    }
   ],
   "source": [
    "type(a44)"
   ]
  },
  {
   "cell_type": "code",
   "execution_count": 12,
   "id": "ebd3ad91-170a-4f02-bc92-f9c82b3fd336",
   "metadata": {},
   "outputs": [],
   "source": [
    "identity_mat = np.eye(3)"
   ]
  },
  {
   "cell_type": "code",
   "execution_count": 13,
   "id": "85030f22-0de7-4376-9cde-c41680b3c782",
   "metadata": {},
   "outputs": [
    {
     "data": {
      "text/plain": [
       "array([[1., 0., 0.],\n",
       "       [0., 1., 0.],\n",
       "       [0., 0., 1.]])"
      ]
     },
     "execution_count": 13,
     "metadata": {},
     "output_type": "execute_result"
    }
   ],
   "source": [
    "identity_mat"
   ]
  },
  {
   "cell_type": "code",
   "execution_count": 15,
   "id": "4bc864ee-7f36-41e1-96a3-17e1f26f38de",
   "metadata": {},
   "outputs": [],
   "source": [
    "identity_mat1 = np.eye(2)"
   ]
  },
  {
   "cell_type": "code",
   "execution_count": 16,
   "id": "d5ef71fe-c2c0-4e2d-a366-508622cde1dd",
   "metadata": {},
   "outputs": [
    {
     "data": {
      "text/plain": [
       "array([[1., 0.],\n",
       "       [0., 1.]])"
      ]
     },
     "execution_count": 16,
     "metadata": {},
     "output_type": "execute_result"
    }
   ],
   "source": [
    "identity_mat1"
   ]
  },
  {
   "cell_type": "code",
   "execution_count": 20,
   "id": "ab33e24b-d9aa-49b1-85c3-c83fa4ad3685",
   "metadata": {},
   "outputs": [
    {
     "data": {
      "text/plain": [
       "array([1, 2, 3, 4])"
      ]
     },
     "execution_count": 20,
     "metadata": {},
     "output_type": "execute_result"
    }
   ],
   "source": [
    "lists = [1,2,3,4]\n",
    "np.array(lists,dtype=np.int32)\n"
   ]
  },
  {
   "cell_type": "code",
   "execution_count": 23,
   "id": "b4ebe022-4f91-4e3a-8b48-a0193cb4e83c",
   "metadata": {},
   "outputs": [],
   "source": [
    "int_array = np.array([1,2,3],dtype=np.int32)\n",
    "float_array = np.array([0.1,0.2,0.3],dtype=np.float64)"
   ]
  },
  {
   "cell_type": "code",
   "execution_count": 24,
   "id": "57dd65a7-298a-4147-91c7-a1ab7c13284d",
   "metadata": {},
   "outputs": [
    {
     "data": {
      "text/plain": [
       "array([1, 2, 3])"
      ]
     },
     "execution_count": 24,
     "metadata": {},
     "output_type": "execute_result"
    }
   ],
   "source": [
    "int_array"
   ]
  },
  {
   "cell_type": "code",
   "execution_count": 25,
   "id": "8355a635-107b-429d-9077-2544f343d7f3",
   "metadata": {},
   "outputs": [
    {
     "data": {
      "text/plain": [
       "array([0.1, 0.2, 0.3])"
      ]
     },
     "execution_count": 25,
     "metadata": {},
     "output_type": "execute_result"
    }
   ],
   "source": [
    "float_array"
   ]
  },
  {
   "cell_type": "code",
   "execution_count": 26,
   "id": "209e89bf-20aa-4d88-8da9-99c71530ce0a",
   "metadata": {},
   "outputs": [
    {
     "data": {
      "text/plain": [
       "array([ 0.,  2.,  4.,  6.,  8., 10.])"
      ]
     },
     "execution_count": 26,
     "metadata": {},
     "output_type": "execute_result"
    }
   ],
   "source": [
    "linspace_array_1 = np.linspace(0,10,6)\n",
    "linspace_array_1"
   ]
  },
  {
   "cell_type": "code",
   "execution_count": 27,
   "id": "ffd4237d-0d16-4447-9cd1-aa0c263ae05c",
   "metadata": {},
   "outputs": [
    {
     "data": {
      "text/plain": [
       "array([ 0.,  2.,  4.,  6.,  8., 10.])"
      ]
     },
     "execution_count": 27,
     "metadata": {},
     "output_type": "execute_result"
    }
   ],
   "source": [
    "# linspace arrays\n",
    "linspace_array_2 = np.linspace(0,10,6)\n",
    "linspace_array_2"
   ]
  },
  {
   "cell_type": "code",
   "execution_count": 29,
   "id": "da5368be-911a-487d-bdb6-ed9f28c36414",
   "metadata": {},
   "outputs": [
    {
     "data": {
      "text/plain": [
       "array([[0.35448928, 0.89255881, 0.79392521, 0.4419399 ],\n",
       "       [0.85950616, 0.05594201, 0.51528699, 0.85979787],\n",
       "       [0.91894771, 0.06883881, 0.0090885 , 0.88181365],\n",
       "       [0.51355143, 0.96992036, 0.47978821, 0.73168255]])"
      ]
     },
     "execution_count": 29,
     "metadata": {},
     "output_type": "execute_result"
    }
   ],
   "source": [
    "# random arrays\n",
    "random_array = np.random.rand(4,4)\n",
    "random_array"
   ]
  },
  {
   "cell_type": "code",
   "execution_count": 31,
   "id": "12ce8269-6391-41ed-bd81-0373d69c3111",
   "metadata": {},
   "outputs": [
    {
     "name": "stdout",
     "output_type": "stream",
     "text": [
      "10\n",
      "20\n",
      "40\n"
     ]
    }
   ],
   "source": [
    "#  basic indexing\n",
    "arr = np.array([10,20,30,40])\n",
    "print(arr[0])\n",
    "print(arr[1])\n",
    "print(arr[-1])"
   ]
  },
  {
   "cell_type": "code",
   "execution_count": 32,
   "id": "0d93db42-5b12-40f7-b3bb-15fcf089832b",
   "metadata": {},
   "outputs": [
    {
     "data": {
      "text/plain": [
       "2"
      ]
     },
     "execution_count": 32,
     "metadata": {},
     "output_type": "execute_result"
    }
   ],
   "source": [
    "matrix = np.array([[1,2,3],[4,5,6]])\n",
    "matrix[0,1]"
   ]
  },
  {
   "cell_type": "code",
   "execution_count": 33,
   "id": "0fc84f7a-badf-4de7-b9cd-b8d272c8a757",
   "metadata": {},
   "outputs": [
    {
     "data": {
      "text/plain": [
       "6"
      ]
     },
     "execution_count": 33,
     "metadata": {},
     "output_type": "execute_result"
    }
   ],
   "source": [
    "matrix[1,2]"
   ]
  },
  {
   "cell_type": "code",
   "execution_count": 36,
   "id": "59cf940c-8e9f-47eb-90fa-8e3306890c07",
   "metadata": {},
   "outputs": [
    {
     "data": {
      "text/plain": [
       "5"
      ]
     },
     "execution_count": 36,
     "metadata": {},
     "output_type": "execute_result"
    }
   ],
   "source": [
    "matrix[1,1]"
   ]
  },
  {
   "cell_type": "code",
   "execution_count": 40,
   "id": "6e4f1c18-2245-41e6-9add-64ffe37bae94",
   "metadata": {},
   "outputs": [
    {
     "name": "stdout",
     "output_type": "stream",
     "text": [
      "[20 30 40]\n",
      "[10 20 30]\n",
      "[10 30 50]\n",
      "[50 40 30 20 10]\n"
     ]
    }
   ],
   "source": [
    "# array slicing [start]:end:step]\n",
    "arr = np.array([10,20,30,40,50])\n",
    "print(arr[1:4])\n",
    "print(arr[ :3])\n",
    "print(arr[ ::2])\n",
    "print(arr[ ::-1])"
   ]
  },
  {
   "cell_type": "code",
   "execution_count": 57,
   "id": "cef6ff40-675c-4cf5-a69b-6567be9c4299",
   "metadata": {},
   "outputs": [
    {
     "data": {
      "text/plain": [
       "array([[1, 2, 3],\n",
       "       [4, 5, 6],\n",
       "       [7, 8, 9]])"
      ]
     },
     "execution_count": 57,
     "metadata": {},
     "output_type": "execute_result"
    }
   ],
   "source": [
    "mat = np.array([[1,2,3],[4,5,6],[7,8,9]])\n",
    "mat\n"
   ]
  },
  {
   "cell_type": "code",
   "execution_count": 80,
   "id": "86cebbd7-c902-4353-bb15-6beda566421b",
   "metadata": {},
   "outputs": [
    {
     "data": {
      "text/plain": [
       "array([[2, 3],\n",
       "       [5, 6]])"
      ]
     },
     "execution_count": 80,
     "metadata": {},
     "output_type": "execute_result"
    }
   ],
   "source": [
    "mat[0:2,1:3]"
   ]
  },
  {
   "cell_type": "code",
   "execution_count": 81,
   "id": "c11b226c-1736-4b2e-b340-26929563bf6a",
   "metadata": {},
   "outputs": [
    {
     "data": {
      "text/plain": [
       "array([[8]])"
      ]
     },
     "execution_count": 81,
     "metadata": {},
     "output_type": "execute_result"
    }
   ],
   "source": [
    "mat[2:3,1:2]"
   ]
  },
  {
   "cell_type": "code",
   "execution_count": 50,
   "id": "c266c0c0-d1c1-4ecf-a5fc-a5119f0da29c",
   "metadata": {},
   "outputs": [],
   "source": [
    "# view\n",
    "a = np.array([1,2,3,4])\n",
    "b = a[1:3]"
   ]
  },
  {
   "cell_type": "code",
   "execution_count": 51,
   "id": "861dccf8-506a-4b69-8bbb-5324b324b1c4",
   "metadata": {},
   "outputs": [
    {
     "data": {
      "text/plain": [
       "array([2, 3])"
      ]
     },
     "execution_count": 51,
     "metadata": {},
     "output_type": "execute_result"
    }
   ],
   "source": [
    "b"
   ]
  },
  {
   "cell_type": "code",
   "execution_count": 52,
   "id": "299f9fcf-178d-4ca1-a619-7eb36fbe5951",
   "metadata": {},
   "outputs": [
    {
     "data": {
      "text/plain": [
       "array([1, 2, 3, 4])"
      ]
     },
     "execution_count": 52,
     "metadata": {},
     "output_type": "execute_result"
    }
   ],
   "source": [
    "a"
   ]
  },
  {
   "cell_type": "code",
   "execution_count": 54,
   "id": "6be8476b-ac76-481f-aef9-e6eecfc6a799",
   "metadata": {},
   "outputs": [
    {
     "data": {
      "text/plain": [
       "array([99,  3])"
      ]
     },
     "execution_count": 54,
     "metadata": {},
     "output_type": "execute_result"
    }
   ],
   "source": [
    "b[0] = 99\n",
    "b"
   ]
  },
  {
   "cell_type": "code",
   "execution_count": 55,
   "id": "96ab1645-bd0d-43d6-902a-b8a845979626",
   "metadata": {},
   "outputs": [
    {
     "data": {
      "text/plain": [
       "array([ 1, 99,  3,  4])"
      ]
     },
     "execution_count": 55,
     "metadata": {},
     "output_type": "execute_result"
    }
   ],
   "source": [
    "a\n"
   ]
  },
  {
   "cell_type": "code",
   "execution_count": 63,
   "id": "3c5e9b0f-934d-4280-95fa-099519d956c4",
   "metadata": {},
   "outputs": [
    {
     "name": "stdout",
     "output_type": "stream",
     "text": [
      "[1 2 3 4]\n"
     ]
    }
   ],
   "source": [
    "# copy()\n",
    "a = np.array([1,2,3,4])\n",
    "b = a[1:3].copy()\n",
    "b[0] =99\n",
    "print(a)"
   ]
  },
  {
   "cell_type": "code",
   "execution_count": 66,
   "id": "d5b9070b-6a24-43f5-b9da-37be3b49cf99",
   "metadata": {},
   "outputs": [
    {
     "data": {
      "text/plain": [
       "(2, 3)"
      ]
     },
     "execution_count": 66,
     "metadata": {},
     "output_type": "execute_result"
    }
   ],
   "source": [
    "# shape\n",
    "arr = np.array([[1,2,3],[4,5,6]])\n",
    "arr.shape"
   ]
  },
  {
   "cell_type": "code",
   "execution_count": 67,
   "id": "c8498c65-a11a-4fc0-9f0a-6cb79cb84f95",
   "metadata": {},
   "outputs": [
    {
     "data": {
      "text/plain": [
       "(3, 3)"
      ]
     },
     "execution_count": 67,
     "metadata": {},
     "output_type": "execute_result"
    }
   ],
   "source": [
    "arr = np.array([[1,2,3],[4,5,6],[7,8,9]])\n",
    "arr.shape"
   ]
  },
  {
   "cell_type": "code",
   "execution_count": 69,
   "id": "28ebca31-c421-4d2f-99b7-5e2c88b22ba7",
   "metadata": {},
   "outputs": [],
   "source": [
    "# arange\n",
    "a = np.arange(12)"
   ]
  },
  {
   "cell_type": "code",
   "execution_count": 70,
   "id": "60be90fb-4996-4fb6-8a53-b04e61ebe99a",
   "metadata": {},
   "outputs": [
    {
     "data": {
      "text/plain": [
       "array([ 0,  1,  2,  3,  4,  5,  6,  7,  8,  9, 10, 11])"
      ]
     },
     "execution_count": 70,
     "metadata": {},
     "output_type": "execute_result"
    }
   ],
   "source": [
    "a "
   ]
  },
  {
   "cell_type": "code",
   "execution_count": 71,
   "id": "1cde388a-c71b-4581-9c7d-596afc2d7eea",
   "metadata": {},
   "outputs": [],
   "source": [
    "# reshape\n",
    "b = a.reshape(3,4)"
   ]
  },
  {
   "cell_type": "code",
   "execution_count": 72,
   "id": "1cbda67f-3987-4dd2-85ba-12f94120d81b",
   "metadata": {},
   "outputs": [
    {
     "data": {
      "text/plain": [
       "array([[ 0,  1,  2,  3],\n",
       "       [ 4,  5,  6,  7],\n",
       "       [ 8,  9, 10, 11]])"
      ]
     },
     "execution_count": 72,
     "metadata": {},
     "output_type": "execute_result"
    }
   ],
   "source": [
    "b"
   ]
  },
  {
   "cell_type": "code",
   "execution_count": 73,
   "id": "b0bfd13b-570c-420c-9513-2e10b6361176",
   "metadata": {},
   "outputs": [],
   "source": [
    "b1 = a.reshape(12,1)"
   ]
  },
  {
   "cell_type": "code",
   "execution_count": 74,
   "id": "584d86b0-917c-4257-91a9-99fd93c24272",
   "metadata": {},
   "outputs": [
    {
     "data": {
      "text/plain": [
       "array([[ 0],\n",
       "       [ 1],\n",
       "       [ 2],\n",
       "       [ 3],\n",
       "       [ 4],\n",
       "       [ 5],\n",
       "       [ 6],\n",
       "       [ 7],\n",
       "       [ 8],\n",
       "       [ 9],\n",
       "       [10],\n",
       "       [11]])"
      ]
     },
     "execution_count": 74,
     "metadata": {},
     "output_type": "execute_result"
    }
   ],
   "source": [
    "b1"
   ]
  },
  {
   "cell_type": "code",
   "execution_count": 75,
   "id": "d605a5c3-bbe0-48a9-a742-07cff36ca4fa",
   "metadata": {},
   "outputs": [],
   "source": [
    "b2 = a.reshape(2,6)"
   ]
  },
  {
   "cell_type": "code",
   "execution_count": 76,
   "id": "6935ec9e-beba-4ee9-ba04-c8f47a0b672c",
   "metadata": {},
   "outputs": [
    {
     "data": {
      "text/plain": [
       "array([[ 0,  1,  2,  3,  4,  5],\n",
       "       [ 6,  7,  8,  9, 10, 11]])"
      ]
     },
     "execution_count": 76,
     "metadata": {},
     "output_type": "execute_result"
    }
   ],
   "source": [
    "b2"
   ]
  },
  {
   "cell_type": "code",
   "execution_count": 79,
   "id": "2ccf5b02-a882-46c0-94cc-b29446a48ed8",
   "metadata": {},
   "outputs": [
    {
     "data": {
      "text/plain": [
       "array([[ 0,  6],\n",
       "       [ 1,  7],\n",
       "       [ 2,  8],\n",
       "       [ 3,  9],\n",
       "       [ 4, 10],\n",
       "       [ 5, 11]])"
      ]
     },
     "execution_count": 79,
     "metadata": {},
     "output_type": "execute_result"
    }
   ],
   "source": [
    "# transpose\n",
    "b2.transpose()"
   ]
  },
  {
   "cell_type": "code",
   "execution_count": null,
   "id": "05d4f87a-688f-487c-bf8b-e42ed89a628d",
   "metadata": {},
   "outputs": [],
   "source": []
  }
 ],
 "metadata": {
  "kernelspec": {
   "display_name": "Python 3 (ipykernel)",
   "language": "python",
   "name": "python3"
  },
  "language_info": {
   "codemirror_mode": {
    "name": "ipython",
    "version": 3
   },
   "file_extension": ".py",
   "mimetype": "text/x-python",
   "name": "python",
   "nbconvert_exporter": "python",
   "pygments_lexer": "ipython3",
   "version": "3.12.7"
  }
 },
 "nbformat": 4,
 "nbformat_minor": 5
}
