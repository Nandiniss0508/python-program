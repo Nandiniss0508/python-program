{
 "cells": [
  {
   "cell_type": "code",
   "execution_count": 1,
   "id": "293291d6-2d58-4bb0-b36b-17b95b2eceba",
   "metadata": {},
   "outputs": [
    {
     "data": {
      "text/plain": [
       "array([[0.03634922, 0.1358464 , 0.14376764],\n",
       "       [0.36906402, 0.79601365, 0.59469384],\n",
       "       [0.56475833, 0.47135362, 0.64195841]])"
      ]
     },
     "execution_count": 1,
     "metadata": {},
     "output_type": "execute_result"
    }
   ],
   "source": [
    "# random numbers\n",
    "import numpy as np\n",
    "\n",
    "uniform = np.random.rand(3,3)\n",
    "uniform"
   ]
  },
  {
   "cell_type": "code",
   "execution_count": 2,
   "id": "c8584384-0163-4a8d-96b4-473ba2284406",
   "metadata": {},
   "outputs": [
    {
     "data": {
      "text/plain": [
       "array([[ 0.46213415,  0.91272779, -0.32519768],\n",
       "       [-0.22950258,  0.4400283 , -0.04751426],\n",
       "       [-2.04741575, -0.56270432, -0.73904963]])"
      ]
     },
     "execution_count": 2,
     "metadata": {},
     "output_type": "execute_result"
    }
   ],
   "source": [
    "normal = np.random.randn(3,3)\n",
    "normal"
   ]
  },
  {
   "cell_type": "code",
   "execution_count": 3,
   "id": "f14d5313-4aad-4666-8879-810138dacc66",
   "metadata": {},
   "outputs": [
    {
     "data": {
      "text/plain": [
       "(array([3, 4], dtype=int64),)"
      ]
     },
     "execution_count": 3,
     "metadata": {},
     "output_type": "execute_result"
    }
   ],
   "source": [
    "#searching in arrays\n",
    "arr = np.array([1,2,3,4,5])\n",
    "np.where(arr>3)"
   ]
  },
  {
   "cell_type": "code",
   "execution_count": 4,
   "id": "c4529b01-b6f9-4632-a203-29480c5695f4",
   "metadata": {},
   "outputs": [
    {
     "data": {
      "text/plain": [
       "(array([0, 1], dtype=int64),)"
      ]
     },
     "execution_count": 4,
     "metadata": {},
     "output_type": "execute_result"
    }
   ],
   "source": [
    "np.where(arr<=2)"
   ]
  },
  {
   "cell_type": "code",
   "execution_count": 6,
   "id": "88aafebc-e476-4100-8844-69db6c37adc3",
   "metadata": {},
   "outputs": [
    {
     "data": {
      "text/plain": [
       "4"
      ]
     },
     "execution_count": 6,
     "metadata": {},
     "output_type": "execute_result"
    }
   ],
   "source": [
    "#argmax() largest index will be returned\n",
    "arr = np.array([1,2,3,4,5])\n",
    "np.argmax(arr)"
   ]
  },
  {
   "cell_type": "code",
   "execution_count": 7,
   "id": "670a2518-b6de-4877-a93d-08a87d33d951",
   "metadata": {},
   "outputs": [
    {
     "data": {
      "text/plain": [
       "0"
      ]
     },
     "execution_count": 7,
     "metadata": {},
     "output_type": "execute_result"
    }
   ],
   "source": [
    "#argmin()\n",
    "# min index will be returned\n",
    "np.argmin(arr)"
   ]
  },
  {
   "cell_type": "code",
   "execution_count": 8,
   "id": "2cca3030-1891-4d7b-a1bf-18df98adc810",
   "metadata": {},
   "outputs": [
    {
     "data": {
      "text/plain": [
       "3"
      ]
     },
     "execution_count": 8,
     "metadata": {},
     "output_type": "execute_result"
    }
   ],
   "source": [
    "#searchsorted() returns the index element can be inserted in sorted array\n",
    "sorted_arr = np.array([1,3,5,7])\n",
    "np.searchsorted(sorted_arr,6)\n"
   ]
  },
  {
   "cell_type": "code",
   "execution_count": 9,
   "id": "46fc9cdb-f8e1-425e-9e67-6a8ffefd2a23",
   "metadata": {},
   "outputs": [
    {
     "data": {
      "text/plain": [
       "4"
      ]
     },
     "execution_count": 9,
     "metadata": {},
     "output_type": "execute_result"
    }
   ],
   "source": [
    "np.searchsorted(sorted_arr,100)"
   ]
  },
  {
   "cell_type": "code",
   "execution_count": 10,
   "id": "8d3c9493-37fb-4f17-8f06-a2c54c160f1f",
   "metadata": {},
   "outputs": [
    {
     "data": {
      "text/plain": [
       "array([4, 5])"
      ]
     },
     "execution_count": 10,
     "metadata": {},
     "output_type": "execute_result"
    }
   ],
   "source": [
    "# extract() extract values \n",
    "arr = np.array([1,2,3,4,5])\n",
    "np.extract(arr>3,arr)\n"
   ]
  },
  {
   "cell_type": "code",
   "execution_count": 11,
   "id": "4753e3bb-4476-4259-bce3-e4d29fadeb91",
   "metadata": {},
   "outputs": [
    {
     "name": "stdout",
     "output_type": "stream",
     "text": [
      "extract >2 [3 4 5]\n"
     ]
    }
   ],
   "source": [
    "print(\"extract >2\", np.extract(arr>2,arr))"
   ]
  },
  {
   "cell_type": "code",
   "execution_count": 13,
   "id": "b88cd2ee-ea27-4acf-b713-9d2577247508",
   "metadata": {},
   "outputs": [
    {
     "data": {
      "text/plain": [
       "array([[1, 2],\n",
       "       [1, 2],\n",
       "       [1, 2],\n",
       "       [1, 2],\n",
       "       [1, 2]])"
      ]
     },
     "execution_count": 13,
     "metadata": {},
     "output_type": "execute_result"
    }
   ],
   "source": [
    "# transpose matrix\n",
    "\n",
    "matrix = [[1,1,1,1,1],[2,2,2,2,2]]\n",
    "np.transpose(matrix)"
   ]
  },
  {
   "cell_type": "code",
   "execution_count": 14,
   "id": "1834f227-946b-416a-b00c-de02cd3f3e47",
   "metadata": {},
   "outputs": [
    {
     "name": "stdout",
     "output_type": "stream",
     "text": [
      "the mean value  3.0\n"
     ]
    }
   ],
   "source": [
    "#mean value\n",
    "arr = np.array([1,2,3,4,5])\n",
    "print(\"the mean value \",np.mean(arr))"
   ]
  },
  {
   "cell_type": "code",
   "execution_count": 16,
   "id": "fc05352e-0ef6-4cb4-b0e7-d85c002e5079",
   "metadata": {},
   "outputs": [
    {
     "data": {
      "text/plain": [
       "3.5"
      ]
     },
     "execution_count": 16,
     "metadata": {},
     "output_type": "execute_result"
    }
   ],
   "source": [
    "arr1 = np.array([1,2,3,4,5,6])\n",
    "np.mean(arr1)"
   ]
  },
  {
   "cell_type": "code",
   "execution_count": 17,
   "id": "37dc8be6-b9cd-44ab-aba4-28fcbb361b60",
   "metadata": {},
   "outputs": [
    {
     "data": {
      "text/plain": [
       "[array([1, 2]), array([3, 4]), array([5, 6])]"
      ]
     },
     "execution_count": 17,
     "metadata": {},
     "output_type": "execute_result"
    }
   ],
   "source": [
    "#splitting arrays\n",
    "#equal parts split\n",
    "\n",
    "arr = np.array([1,2,3,4,5,6])\n",
    "np.split(arr,3)"
   ]
  },
  {
   "cell_type": "code",
   "execution_count": 18,
   "id": "0088d032-3623-469d-b891-b15588eda7e7",
   "metadata": {},
   "outputs": [
    {
     "data": {
      "text/plain": [
       "[array([1]), array([2, 3, 4]), array([5, 6])]"
      ]
     },
     "execution_count": 18,
     "metadata": {},
     "output_type": "execute_result"
    }
   ],
   "source": [
    "#split at specific position\n",
    "np.split(arr,[1,4])"
   ]
  },
  {
   "cell_type": "code",
   "execution_count": 19,
   "id": "89c77099-c6b0-4edc-a552-55f29a663407",
   "metadata": {},
   "outputs": [
    {
     "data": {
      "text/plain": [
       "[array([[1],\n",
       "        [4]]),\n",
       " array([[2],\n",
       "        [5]]),\n",
       " array([[3],\n",
       "        [6]])]"
      ]
     },
     "execution_count": 19,
     "metadata": {},
     "output_type": "execute_result"
    }
   ],
   "source": [
    "# split along row\n",
    "matrix = np.array([[1,2,3],[4,5,6]])\n",
    "np.split(matrix,3,axis=1)"
   ]
  },
  {
   "cell_type": "code",
   "execution_count": 23,
   "id": "71b0d15d-3eb4-4bf2-b8d3-7a5309fbbf34",
   "metadata": {},
   "outputs": [
    {
     "data": {
      "text/plain": [
       "[array([[1, 2, 3]]), array([[4, 5, 6]])]"
      ]
     },
     "execution_count": 23,
     "metadata": {},
     "output_type": "execute_result"
    }
   ],
   "source": [
    "# split along column\n",
    "np.split(matrix,2,axis=0)"
   ]
  },
  {
   "cell_type": "code",
   "execution_count": null,
   "id": "4b11e4fa-e90d-442b-aacc-28818e37416e",
   "metadata": {},
   "outputs": [],
   "source": []
  }
 ],
 "metadata": {
  "kernelspec": {
   "display_name": "Python 3 (ipykernel)",
   "language": "python",
   "name": "python3"
  },
  "language_info": {
   "codemirror_mode": {
    "name": "ipython",
    "version": 3
   },
   "file_extension": ".py",
   "mimetype": "text/x-python",
   "name": "python",
   "nbconvert_exporter": "python",
   "pygments_lexer": "ipython3",
   "version": "3.12.7"
  }
 },
 "nbformat": 4,
 "nbformat_minor": 5
}
