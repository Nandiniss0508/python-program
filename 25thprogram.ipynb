{
 "cells": [
  {
   "cell_type": "code",
   "execution_count": 1,
   "id": "8065a1ed-afca-46e6-9fea-526f6dfdb295",
   "metadata": {},
   "outputs": [],
   "source": [
    "students = {\"name\":\"alice\",\"age\":23, \"major\":\"computer sci\"}\n",
    "price = {\"apple\":20, \"banana\":30, \"cherry\": 50}\n",
    "employee = {\"name\": \"Raj\",\"age\":22,\"salary\":3333333}\n"
   ]
  },
  {
   "cell_type": "code",
   "execution_count": 2,
   "id": "a29d440f-cd12-4504-8b31-9538980719e9",
   "metadata": {},
   "outputs": [
    {
     "data": {
      "text/plain": [
       "dict"
      ]
     },
     "execution_count": 2,
     "metadata": {},
     "output_type": "execute_result"
    }
   ],
   "source": [
    "type(students)"
   ]
  },
  {
   "cell_type": "code",
   "execution_count": 3,
   "id": "f3c55837-9f58-414a-8f9b-7fb424327ac9",
   "metadata": {},
   "outputs": [
    {
     "data": {
      "text/plain": [
       "dict"
      ]
     },
     "execution_count": 3,
     "metadata": {},
     "output_type": "execute_result"
    }
   ],
   "source": [
    "type(price)"
   ]
  },
  {
   "cell_type": "code",
   "execution_count": null,
   "id": "f9548689-18ab-422a-92c4-442ce9d13a4a",
   "metadata": {},
   "outputs": [],
   "source": [
    "# variables"
   ]
  },
  {
   "cell_type": "code",
   "execution_count": 4,
   "id": "84d695be-b4c8-4315-a87a-ad7514318aae",
   "metadata": {},
   "outputs": [],
   "source": [
    "ab =  10\n",
    "age = 25\n"
   ]
  },
  {
   "cell_type": "code",
   "execution_count": 5,
   "id": "ae29fece-f40b-4b07-b433-5e6dc3bac2c7",
   "metadata": {},
   "outputs": [],
   "source": [
    "ABC = 20\n"
   ]
  },
  {
   "cell_type": "code",
   "execution_count": 6,
   "id": "49d483d6-f187-4f62-aa4b-b83c4c1d5d4b",
   "metadata": {},
   "outputs": [
    {
     "data": {
      "text/plain": [
       "10"
      ]
     },
     "execution_count": 6,
     "metadata": {},
     "output_type": "execute_result"
    }
   ],
   "source": [
    "ab"
   ]
  },
  {
   "cell_type": "code",
   "execution_count": 7,
   "id": "6eab85a6-859a-4497-9260-2250c5248684",
   "metadata": {},
   "outputs": [],
   "source": [
    "_ABC = 30"
   ]
  },
  {
   "cell_type": "code",
   "execution_count": 8,
   "id": "1fc288c0-58f5-4bfa-8df5-554799de3ac4",
   "metadata": {},
   "outputs": [
    {
     "data": {
      "text/plain": [
       "30"
      ]
     },
     "execution_count": 8,
     "metadata": {},
     "output_type": "execute_result"
    }
   ],
   "source": [
    "_ABC"
   ]
  },
  {
   "cell_type": "code",
   "execution_count": 9,
   "id": "26157669-dc68-4fd6-bd2e-2fc7cccfc172",
   "metadata": {},
   "outputs": [
    {
     "data": {
      "text/plain": [
       "20"
      ]
     },
     "execution_count": 9,
     "metadata": {},
     "output_type": "execute_result"
    }
   ],
   "source": [
    "ABC"
   ]
  },
  {
   "cell_type": "code",
   "execution_count": 13,
   "id": "c3492e29-da44-4468-b151-a7cee74416fb",
   "metadata": {},
   "outputs": [
    {
     "data": {
      "text/plain": [
       "255"
      ]
     },
     "execution_count": 13,
     "metadata": {},
     "output_type": "execute_result"
    }
   ],
   "source": [
    "myvariable = 255\n",
    "myvariable\n"
   ]
  },
  {
   "cell_type": "code",
   "execution_count": 12,
   "id": "2f761c11-1eeb-4745-a4b7-3cac40124463",
   "metadata": {},
   "outputs": [
    {
     "data": {
      "text/plain": [
       "300"
      ]
     },
     "execution_count": 12,
     "metadata": {},
     "output_type": "execute_result"
    }
   ],
   "source": [
    "Myvariable = 300\n",
    "Myvariable "
   ]
  },
  {
   "cell_type": "code",
   "execution_count": 14,
   "id": "d88845ea-130c-4d35-b05c-6e6942169428",
   "metadata": {},
   "outputs": [
    {
     "data": {
      "text/plain": [
       "250"
      ]
     },
     "execution_count": 14,
     "metadata": {},
     "output_type": "execute_result"
    }
   ],
   "source": [
    "student_roll_number = 250\n",
    "student_roll_number"
   ]
  },
  {
   "cell_type": "code",
   "execution_count": null,
   "id": "e5717bf5-40d8-4e1c-a91c-3d561316bb99",
   "metadata": {},
   "outputs": [],
   "source": [
    "# cannot use special keys as names of variables"
   ]
  },
  {
   "cell_type": "code",
   "execution_count": 15,
   "id": "dc8a89bc-c2a1-4fbb-9a43-a36d9a177ded",
   "metadata": {},
   "outputs": [
    {
     "ename": "SyntaxError",
     "evalue": "invalid syntax (2523018194.py, line 1)",
     "output_type": "error",
     "traceback": [
      "\u001b[1;36m  Cell \u001b[1;32mIn[15], line 1\u001b[1;36m\u001b[0m\n\u001b[1;33m    if = 11\u001b[0m\n\u001b[1;37m       ^\u001b[0m\n\u001b[1;31mSyntaxError\u001b[0m\u001b[1;31m:\u001b[0m invalid syntax\n"
     ]
    }
   ],
   "source": [
    "if = 11\n",
    "if"
   ]
  },
  {
   "cell_type": "code",
   "execution_count": 16,
   "id": "af446ae1-39b0-467e-acf8-86b59c862a10",
   "metadata": {},
   "outputs": [
    {
     "data": {
      "text/plain": [
       "11"
      ]
     },
     "execution_count": 16,
     "metadata": {},
     "output_type": "execute_result"
    }
   ],
   "source": [
    "if_s = 11\n",
    "if_s"
   ]
  },
  {
   "cell_type": "code",
   "execution_count": 17,
   "id": "d79a44f3-0e1e-4cef-b6ea-8955b9a6d62b",
   "metadata": {},
   "outputs": [
    {
     "ename": "SyntaxError",
     "evalue": "invalid syntax (3695701312.py, line 1)",
     "output_type": "error",
     "traceback": [
      "\u001b[1;36m  Cell \u001b[1;32mIn[17], line 1\u001b[1;36m\u001b[0m\n\u001b[1;33m    for = 19\u001b[0m\n\u001b[1;37m        ^\u001b[0m\n\u001b[1;31mSyntaxError\u001b[0m\u001b[1;31m:\u001b[0m invalid syntax\n"
     ]
    }
   ],
   "source": [
    "for = 19\n"
   ]
  },
  {
   "cell_type": "code",
   "execution_count": 18,
   "id": "46b607df-9e41-4d3b-83db-164896b976e8",
   "metadata": {},
   "outputs": [
    {
     "data": {
      "text/plain": [
       "19"
      ]
     },
     "execution_count": 18,
     "metadata": {},
     "output_type": "execute_result"
    }
   ],
   "source": [
    "fors = 19\n",
    "fors"
   ]
  },
  {
   "cell_type": "code",
   "execution_count": 19,
   "id": "173e57f6-6a29-453b-a045-19d9332abaaa",
   "metadata": {},
   "outputs": [
    {
     "ename": "SyntaxError",
     "evalue": "invalid syntax (1641482784.py, line 1)",
     "output_type": "error",
     "traceback": [
      "\u001b[1;36m  Cell \u001b[1;32mIn[19], line 1\u001b[1;36m\u001b[0m\n\u001b[1;33m    while = 90\u001b[0m\n\u001b[1;37m          ^\u001b[0m\n\u001b[1;31mSyntaxError\u001b[0m\u001b[1;31m:\u001b[0m invalid syntax\n"
     ]
    }
   ],
   "source": [
    "while = 90\n",
    "while"
   ]
  },
  {
   "cell_type": "code",
   "execution_count": 20,
   "id": "55a7bc9b-526c-4332-98d9-ca73fc16dd70",
   "metadata": {},
   "outputs": [
    {
     "data": {
      "text/plain": [
       "1"
      ]
     },
     "execution_count": 20,
     "metadata": {},
     "output_type": "execute_result"
    }
   ],
   "source": [
    "while_1 = 1\n",
    "while_1 "
   ]
  },
  {
   "cell_type": "code",
   "execution_count": 21,
   "id": "32ca5b51-16c6-4a4d-9de2-f3d99f3363f6",
   "metadata": {},
   "outputs": [],
   "source": [
    "# this is a commnet"
   ]
  },
  {
   "cell_type": "code",
   "execution_count": 22,
   "id": "0b432211-61ef-44eb-b138-0a621cec93f5",
   "metadata": {},
   "outputs": [],
   "source": [
    "# a=25"
   ]
  },
  {
   "cell_type": "code",
   "execution_count": 24,
   "id": "10ee2566-29d2-4d46-af72-560d3c2e75fd",
   "metadata": {},
   "outputs": [
    {
     "data": {
      "text/plain": [
       "' this is a \\nexample for \\nmultiline comment'"
      ]
     },
     "execution_count": 24,
     "metadata": {},
     "output_type": "execute_result"
    }
   ],
   "source": [
    "\"\"\" this is a \n",
    "example for \n",
    "multiline comment\"\"\""
   ]
  },
  {
   "cell_type": "code",
   "execution_count": null,
   "id": "5a804067-4d01-4f0b-81c1-0572ab74f6d9",
   "metadata": {},
   "outputs": [],
   "source": [
    "# keywords if while for\n"
   ]
  },
  {
   "cell_type": "code",
   "execution_count": 1,
   "id": "a207f417-2dcf-4e80-80ea-0bcd297a3fe2",
   "metadata": {},
   "outputs": [
    {
     "name": "stdout",
     "output_type": "stream",
     "text": [
      "this is a keyword\n"
     ]
    }
   ],
   "source": [
    "if True:\n",
    "    print(\"this is a keyword\")"
   ]
  },
  {
   "cell_type": "code",
   "execution_count": null,
   "id": "eda575ff-3609-4de5-8c16-d8a8f66d087a",
   "metadata": {},
   "outputs": [],
   "source": [
    "# identifiers \n",
    "# cannot start by a digit\n",
    "# can use special character\n",
    "def func()\n",
    "my_salary = 555555\n",
    "my_variable = 110\n"
   ]
  },
  {
   "cell_type": "code",
   "execution_count": 2,
   "id": "8b0304e1-604f-4b4d-aa31-87a1a2b2276d",
   "metadata": {},
   "outputs": [
    {
     "name": "stdin",
     "output_type": "stream",
     "text": [
      "enter name Nandini\n"
     ]
    }
   ],
   "source": [
    "# user inputs\n",
    "names = input(\"enter name\")\n"
   ]
  },
  {
   "cell_type": "code",
   "execution_count": 3,
   "id": "c86049f7-647a-4b9f-846a-ba808090ba86",
   "metadata": {},
   "outputs": [
    {
     "name": "stdin",
     "output_type": "stream",
     "text": [
      " enter user name Nandu\n"
     ]
    }
   ],
   "source": [
    "user_name = input(\" enter user name\")"
   ]
  },
  {
   "cell_type": "code",
   "execution_count": 4,
   "id": "4bc09996-424b-4d9c-8ba2-27fff2264c44",
   "metadata": {},
   "outputs": [
    {
     "name": "stdin",
     "output_type": "stream",
     "text": [
      " enter password 112233\n"
     ]
    }
   ],
   "source": [
    "password1 = input(\" enter password\")"
   ]
  },
  {
   "cell_type": "code",
   "execution_count": 5,
   "id": "ce2edd90-54e0-4c77-937b-7eb53793fdd9",
   "metadata": {},
   "outputs": [
    {
     "name": "stdin",
     "output_type": "stream",
     "text": [
      " Nandini S S\n"
     ]
    }
   ],
   "source": [
    "name1 = input()"
   ]
  },
  {
   "cell_type": "code",
   "execution_count": 6,
   "id": "a999263c-cf09-46d1-a1ac-34e879d383b6",
   "metadata": {},
   "outputs": [
    {
     "name": "stdin",
     "output_type": "stream",
     "text": [
      " enter integer 111\n"
     ]
    }
   ],
   "source": [
    "num1 = int(input(\" enter integer\"))"
   ]
  },
  {
   "cell_type": "code",
   "execution_count": 4,
   "id": "90403eb5-1fba-4e0e-b5d8-4d12f80ba73a",
   "metadata": {},
   "outputs": [
    {
     "name": "stdin",
     "output_type": "stream",
     "text": [
      "enter string happy\n"
     ]
    }
   ],
   "source": [
    "str1 = str(input(\"enter string\"))\n"
   ]
  },
  {
   "cell_type": "code",
   "execution_count": 5,
   "id": "4dc93478-59e0-4a85-bfd2-17c7286d81fd",
   "metadata": {},
   "outputs": [
    {
     "name": "stdin",
     "output_type": "stream",
     "text": [
      "enter string joy1\n"
     ]
    }
   ],
   "source": [
    "str1 = str(input(\"enter string\"))\n"
   ]
  },
  {
   "cell_type": "code",
   "execution_count": 7,
   "id": "cf2d9ab5-db51-4d61-a67d-094fbdf0fe30",
   "metadata": {},
   "outputs": [
    {
     "name": "stdin",
     "output_type": "stream",
     "text": [
      "enter decimal number 3.145\n"
     ]
    }
   ],
   "source": [
    "float_num = float(input(\"enter decimal number\"))"
   ]
  },
  {
   "cell_type": "code",
   "execution_count": 8,
   "id": "86bde9bf-913d-4c51-b738-915311c65886",
   "metadata": {},
   "outputs": [
    {
     "name": "stdin",
     "output_type": "stream",
     "text": [
      "enter decimal number 11\n"
     ]
    }
   ],
   "source": [
    "float_num = float(input(\"enter decimal number\"))"
   ]
  },
  {
   "cell_type": "code",
   "execution_count": 10,
   "id": "ba9944c2-7b7f-4290-8967-4e2e40b328c5",
   "metadata": {},
   "outputs": [
    {
     "name": "stdin",
     "output_type": "stream",
     "text": [
      "enter decimal number joy\n"
     ]
    },
    {
     "ename": "ValueError",
     "evalue": "could not convert string to float: 'joy'",
     "output_type": "error",
     "traceback": [
      "\u001b[1;31m---------------------------------------------------------------------------\u001b[0m",
      "\u001b[1;31mValueError\u001b[0m                                Traceback (most recent call last)",
      "Cell \u001b[1;32mIn[10], line 1\u001b[0m\n\u001b[1;32m----> 1\u001b[0m float_num \u001b[38;5;241m=\u001b[39m \u001b[38;5;28mfloat\u001b[39m(\u001b[38;5;28minput\u001b[39m(\u001b[38;5;124m\"\u001b[39m\u001b[38;5;124menter decimal number\u001b[39m\u001b[38;5;124m\"\u001b[39m))\n",
      "\u001b[1;31mValueError\u001b[0m: could not convert string to float: 'joy'"
     ]
    }
   ],
   "source": [
    "float_num = float(input(\"enter decimal number\"))\n"
   ]
  },
  {
   "cell_type": "code",
   "execution_count": 11,
   "id": "6b17a6da-ea59-4195-8b47-df48de15fa79",
   "metadata": {},
   "outputs": [
    {
     "name": "stdin",
     "output_type": "stream",
     "text": [
      "enter decimal number 1.22\n"
     ]
    }
   ],
   "source": [
    "float_num = float(input(\"enter decimal number\"))"
   ]
  },
  {
   "cell_type": "code",
   "execution_count": null,
   "id": "563700f3-c6f5-4f03-89b3-c9f9c9e135a3",
   "metadata": {},
   "outputs": [],
   "source": []
  }
 ],
 "metadata": {
  "kernelspec": {
   "display_name": "Python 3 (ipykernel)",
   "language": "python",
   "name": "python3"
  },
  "language_info": {
   "codemirror_mode": {
    "name": "ipython",
    "version": 3
   },
   "file_extension": ".py",
   "mimetype": "text/x-python",
   "name": "python",
   "nbconvert_exporter": "python",
   "pygments_lexer": "ipython3",
   "version": "3.12.7"
  }
 },
 "nbformat": 4,
 "nbformat_minor": 5
}
