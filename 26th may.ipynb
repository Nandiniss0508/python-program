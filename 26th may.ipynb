{
 "cells": [
  {
   "cell_type": "code",
   "execution_count": 16,
   "id": "98803f99-e2af-4862-9a59-d35073c908a5",
   "metadata": {},
   "outputs": [
    {
     "data": {
      "text/plain": [
       "array([[1, 2],\n",
       "       [3, 4],\n",
       "       [5, 6],\n",
       "       [1, 1]])"
      ]
     },
     "execution_count": 16,
     "metadata": {},
     "output_type": "execute_result"
    }
   ],
   "source": [
    "# joining\n",
    "\n",
    "import numpy as np\n",
    "arr1 = np.array([[1,2],[3,4]])\n",
    "arr2 = np.array([[5,6],[1,1]])\n",
    "np.concatenate((arr1, arr2), axis=0)"
   ]
  },
  {
   "cell_type": "code",
   "execution_count": 17,
   "id": "dfd7b235-2027-4915-a727-5b35a80fcd44",
   "metadata": {},
   "outputs": [
    {
     "data": {
      "text/plain": [
       "array([[1, 2, 5, 6],\n",
       "       [3, 4, 1, 1]])"
      ]
     },
     "execution_count": 17,
     "metadata": {},
     "output_type": "execute_result"
    }
   ],
   "source": [
    "np.concatenate((arr1, arr2), axis=1)"
   ]
  },
  {
   "cell_type": "code",
   "execution_count": 13,
   "id": "37aac294-04f1-4b9e-a93d-26ed5562c35f",
   "metadata": {},
   "outputs": [
    {
     "data": {
      "text/plain": [
       "array([[1, 2, 3],\n",
       "       [4, 5, 6]])"
      ]
     },
     "execution_count": 13,
     "metadata": {},
     "output_type": "execute_result"
    }
   ],
   "source": [
    "# vstack\n",
    "arr3 = np.array([1,2,3])\n",
    "arr4 = np.array([4,5,6])\n",
    "np.vstack((arr3,arr4))"
   ]
  },
  {
   "cell_type": "code",
   "execution_count": 19,
   "id": "6d7c991a-4d0f-413f-b662-81052a403e1e",
   "metadata": {},
   "outputs": [
    {
     "data": {
      "text/plain": [
       "array([1, 2, 3, 4, 5, 6])"
      ]
     },
     "execution_count": 19,
     "metadata": {},
     "output_type": "execute_result"
    }
   ],
   "source": [
    "#hstack\n",
    "np.hstack((arr3,arr4))"
   ]
  },
  {
   "cell_type": "code",
   "execution_count": 21,
   "id": "e33c5b2f-7026-4bce-9456-4b83f386c1f4",
   "metadata": {},
   "outputs": [
    {
     "data": {
      "text/plain": [
       "array([False, False, False,  True,  True,  True])"
      ]
     },
     "execution_count": 21,
     "metadata": {},
     "output_type": "execute_result"
    }
   ],
   "source": [
    "# boolen indexing\n",
    "\n",
    "arr = np.array([1,2,3,4,5,6])\n",
    "mask = arr>3\n",
    "mask"
   ]
  },
  {
   "cell_type": "code",
   "execution_count": 22,
   "id": "3bdf826d-7850-4ff6-a1a8-c83e309b4a7c",
   "metadata": {},
   "outputs": [
    {
     "name": "stdout",
     "output_type": "stream",
     "text": [
      "filtered element i,e greater than 3 is :  [4 5 6]\n"
     ]
    }
   ],
   "source": [
    "filtered = arr[mask]\n",
    "print(\"filtered element i,e greater than 3 is : \",filtered)"
   ]
  },
  {
   "cell_type": "code",
   "execution_count": 23,
   "id": "40876781-91b6-4a7c-970e-922d5c221dbd",
   "metadata": {},
   "outputs": [
    {
     "data": {
      "text/plain": [
       "array([False, False,  True,  True,  True, False])"
      ]
     },
     "execution_count": 23,
     "metadata": {},
     "output_type": "execute_result"
    }
   ],
   "source": [
    "#using and and or\n",
    "\n",
    "arr = np.array([1,2,3,4,5,6])\n",
    "(arr>2) & (arr<6)"
   ]
  },
  {
   "cell_type": "code",
   "execution_count": 24,
   "id": "3de8366c-f687-4a20-af9a-234513a00ff9",
   "metadata": {},
   "outputs": [
    {
     "data": {
      "text/plain": [
       "array([3, 4, 5])"
      ]
     },
     "execution_count": 24,
     "metadata": {},
     "output_type": "execute_result"
    }
   ],
   "source": [
    "arr[(arr>2) & (arr<6)]"
   ]
  },
  {
   "cell_type": "code",
   "execution_count": 25,
   "id": "0c569b2a-b82a-4030-8420-b616508be215",
   "metadata": {},
   "outputs": [
    {
     "data": {
      "text/plain": [
       "array([1, 2, 3, 6])"
      ]
     },
     "execution_count": 25,
     "metadata": {},
     "output_type": "execute_result"
    }
   ],
   "source": [
    "arr[(arr<=3) | (arr>5)]"
   ]
  },
  {
   "cell_type": "code",
   "execution_count": 26,
   "id": "55d7773b-e625-444a-8bba-9244a5860c6f",
   "metadata": {},
   "outputs": [
    {
     "name": "stdout",
     "output_type": "stream",
     "text": [
      "values>20: [25 30 35]\n"
     ]
    }
   ],
   "source": [
    "# filtering 2d array\n",
    "\n",
    "matrix = np.array([[10,15,20],[25,30,35]])\n",
    "print(\"values>20:\",matrix[matrix>20])"
   ]
  },
  {
   "cell_type": "code",
   "execution_count": 50,
   "id": "b407bed5-48de-4ca0-a29b-0a63a9d7a249",
   "metadata": {},
   "outputs": [
    {
     "data": {
      "text/plain": [
       "array([ 2,  4,  6,  8, 10, 12, 14])"
      ]
     },
     "execution_count": 50,
     "metadata": {},
     "output_type": "execute_result"
    }
   ],
   "source": [
    "#first 15 natural numbers\n",
    "arr = np.array([1,2,3,4,5,6,7,8,9,10,11,12,13,14,15])\n",
    "# extract even numbers\n",
    "arr[arr%2==0]\n"
   ]
  },
  {
   "cell_type": "code",
   "execution_count": 51,
   "id": "8b92fd9e-4fff-4ff0-902b-965dce8d2a05",
   "metadata": {},
   "outputs": [
    {
     "data": {
      "text/plain": [
       "array([ 3,  6,  9, 12, 15])"
      ]
     },
     "execution_count": 51,
     "metadata": {},
     "output_type": "execute_result"
    }
   ],
   "source": [
    "# extract divisible by 3\n",
    "arr[arr%3==0]"
   ]
  },
  {
   "cell_type": "code",
   "execution_count": 58,
   "id": "ba2faeec-41eb-47f7-9096-b733e86f8a1d",
   "metadata": {},
   "outputs": [
    {
     "data": {
      "text/plain": [
       "array([25.6, 29.9, 27. ])"
      ]
     },
     "execution_count": 58,
     "metadata": {},
     "output_type": "execute_result"
    }
   ],
   "source": [
    "#temperatures\n",
    "temp = np.array([22.5,25.6,21.4,29.9,18.6,23.1,27])\n",
    "# temperature greater than 24\n",
    "temp[temp>24]"
   ]
  },
  {
   "cell_type": "code",
   "execution_count": 62,
   "id": "bbfaa796-558b-47a4-8078-e70b8bdf49db",
   "metadata": {},
   "outputs": [
    {
     "data": {
      "text/plain": [
       "array([22.5, 25.6, 21.4, 23.1])"
      ]
     },
     "execution_count": 62,
     "metadata": {},
     "output_type": "execute_result"
    }
   ],
   "source": [
    "# temperature between 20 and 26\n",
    "temp[(temp>20) & (temp<26)]"
   ]
  },
  {
   "cell_type": "code",
   "execution_count": 57,
   "id": "f26ee184-0de1-4aed-8b7b-f458134d66db",
   "metadata": {},
   "outputs": [
    {
     "data": {
      "text/plain": [
       "array([520, 800, 999, 720])"
      ]
     },
     "execution_count": 57,
     "metadata": {},
     "output_type": "execute_result"
    }
   ],
   "source": [
    "# prices extract prices above 500\n",
    "prices = np.array([250,499,520,310,800,999,450,720])\n",
    "prices[prices>500]"
   ]
  },
  {
   "cell_type": "code",
   "execution_count": null,
   "id": "edb0024b-b3d0-4bd2-807b-8f6c46e42142",
   "metadata": {},
   "outputs": [],
   "source": []
  }
 ],
 "metadata": {
  "kernelspec": {
   "display_name": "Python 3 (ipykernel)",
   "language": "python",
   "name": "python3"
  },
  "language_info": {
   "codemirror_mode": {
    "name": "ipython",
    "version": 3
   },
   "file_extension": ".py",
   "mimetype": "text/x-python",
   "name": "python",
   "nbconvert_exporter": "python",
   "pygments_lexer": "ipython3",
   "version": "3.12.7"
  }
 },
 "nbformat": 4,
 "nbformat_minor": 5
}
