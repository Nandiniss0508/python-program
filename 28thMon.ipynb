{
 "cells": [
  {
   "cell_type": "code",
   "execution_count": 2,
   "id": "fe846b54-0628-440b-b061-11e70c27c6f0",
   "metadata": {},
   "outputs": [
    {
     "data": {
      "text/plain": [
       "25"
      ]
     },
     "execution_count": 2,
     "metadata": {},
     "output_type": "execute_result"
    }
   ],
   "source": [
    "# implicit type conversions\n",
    "age_str = \"25\"\n",
    "age_int = int(age_str)\n",
    "age_int"
   ]
  },
  {
   "cell_type": "code",
   "execution_count": 5,
   "id": "287be649-c7aa-4d32-97a6-3d280cb20e9b",
   "metadata": {},
   "outputs": [
    {
     "data": {
      "text/plain": [
       "555.0"
      ]
     },
     "execution_count": 5,
     "metadata": {},
     "output_type": "execute_result"
    }
   ],
   "source": [
    "a = 555\n",
    "a=float(a)\n",
    "a"
   ]
  },
  {
   "cell_type": "code",
   "execution_count": 6,
   "id": "c7998655-1fb1-4254-a6f5-ad9831820857",
   "metadata": {},
   "outputs": [
    {
     "data": {
      "text/plain": [
       "'555.0'"
      ]
     },
     "execution_count": 6,
     "metadata": {},
     "output_type": "execute_result"
    }
   ],
   "source": [
    "a1 = str(a)\n",
    "a1"
   ]
  },
  {
   "cell_type": "code",
   "execution_count": 4,
   "id": "bdb6ffad-b819-42a0-892b-bfa685ee6d86",
   "metadata": {},
   "outputs": [
    {
     "data": {
      "text/plain": [
       "int"
      ]
     },
     "execution_count": 4,
     "metadata": {},
     "output_type": "execute_result"
    }
   ],
   "source": [
    "int_val = 11\n",
    "type(int_val)"
   ]
  },
  {
   "cell_type": "code",
   "execution_count": 5,
   "id": "0abbbefa-ce7c-48b4-a6b9-766516f9140f",
   "metadata": {},
   "outputs": [
    {
     "data": {
      "text/plain": [
       "float"
      ]
     },
     "execution_count": 5,
     "metadata": {},
     "output_type": "execute_result"
    }
   ],
   "source": [
    "float_val = 3.5\n",
    "type(float_val)"
   ]
  },
  {
   "cell_type": "code",
   "execution_count": 6,
   "id": "fe18c3e9-9888-46bc-8d9d-8ea5d2c0b89e",
   "metadata": {},
   "outputs": [
    {
     "data": {
      "text/plain": [
       "3.5"
      ]
     },
     "execution_count": 6,
     "metadata": {},
     "output_type": "execute_result"
    }
   ],
   "source": [
    "float_val"
   ]
  },
  {
   "cell_type": "code",
   "execution_count": 7,
   "id": "2f88b998-b76d-4f32-8621-e967f4931a2a",
   "metadata": {},
   "outputs": [
    {
     "data": {
      "text/plain": [
       "3"
      ]
     },
     "execution_count": 7,
     "metadata": {},
     "output_type": "execute_result"
    }
   ],
   "source": [
    "int1 = int(float_val)\n",
    "int1"
   ]
  },
  {
   "cell_type": "code",
   "execution_count": 8,
   "id": "da5b46c0-3afe-4d0f-be06-038a18df6c60",
   "metadata": {},
   "outputs": [
    {
     "data": {
      "text/plain": [
       "11"
      ]
     },
     "execution_count": 8,
     "metadata": {},
     "output_type": "execute_result"
    }
   ],
   "source": [
    "float1 = int(int_val)\n",
    "int_val"
   ]
  },
  {
   "cell_type": "code",
   "execution_count": 9,
   "id": "097ebf50-f1c3-4864-aa17-75ddafa6466f",
   "metadata": {},
   "outputs": [
    {
     "data": {
      "text/plain": [
       "int"
      ]
     },
     "execution_count": 9,
     "metadata": {},
     "output_type": "execute_result"
    }
   ],
   "source": [
    "type(float1)"
   ]
  },
  {
   "cell_type": "code",
   "execution_count": 11,
   "id": "b2e7bf3d-455a-408d-8746-ca1c1ff79249",
   "metadata": {},
   "outputs": [
    {
     "ename": "ValueError",
     "evalue": "invalid literal for int() with base 10: 'str1'",
     "output_type": "error",
     "traceback": [
      "\u001b[1;31m---------------------------------------------------------------------------\u001b[0m",
      "\u001b[1;31mValueError\u001b[0m                                Traceback (most recent call last)",
      "Cell \u001b[1;32mIn[11], line 2\u001b[0m\n\u001b[0;32m      1\u001b[0m str1 \u001b[38;5;241m=\u001b[39m \u001b[38;5;124m\"\u001b[39m\u001b[38;5;124mabc\u001b[39m\u001b[38;5;124m\"\u001b[39m\n\u001b[1;32m----> 2\u001b[0m num \u001b[38;5;241m=\u001b[39m \u001b[38;5;28mint\u001b[39m(\u001b[38;5;124m\"\u001b[39m\u001b[38;5;124mstr1\u001b[39m\u001b[38;5;124m\"\u001b[39m)\n\u001b[0;32m      3\u001b[0m num\n",
      "\u001b[1;31mValueError\u001b[0m: invalid literal for int() with base 10: 'str1'"
     ]
    }
   ],
   "source": [
    "str1 = \"abc\"\n",
    "num = int(\"str1\")\n",
    "num"
   ]
  },
  {
   "cell_type": "code",
   "execution_count": 14,
   "id": "878ab266-cacf-47ba-a46e-18ecd3e7e077",
   "metadata": {},
   "outputs": [
    {
     "data": {
      "text/plain": [
       "2.3456789"
      ]
     },
     "execution_count": 14,
     "metadata": {},
     "output_type": "execute_result"
    }
   ],
   "source": [
    "doub = 2.34567890000\n",
    "num1 = float(doub)\n",
    "num1"
   ]
  },
  {
   "cell_type": "code",
   "execution_count": 15,
   "id": "2305d0ad-0e93-4e3b-b9c9-a2e8c0409fcf",
   "metadata": {},
   "outputs": [
    {
     "data": {
      "text/plain": [
       "float"
      ]
     },
     "execution_count": 15,
     "metadata": {},
     "output_type": "execute_result"
    }
   ],
   "source": [
    "type(num1)"
   ]
  },
  {
   "cell_type": "code",
   "execution_count": 16,
   "id": "9d2e0fe3-5b18-49ca-91b6-bae059381ad4",
   "metadata": {},
   "outputs": [
    {
     "name": "stdout",
     "output_type": "stream",
     "text": [
      "28.5\n"
     ]
    }
   ],
   "source": [
    "# explicit covnersions\n",
    "print(18 + 10.5)"
   ]
  },
  {
   "cell_type": "code",
   "execution_count": 17,
   "id": "6a56e88e-5aae-4f33-8972-89eee37f3c22",
   "metadata": {},
   "outputs": [
    {
     "ename": "TypeError",
     "evalue": "unsupported operand type(s) for +: 'int' and 'str'",
     "output_type": "error",
     "traceback": [
      "\u001b[1;31m---------------------------------------------------------------------------\u001b[0m",
      "\u001b[1;31mTypeError\u001b[0m                                 Traceback (most recent call last)",
      "Cell \u001b[1;32mIn[17], line 1\u001b[0m\n\u001b[1;32m----> 1\u001b[0m \u001b[38;5;28mprint\u001b[39m(\u001b[38;5;241m18\u001b[39m \u001b[38;5;241m+\u001b[39m \u001b[38;5;124m\"\u001b[39m\u001b[38;5;124mq\u001b[39m\u001b[38;5;124m\"\u001b[39m)\n",
      "\u001b[1;31mTypeError\u001b[0m: unsupported operand type(s) for +: 'int' and 'str'"
     ]
    }
   ],
   "source": [
    "# not possible for int and str\n",
    "print(18 + \"q\")\n"
   ]
  },
  {
   "cell_type": "code",
   "execution_count": 21,
   "id": "6404e214-a18f-44cc-85f3-8af10fcf5fe7",
   "metadata": {},
   "outputs": [
    {
     "data": {
      "text/plain": [
       "str"
      ]
     },
     "execution_count": 21,
     "metadata": {},
     "output_type": "execute_result"
    }
   ],
   "source": [
    "# implicit conversions\n",
    "a = 10\n",
    "b = str(a)\n",
    "type(b)"
   ]
  },
  {
   "cell_type": "code",
   "execution_count": 22,
   "id": "6c3cbff6-a434-4bec-bd9e-b2511e711791",
   "metadata": {},
   "outputs": [
    {
     "data": {
      "text/plain": [
       "complex"
      ]
     },
     "execution_count": 22,
     "metadata": {},
     "output_type": "execute_result"
    }
   ],
   "source": [
    "b1 = 4+5j\n",
    "type(b1)"
   ]
  },
  {
   "cell_type": "code",
   "execution_count": 23,
   "id": "1a3779ca-47d9-4144-ac37-a0e6fbffcaaa",
   "metadata": {},
   "outputs": [
    {
     "name": "stdout",
     "output_type": "stream",
     "text": [
      "Hello world\n"
     ]
    }
   ],
   "source": [
    "# syntax\n",
    "print(\"Hello world\")\n"
   ]
  },
  {
   "cell_type": "code",
   "execution_count": 24,
   "id": "b94ad821-50eb-4cc7-bc52-4d3ccc0debca",
   "metadata": {},
   "outputs": [
    {
     "ename": "SyntaxError",
     "evalue": "unterminated string literal (detected at line 1) (2771583741.py, line 1)",
     "output_type": "error",
     "traceback": [
      "\u001b[1;36m  Cell \u001b[1;32mIn[24], line 1\u001b[1;36m\u001b[0m\n\u001b[1;33m    print(\"Hello World)\u001b[0m\n\u001b[1;37m          ^\u001b[0m\n\u001b[1;31mSyntaxError\u001b[0m\u001b[1;31m:\u001b[0m unterminated string literal (detected at line 1)\n"
     ]
    }
   ],
   "source": [
    "print(\"Hello World)"
   ]
  },
  {
   "cell_type": "code",
   "execution_count": null,
   "id": "e7a3c7c7-bec7-4c0b-b86d-6709367b26ab",
   "metadata": {},
   "outputs": [],
   "source": [
    "# Literals"
   ]
  },
  {
   "cell_type": "code",
   "execution_count": 28,
   "id": "117af38e-df6c-46aa-8eb6-537507034a1c",
   "metadata": {},
   "outputs": [],
   "source": [
    "#integer literals\n",
    "age = 30\n",
    "#string literals\n",
    "greetings = \"hello hi\"\n",
    "#Boolean literals\n",
    "is_active = True\n"
   ]
  },
  {
   "cell_type": "code",
   "execution_count": null,
   "id": "97a3e281-085a-4ed7-bded-93c73af4c999",
   "metadata": {},
   "outputs": [],
   "source": [
    "# operators in python\n"
   ]
  },
  {
   "cell_type": "code",
   "execution_count": 29,
   "id": "5df06793-bbf7-408b-b7fe-f789706db779",
   "metadata": {},
   "outputs": [],
   "source": [
    "# Arithmetic operators"
   ]
  },
  {
   "cell_type": "code",
   "execution_count": 30,
   "id": "c7ad1c3c-cb79-4353-a5f2-196915b5f2a3",
   "metadata": {},
   "outputs": [
    {
     "data": {
      "text/plain": [
       "8"
      ]
     },
     "execution_count": 30,
     "metadata": {},
     "output_type": "execute_result"
    }
   ],
   "source": [
    "# add two numbers\n",
    "5 + 3"
   ]
  },
  {
   "cell_type": "code",
   "execution_count": 31,
   "id": "56f61612-62a6-4d09-aed7-96b455979a85",
   "metadata": {},
   "outputs": [
    {
     "data": {
      "text/plain": [
       "66"
      ]
     },
     "execution_count": 31,
     "metadata": {},
     "output_type": "execute_result"
    }
   ],
   "source": [
    "22 + 44"
   ]
  },
  {
   "cell_type": "code",
   "execution_count": 32,
   "id": "cec92afd-22d9-4a9e-8aed-715b030b88c3",
   "metadata": {},
   "outputs": [
    {
     "data": {
      "text/plain": [
       "2"
      ]
     },
     "execution_count": 32,
     "metadata": {},
     "output_type": "execute_result"
    }
   ],
   "source": [
    "# sub two numbers\n",
    "5-3"
   ]
  },
  {
   "cell_type": "code",
   "execution_count": 33,
   "id": "f85235af-deb4-4931-8021-f6a13efc7e6c",
   "metadata": {},
   "outputs": [
    {
     "data": {
      "text/plain": [
       "1"
      ]
     },
     "execution_count": 33,
     "metadata": {},
     "output_type": "execute_result"
    }
   ],
   "source": [
    "2-1"
   ]
  },
  {
   "cell_type": "code",
   "execution_count": 34,
   "id": "290ecfd7-54fb-4cd9-a25b-667538fae127",
   "metadata": {},
   "outputs": [
    {
     "data": {
      "text/plain": [
       "4"
      ]
     },
     "execution_count": 34,
     "metadata": {},
     "output_type": "execute_result"
    }
   ],
   "source": [
    "# multiply two num\n",
    "2*2"
   ]
  },
  {
   "cell_type": "code",
   "execution_count": 35,
   "id": "6039b12a-c9e0-49a7-937a-580afc1cadce",
   "metadata": {},
   "outputs": [
    {
     "data": {
      "text/plain": [
       "4.4"
      ]
     },
     "execution_count": 35,
     "metadata": {},
     "output_type": "execute_result"
    }
   ],
   "source": [
    "2*2.2"
   ]
  },
  {
   "cell_type": "code",
   "execution_count": 36,
   "id": "28161393-798c-490f-9d9d-f770e3672760",
   "metadata": {},
   "outputs": [
    {
     "data": {
      "text/plain": [
       "1.0"
      ]
     },
     "execution_count": 36,
     "metadata": {},
     "output_type": "execute_result"
    }
   ],
   "source": [
    "# division of two num\n",
    "2/2\n"
   ]
  },
  {
   "cell_type": "code",
   "execution_count": 37,
   "id": "ff0943ef-8d59-49bb-bd5f-9e62b03ea324",
   "metadata": {},
   "outputs": [
    {
     "data": {
      "text/plain": [
       "4.0"
      ]
     },
     "execution_count": 37,
     "metadata": {},
     "output_type": "execute_result"
    }
   ],
   "source": [
    "44/11"
   ]
  },
  {
   "cell_type": "code",
   "execution_count": 38,
   "id": "0de5639c-5f60-4cbd-b244-df48b5c6ceb4",
   "metadata": {},
   "outputs": [
    {
     "data": {
      "text/plain": [
       "2.5"
      ]
     },
     "execution_count": 38,
     "metadata": {},
     "output_type": "execute_result"
    }
   ],
   "source": [
    "5/2"
   ]
  },
  {
   "cell_type": "code",
   "execution_count": 42,
   "id": "6f8a54be-0cee-4d50-9077-ea878fcac36d",
   "metadata": {},
   "outputs": [
    {
     "data": {
      "text/plain": [
       "3.3333333333333335"
      ]
     },
     "execution_count": 42,
     "metadata": {},
     "output_type": "execute_result"
    }
   ],
   "source": [
    "10/3"
   ]
  },
  {
   "cell_type": "code",
   "execution_count": 39,
   "id": "402a65e3-7350-44c8-9c1a-0eff178be2eb",
   "metadata": {},
   "outputs": [
    {
     "data": {
      "text/plain": [
       "2"
      ]
     },
     "execution_count": 39,
     "metadata": {},
     "output_type": "execute_result"
    }
   ],
   "source": [
    "# floor division\n",
    "5//2"
   ]
  },
  {
   "cell_type": "code",
   "execution_count": 40,
   "id": "20dc5b9a-134a-4f35-b883-7464bfd32269",
   "metadata": {},
   "outputs": [
    {
     "data": {
      "text/plain": [
       "5.333333333333333"
      ]
     },
     "execution_count": 40,
     "metadata": {},
     "output_type": "execute_result"
    }
   ],
   "source": [
    "result = 16/3\n",
    "result"
   ]
  },
  {
   "cell_type": "code",
   "execution_count": 41,
   "id": "d68da1cc-1512-4956-bfdd-a5a4e9a0fd28",
   "metadata": {},
   "outputs": [
    {
     "data": {
      "text/plain": [
       "5"
      ]
     },
     "execution_count": 41,
     "metadata": {},
     "output_type": "execute_result"
    }
   ],
   "source": [
    "16//3"
   ]
  },
  {
   "cell_type": "code",
   "execution_count": 45,
   "id": "de17264d-8fdc-4195-85bc-6723ca28b2c8",
   "metadata": {},
   "outputs": [
    {
     "data": {
      "text/plain": [
       "1"
      ]
     },
     "execution_count": 45,
     "metadata": {},
     "output_type": "execute_result"
    }
   ],
   "source": [
    "# modulus operator: returns remainder\n",
    "res1 = 10 % 3\n",
    "res1"
   ]
  },
  {
   "cell_type": "code",
   "execution_count": 46,
   "id": "e2f03839-2639-4684-8927-00bea76cc81c",
   "metadata": {},
   "outputs": [
    {
     "data": {
      "text/plain": [
       "0"
      ]
     },
     "execution_count": 46,
     "metadata": {},
     "output_type": "execute_result"
    }
   ],
   "source": [
    "2%2"
   ]
  },
  {
   "cell_type": "code",
   "execution_count": 47,
   "id": "aa93aaa5-8978-458b-bdb2-0133bdf9c8ba",
   "metadata": {},
   "outputs": [
    {
     "data": {
      "text/plain": [
       "8"
      ]
     },
     "execution_count": 47,
     "metadata": {},
     "output_type": "execute_result"
    }
   ],
   "source": [
    "# exponentiation\n",
    "res2 = 2**3\n",
    "res2"
   ]
  },
  {
   "cell_type": "code",
   "execution_count": 48,
   "id": "cc1e8c35-b04f-41c6-9a88-a7021aced178",
   "metadata": {},
   "outputs": [
    {
     "data": {
      "text/plain": [
       "4"
      ]
     },
     "execution_count": 48,
     "metadata": {},
     "output_type": "execute_result"
    }
   ],
   "source": [
    "2**2"
   ]
  },
  {
   "cell_type": "code",
   "execution_count": 49,
   "id": "ea9cd67c-9701-419c-8a8d-047ccf70c547",
   "metadata": {},
   "outputs": [
    {
     "data": {
      "text/plain": [
       "27"
      ]
     },
     "execution_count": 49,
     "metadata": {},
     "output_type": "execute_result"
    }
   ],
   "source": [
    "3**3"
   ]
  },
  {
   "cell_type": "code",
   "execution_count": 51,
   "id": "d175d8ab-4b6f-4e3c-9583-69a06794fd54",
   "metadata": {},
   "outputs": [
    {
     "data": {
      "text/plain": [
       "100"
      ]
     },
     "execution_count": 51,
     "metadata": {},
     "output_type": "execute_result"
    }
   ],
   "source": [
    "10**2"
   ]
  },
  {
   "cell_type": "code",
   "execution_count": 52,
   "id": "18e572ec-fb38-47fe-96ac-b68dd37fb028",
   "metadata": {},
   "outputs": [
    {
     "data": {
      "text/plain": [
       "9.0"
      ]
     },
     "execution_count": 52,
     "metadata": {},
     "output_type": "execute_result"
    }
   ],
   "source": [
    "# combining operators\n",
    "res3 = 5 + 3 * 2 - 8 / 4\n",
    "res3"
   ]
  },
  {
   "cell_type": "code",
   "execution_count": 53,
   "id": "851929ea-0bb4-4e14-9cc6-63678419c815",
   "metadata": {},
   "outputs": [
    {
     "data": {
      "text/plain": [
       "433"
      ]
     },
     "execution_count": 53,
     "metadata": {},
     "output_type": "execute_result"
    }
   ],
   "source": [
    "# problem\n",
    "\n",
    "85+90+78+92+88"
   ]
  },
  {
   "cell_type": "code",
   "execution_count": 54,
   "id": "1a221fcd-5062-4b85-81f6-4e9b273ba6a5",
   "metadata": {},
   "outputs": [
    {
     "data": {
      "text/plain": [
       "86.6"
      ]
     },
     "execution_count": 54,
     "metadata": {},
     "output_type": "execute_result"
    }
   ],
   "source": [
    "433/5"
   ]
  },
  {
   "cell_type": "code",
   "execution_count": 56,
   "id": "0675d540-717a-4629-ad95-18298b1508cb",
   "metadata": {},
   "outputs": [
    {
     "data": {
      "text/plain": [
       "433"
      ]
     },
     "execution_count": 56,
     "metadata": {},
     "output_type": "execute_result"
    }
   ],
   "source": [
    "# using lists\n",
    "scores = [85,90,78,92,88]\n",
    "tot_score = sum(scores)\n",
    "tot_score"
   ]
  },
  {
   "cell_type": "code",
   "execution_count": 57,
   "id": "bb60daff-874a-4b8d-92cb-0ceab270394e",
   "metadata": {},
   "outputs": [
    {
     "data": {
      "text/plain": [
       "86.6"
      ]
     },
     "execution_count": 57,
     "metadata": {},
     "output_type": "execute_result"
    }
   ],
   "source": [
    "tot_score/5"
   ]
  },
  {
   "cell_type": "code",
   "execution_count": 58,
   "id": "f378f119-2346-4908-b3bb-cdd7059d8de0",
   "metadata": {},
   "outputs": [
    {
     "data": {
      "text/plain": [
       "5"
      ]
     },
     "execution_count": 58,
     "metadata": {},
     "output_type": "execute_result"
    }
   ],
   "source": [
    "len(scores)"
   ]
  },
  {
   "cell_type": "code",
   "execution_count": 59,
   "id": "f2bc17d4-48f6-4188-b91a-d40ab1c93457",
   "metadata": {},
   "outputs": [
    {
     "data": {
      "text/plain": [
       "700"
      ]
     },
     "execution_count": 59,
     "metadata": {},
     "output_type": "execute_result"
    }
   ],
   "source": [
    "# problem 2\n",
    "350+150+200"
   ]
  },
  {
   "cell_type": "code",
   "execution_count": 60,
   "id": "8bc52f48-539c-4c84-88db-203feb8506af",
   "metadata": {},
   "outputs": [
    {
     "data": {
      "text/plain": [
       "500"
      ]
     },
     "execution_count": 60,
     "metadata": {},
     "output_type": "execute_result"
    }
   ],
   "source": [
    "1200-700"
   ]
  },
  {
   "cell_type": "code",
   "execution_count": 3,
   "id": "965ae803-cb9a-44ea-82f6-8649dcee64a2",
   "metadata": {},
   "outputs": [
    {
     "name": "stdout",
     "output_type": "stream",
     "text": [
      "Final price 60.0\n"
     ]
    }
   ],
   "source": [
    "# problem 3\n",
    "original_price = 75\n",
    "dis_perc = 20\n",
    "dis_amo = original_price * (dis_perc / 100)\n",
    "final_price = original_price - dis_amo\n",
    "print(\"Final price\", final_price)"
   ]
  },
  {
   "cell_type": "code",
   "execution_count": 4,
   "id": "a921ab34-eaea-4abf-8f24-8256195765e2",
   "metadata": {},
   "outputs": [
    {
     "name": "stdout",
     "output_type": "stream",
     "text": [
      "26.25\n"
     ]
    }
   ],
   "source": [
    "# problem 4\n",
    "buy = 23.75\n",
    "pay = 50\n",
    "change = pay - buy\n",
    "print(change)"
   ]
  },
  {
   "cell_type": "code",
   "execution_count": 6,
   "id": "752d9f85-50be-4f2b-9cee-23a931878d4b",
   "metadata": {},
   "outputs": [
    {
     "name": "stdout",
     "output_type": "stream",
     "text": [
      "The area of rectangle is 150\n"
     ]
    }
   ],
   "source": [
    "# problem 5\n",
    "width = 10\n",
    "length = 15\n",
    "area = length * width\n",
    "print(\"The area of rectangle is\", area)"
   ]
  },
  {
   "cell_type": "code",
   "execution_count": 8,
   "id": "52092476-1cd2-44d7-8c35-1eaf361eda31",
   "metadata": {},
   "outputs": [
    {
     "name": "stdout",
     "output_type": "stream",
     "text": [
      "The age difference is 5\n"
     ]
    }
   ],
   "source": [
    "#problem 6\n",
    "alice_age = 25\n",
    "bob_age = 30\n",
    "Age_diff = bob_age - alice_age\n",
    "print(\"The age difference is\", Age_diff)"
   ]
  },
  {
   "cell_type": "code",
   "execution_count": 9,
   "id": "69ab62a0-fe3f-45cc-8fed-ecffdcac7610",
   "metadata": {},
   "outputs": [
    {
     "name": "stdout",
     "output_type": "stream",
     "text": [
      "The profit percentage is 50.0\n"
     ]
    }
   ],
   "source": [
    "#problem 7\n",
    "SP = 180\n",
    "CP = 120\n",
    "profit = SP - CP\n",
    "profit_per = profit * 100 / CP\n",
    "print(\"The profit percentage is\", profit_per)"
   ]
  },
  {
   "cell_type": "code",
   "execution_count": 10,
   "id": "c0bc3c36-7897-4d54-8bb2-8c1f2debf6e5",
   "metadata": {},
   "outputs": [
    {
     "data": {
      "text/plain": [
       "False"
      ]
     },
     "execution_count": 10,
     "metadata": {},
     "output_type": "execute_result"
    }
   ],
   "source": [
    "# Relational operators\n",
    "2 == 3"
   ]
  },
  {
   "cell_type": "code",
   "execution_count": 11,
   "id": "5418e437-8574-4ae1-9276-082de2a46ff5",
   "metadata": {},
   "outputs": [
    {
     "data": {
      "text/plain": [
       "True"
      ]
     },
     "execution_count": 11,
     "metadata": {},
     "output_type": "execute_result"
    }
   ],
   "source": [
    "2 == 2"
   ]
  },
  {
   "cell_type": "code",
   "execution_count": 12,
   "id": "08787223-dd70-4b74-8846-f9d2faddd28c",
   "metadata": {},
   "outputs": [
    {
     "data": {
      "text/plain": [
       "False"
      ]
     },
     "execution_count": 12,
     "metadata": {},
     "output_type": "execute_result"
    }
   ],
   "source": [
    "a = 20\n",
    "b = 20\n",
    "a > b"
   ]
  },
  {
   "cell_type": "code",
   "execution_count": 13,
   "id": "9733cf00-6b10-46a1-b4e6-2b74f1908b3c",
   "metadata": {},
   "outputs": [
    {
     "data": {
      "text/plain": [
       "False"
      ]
     },
     "execution_count": 13,
     "metadata": {},
     "output_type": "execute_result"
    }
   ],
   "source": [
    "a < b"
   ]
  },
  {
   "cell_type": "code",
   "execution_count": 14,
   "id": "49be6858-5cc7-4f72-9680-7b9f74f1cf9b",
   "metadata": {},
   "outputs": [
    {
     "data": {
      "text/plain": [
       "True"
      ]
     },
     "execution_count": 14,
     "metadata": {},
     "output_type": "execute_result"
    }
   ],
   "source": [
    "a == b"
   ]
  },
  {
   "cell_type": "code",
   "execution_count": 15,
   "id": "de8abeb8-b583-438d-8ea5-d43e3bc0770a",
   "metadata": {},
   "outputs": [
    {
     "data": {
      "text/plain": [
       "False"
      ]
     },
     "execution_count": 15,
     "metadata": {},
     "output_type": "execute_result"
    }
   ],
   "source": [
    "a != b"
   ]
  },
  {
   "cell_type": "code",
   "execution_count": null,
   "id": "f1b08c6f-f0bc-4fef-8718-23fc879b1ecd",
   "metadata": {},
   "outputs": [],
   "source": []
  }
 ],
 "metadata": {
  "kernelspec": {
   "display_name": "Python 3 (ipykernel)",
   "language": "python",
   "name": "python3"
  },
  "language_info": {
   "codemirror_mode": {
    "name": "ipython",
    "version": 3
   },
   "file_extension": ".py",
   "mimetype": "text/x-python",
   "name": "python",
   "nbconvert_exporter": "python",
   "pygments_lexer": "ipython3",
   "version": "3.12.7"
  }
 },
 "nbformat": 4,
 "nbformat_minor": 5
}
