{
 "cells": [
  {
   "cell_type": "code",
   "execution_count": null,
   "id": "98fa773e-5d19-419a-b46c-27caca8718c7",
   "metadata": {},
   "outputs": [],
   "source": [
    "# relational operators\n"
   ]
  },
  {
   "cell_type": "code",
   "execution_count": 1,
   "id": "106e78af-af2c-4d89-87c4-f082aefc6152",
   "metadata": {},
   "outputs": [
    {
     "name": "stdout",
     "output_type": "stream",
     "text": [
      "True\n"
     ]
    }
   ],
   "source": [
    "a = 4\n",
    "b = 6\n",
    "result = (a<=b)\n",
    "print(result)"
   ]
  },
  {
   "cell_type": "code",
   "execution_count": 1,
   "id": "16515e7b-5e66-4ae9-b74b-61ea2e4ae438",
   "metadata": {},
   "outputs": [
    {
     "name": "stdout",
     "output_type": "stream",
     "text": [
      "ha the student passed True\n"
     ]
    }
   ],
   "source": [
    "# prob 1\n",
    "score = 75\n",
    "has_passed = (score>=60)\n",
    "print(\"ha the student passed\", has_passed)\n"
   ]
  },
  {
   "cell_type": "code",
   "execution_count": 2,
   "id": "a41a6ee7-7666-4f9e-b505-c680c411611f",
   "metadata": {},
   "outputs": [
    {
     "data": {
      "text/plain": [
       "True"
      ]
     },
     "execution_count": 2,
     "metadata": {},
     "output_type": "execute_result"
    }
   ],
   "source": [
    "(score>=60)"
   ]
  },
  {
   "cell_type": "code",
   "execution_count": 4,
   "id": "a349fb5e-7641-4cda-8173-fdeef62ad99b",
   "metadata": {},
   "outputs": [
    {
     "name": "stdout",
     "output_type": "stream",
     "text": [
      "the price is cheaper True\n"
     ]
    }
   ],
   "source": [
    "# prob 2\n",
    "price_1=40\n",
    "price_2=50\n",
    "is_cheaper=(price_1<price_2)\n",
    "print(\"the price is cheaper\", is_cheaper)"
   ]
  },
  {
   "cell_type": "code",
   "execution_count": 5,
   "id": "b5611f67-20bf-4cd0-a423-03c291503bc5",
   "metadata": {},
   "outputs": [],
   "source": [
    "# logical operators"
   ]
  },
  {
   "cell_type": "code",
   "execution_count": 7,
   "id": "7e2592b6-2ac2-4ad1-a7fa-8c327e7cc3ed",
   "metadata": {},
   "outputs": [
    {
     "ename": "SyntaxError",
     "evalue": "cannot assign to True (1586912934.py, line 1)",
     "output_type": "error",
     "traceback": [
      "\u001b[1;36m  Cell \u001b[1;32mIn[7], line 1\u001b[1;36m\u001b[0m\n\u001b[1;33m    True=1\u001b[0m\n\u001b[1;37m    ^\u001b[0m\n\u001b[1;31mSyntaxError\u001b[0m\u001b[1;31m:\u001b[0m cannot assign to True\n"
     ]
    }
   ],
   "source": [
    "True=1"
   ]
  },
  {
   "cell_type": "code",
   "execution_count": 8,
   "id": "6abb97cf-a6b6-4363-baa4-d0953a00f6bb",
   "metadata": {},
   "outputs": [
    {
     "data": {
      "text/plain": [
       "True"
      ]
     },
     "execution_count": 8,
     "metadata": {},
     "output_type": "execute_result"
    }
   ],
   "source": [
    "True"
   ]
  },
  {
   "cell_type": "code",
   "execution_count": 9,
   "id": "301e31ce-5ac8-46e8-9e07-a94e698af1ce",
   "metadata": {},
   "outputs": [
    {
     "data": {
      "text/plain": [
       "False"
      ]
     },
     "execution_count": 9,
     "metadata": {},
     "output_type": "execute_result"
    }
   ],
   "source": [
    "False"
   ]
  },
  {
   "cell_type": "code",
   "execution_count": 10,
   "id": "6e79dc41-19eb-4ccb-8da5-3d67579d1d36",
   "metadata": {},
   "outputs": [
    {
     "data": {
      "text/plain": [
       "True"
      ]
     },
     "execution_count": 10,
     "metadata": {},
     "output_type": "execute_result"
    }
   ],
   "source": [
    "3>2 "
   ]
  },
  {
   "cell_type": "code",
   "execution_count": 11,
   "id": "daf0a199-7618-4318-aa28-3f0093c2de8a",
   "metadata": {},
   "outputs": [
    {
     "data": {
      "text/plain": [
       "False"
      ]
     },
     "execution_count": 11,
     "metadata": {},
     "output_type": "execute_result"
    }
   ],
   "source": [
    "3<2 "
   ]
  },
  {
   "cell_type": "code",
   "execution_count": 16,
   "id": "569d20de-282a-4b84-83e6-4b1b58231112",
   "metadata": {},
   "outputs": [
    {
     "data": {
      "text/plain": [
       "False"
      ]
     },
     "execution_count": 16,
     "metadata": {},
     "output_type": "execute_result"
    }
   ],
   "source": [
    "3<2 and 4>5"
   ]
  },
  {
   "cell_type": "code",
   "execution_count": 12,
   "id": "9c7076a5-b22b-451c-9704-2491d39ea5c5",
   "metadata": {},
   "outputs": [
    {
     "data": {
      "text/plain": [
       "1"
      ]
     },
     "execution_count": 12,
     "metadata": {},
     "output_type": "execute_result"
    }
   ],
   "source": [
    "# AND operator\n",
    "1*1"
   ]
  },
  {
   "cell_type": "code",
   "execution_count": 13,
   "id": "6c73e2bd-d127-466f-88b1-6ac1fafa3b84",
   "metadata": {},
   "outputs": [
    {
     "data": {
      "text/plain": [
       "0"
      ]
     },
     "execution_count": 13,
     "metadata": {},
     "output_type": "execute_result"
    }
   ],
   "source": [
    "1*0"
   ]
  },
  {
   "cell_type": "code",
   "execution_count": 14,
   "id": "8e1b13cb-8371-40c1-bc74-4371d76ed884",
   "metadata": {},
   "outputs": [
    {
     "data": {
      "text/plain": [
       "0"
      ]
     },
     "execution_count": 14,
     "metadata": {},
     "output_type": "execute_result"
    }
   ],
   "source": [
    "0*1"
   ]
  },
  {
   "cell_type": "code",
   "execution_count": 15,
   "id": "13de89f6-4b66-4c18-971b-13fb005a6c65",
   "metadata": {},
   "outputs": [
    {
     "data": {
      "text/plain": [
       "0"
      ]
     },
     "execution_count": 15,
     "metadata": {},
     "output_type": "execute_result"
    }
   ],
   "source": [
    "0*0"
   ]
  },
  {
   "cell_type": "code",
   "execution_count": null,
   "id": "b920a664-2708-4550-95b3-f370ea9a5a23",
   "metadata": {},
   "outputs": [],
   "source": [
    "# OR operator"
   ]
  },
  {
   "cell_type": "code",
   "execution_count": null,
   "id": "000fd5dc-1096-4ccf-80b8-230968cadba6",
   "metadata": {},
   "outputs": [],
   "source": [
    "1"
   ]
  },
  {
   "cell_type": "code",
   "execution_count": null,
   "id": "23cf6349-cf28-4f66-ae2f-94d920614cbb",
   "metadata": {},
   "outputs": [],
   "source": [
    "# bit wise opeartor"
   ]
  },
  {
   "cell_type": "code",
   "execution_count": 17,
   "id": "99c1b648-e869-4484-b894-e1938783cd72",
   "metadata": {},
   "outputs": [
    {
     "name": "stdout",
     "output_type": "stream",
     "text": [
      "1\n"
     ]
    }
   ],
   "source": [
    "# AND &\n",
    "a=5\n",
    "b=3\n",
    "res1=a&b\n",
    "print(res1)"
   ]
  },
  {
   "cell_type": "code",
   "execution_count": 19,
   "id": "3c8190ee-7929-4e37-aef7-8842a668ec55",
   "metadata": {},
   "outputs": [
    {
     "name": "stdout",
     "output_type": "stream",
     "text": [
      "7\n"
     ]
    }
   ],
   "source": [
    "# OR operator\n",
    "a1=5\n",
    "b1=3\n",
    "res3=a1|b1\n",
    "print(res3)"
   ]
  },
  {
   "cell_type": "code",
   "execution_count": 21,
   "id": "9c36d5e6-c8b3-4985-a61d-261a0db8fdd6",
   "metadata": {},
   "outputs": [
    {
     "name": "stdout",
     "output_type": "stream",
     "text": [
      "4\n"
     ]
    }
   ],
   "source": [
    "a3=5\n",
    "b3=6\n",
    "res4=a3&b3\n",
    "print(res4)"
   ]
  },
  {
   "cell_type": "code",
   "execution_count": 22,
   "id": "5493f126-2bd8-4bd7-91a9-e98b06a8c851",
   "metadata": {},
   "outputs": [
    {
     "name": "stdout",
     "output_type": "stream",
     "text": [
      "-6\n"
     ]
    }
   ],
   "source": [
    "# NOT \n",
    "a=5\n",
    "res=~a\n",
    "print(res)"
   ]
  },
  {
   "cell_type": "code",
   "execution_count": null,
   "id": "bee28d19-9b72-4599-b742-bc933044fe73",
   "metadata": {},
   "outputs": [],
   "source": [
    "# membership operator\n"
   ]
  },
  {
   "cell_type": "code",
   "execution_count": 23,
   "id": "07532c02-43c0-4065-8ed0-3ca5b3dcd168",
   "metadata": {},
   "outputs": [
    {
     "name": "stdout",
     "output_type": "stream",
     "text": [
      "True\n"
     ]
    }
   ],
   "source": [
    "# in opeartor\n",
    "my_str=\"Hello world\"\n",
    "print(\"world\"in my_str)\n"
   ]
  },
  {
   "cell_type": "code",
   "execution_count": 25,
   "id": "8b871292-9e0c-4688-b6ae-2aec017574ce",
   "metadata": {},
   "outputs": [
    {
     "name": "stdout",
     "output_type": "stream",
     "text": [
      "False\n"
     ]
    }
   ],
   "source": [
    "my_num=[1,2,3]\n",
    "print(\"4\"in my_num)"
   ]
  },
  {
   "cell_type": "code",
   "execution_count": 24,
   "id": "e96303ed-ea26-4363-986f-eb6b14c8bf60",
   "metadata": {},
   "outputs": [
    {
     "name": "stdout",
     "output_type": "stream",
     "text": [
      "True\n"
     ]
    }
   ],
   "source": [
    "# not in operator\n",
    "my_str1=\"hello world\"\n",
    "print(\"hi\"not in my_str1)"
   ]
  },
  {
   "cell_type": "code",
   "execution_count": 26,
   "id": "3d9c1d92-0f77-40e4-b6a4-9e34e3ae596c",
   "metadata": {},
   "outputs": [
    {
     "name": "stdout",
     "output_type": "stream",
     "text": [
      "False\n"
     ]
    }
   ],
   "source": [
    "my_str=\"hello world\"\n",
    "print(\"hello\"not in my_str)"
   ]
  },
  {
   "cell_type": "code",
   "execution_count": 28,
   "id": "ee96b132-9022-4ebe-8880-ee759448caa6",
   "metadata": {},
   "outputs": [
    {
     "name": "stdout",
     "output_type": "stream",
     "text": [
      "False\n"
     ]
    }
   ],
   "source": [
    "fruits=[\"apple\",\"banana\",\"cherry\"]\n",
    "print(\"grapes\" in fruits)"
   ]
  },
  {
   "cell_type": "code",
   "execution_count": 29,
   "id": "4915627e-cfb2-4d4b-8d39-322e6290aeb6",
   "metadata": {},
   "outputs": [
    {
     "name": "stdout",
     "output_type": "stream",
     "text": [
      "True\n"
     ]
    }
   ],
   "source": [
    "fruits=[\"apple\",\"banana\",\"cherry\"]\n",
    "print(\"apple\" in fruits)"
   ]
  },
  {
   "cell_type": "code",
   "execution_count": 30,
   "id": "3a6fcc89-ec92-456c-ace0-c078fae5f5c0",
   "metadata": {},
   "outputs": [
    {
     "name": "stdout",
     "output_type": "stream",
     "text": [
      "True\n"
     ]
    }
   ],
   "source": [
    "player=[\"rohit\",\"virat\",\"siraj\"]\n",
    "print(\"siraj\" in player)"
   ]
  },
  {
   "cell_type": "code",
   "execution_count": 31,
   "id": "969dbeec-0a9d-4198-999d-f4b7fc035022",
   "metadata": {},
   "outputs": [
    {
     "name": "stdout",
     "output_type": "stream",
     "text": [
      "False\n"
     ]
    }
   ],
   "source": [
    "player=[\"rohit\",\"virat\",\"siraj\"]\n",
    "print(\"siraj\"not in player)"
   ]
  },
  {
   "cell_type": "code",
   "execution_count": null,
   "id": "60311632-5077-4d1e-a5ea-b47badd2b5d9",
   "metadata": {},
   "outputs": [],
   "source": [
    "# dictionary\n"
   ]
  },
  {
   "cell_type": "code",
   "execution_count": null,
   "id": "0839a300-484b-43f5-a551-f49ef1e90cd2",
   "metadata": {},
   "outputs": [],
   "source": [
    "# python statement\n"
   ]
  },
  {
   "cell_type": "code",
   "execution_count": 32,
   "id": "c95f5cd7-91d6-427f-9f3f-6f34eadf5313",
   "metadata": {},
   "outputs": [
    {
     "data": {
      "text/plain": [
       "True"
      ]
     },
     "execution_count": 32,
     "metadata": {},
     "output_type": "execute_result"
    }
   ],
   "source": [
    "# if\n",
    "\n",
    "a=[1,2,3]\n",
    "1 in a"
   ]
  },
  {
   "cell_type": "code",
   "execution_count": 36,
   "id": "6f47fb29-0457-41c3-bec9-828608d80b84",
   "metadata": {},
   "outputs": [
    {
     "name": "stdout",
     "output_type": "stream",
     "text": [
      "i got it\n",
      "this is executed\n"
     ]
    }
   ],
   "source": [
    "if 1 in a:\n",
    " print(\"i got it\")\n",
    "print(\"this is executed\")"
   ]
  },
  {
   "cell_type": "code",
   "execution_count": 37,
   "id": "c264cb4f-e1b3-481b-9d5b-5014811b7970",
   "metadata": {},
   "outputs": [
    {
     "name": "stdout",
     "output_type": "stream",
     "text": [
      "this is executed\n"
     ]
    }
   ],
   "source": [
    "if 10 in a:\n",
    " print(\"i got it\")\n",
    "print(\"this is executed\")"
   ]
  },
  {
   "cell_type": "code",
   "execution_count": 40,
   "id": "0a493db7-c762-478f-9182-e78f97fe48a9",
   "metadata": {},
   "outputs": [
    {
     "name": "stdout",
     "output_type": "stream",
     "text": [
      "eligible to vote\n"
     ]
    }
   ],
   "source": [
    "age=19\n",
    "if age>18:\n",
    "    print(\"eligible to vote\")\n",
    "   "
   ]
  },
  {
   "cell_type": "code",
   "execution_count": 41,
   "id": "65796391-cf42-49f5-92ac-9e295ca569a2",
   "metadata": {},
   "outputs": [
    {
     "name": "stdout",
     "output_type": "stream",
     "text": [
      "not eligible\n"
     ]
    }
   ],
   "source": [
    "if age > 18:\n",
    "    print(\"not eligible\")"
   ]
  },
  {
   "cell_type": "code",
   "execution_count": 42,
   "id": "85110ade-d0e9-4a31-b297-cf34ec3845ed",
   "metadata": {},
   "outputs": [
    {
     "name": "stdout",
     "output_type": "stream",
     "text": [
      "greater\n"
     ]
    }
   ],
   "source": [
    "if 5 > 2:\n",
    "    print(\"greater\")\n",
    "    "
   ]
  },
  {
   "cell_type": "code",
   "execution_count": 44,
   "id": "bdac2d8f-8b41-4aec-9380-b74f791fa30f",
   "metadata": {},
   "outputs": [
    {
     "name": "stdout",
     "output_type": "stream",
     "text": [
      "Greater\n"
     ]
    }
   ],
   "source": [
    "if 5>2: print(\"Greater\")"
   ]
  },
  {
   "cell_type": "code",
   "execution_count": 45,
   "id": "414a7926-645e-441b-a073-8892a08bbbd4",
   "metadata": {},
   "outputs": [
    {
     "name": "stdout",
     "output_type": "stream",
     "text": [
      "Greater\n",
      "this will be printed\n"
     ]
    }
   ],
   "source": [
    "if 5>2:\n",
    "    print(\"Greater\")\n",
    "print(\"this will be printed\")"
   ]
  },
  {
   "cell_type": "code",
   "execution_count": 52,
   "id": "1fa7e7be-aa6e-4b4b-9996-6b0969caefdc",
   "metadata": {},
   "outputs": [
    {
     "name": "stdout",
     "output_type": "stream",
     "text": [
      "And statement with logical operator\n",
      "statement2\n"
     ]
    }
   ],
   "source": [
    "if 5>2 and 7>3:\n",
    "    print(\"And statement with logical operator\")\n",
    "    print(\"statement2\")\n",
    "    "
   ]
  },
  {
   "cell_type": "code",
   "execution_count": 54,
   "id": "6b7abcaa-69be-401e-a81b-e32ba40b71d1",
   "metadata": {},
   "outputs": [
    {
     "name": "stdout",
     "output_type": "stream",
     "text": [
      "Or operator \n"
     ]
    }
   ],
   "source": [
    "if 5>2 or 7<3 :\n",
    " print(\"Or operator \")"
   ]
  },
  {
   "cell_type": "code",
   "execution_count": null,
   "id": "3a60f693-cfdd-41d1-bfe2-b66077b766f9",
   "metadata": {},
   "outputs": [],
   "source": [
    "# IF ELSE\n"
   ]
  },
  {
   "cell_type": "code",
   "execution_count": 55,
   "id": "fa66444c-a0fb-4e71-b4b4-036764cfb382",
   "metadata": {},
   "outputs": [
    {
     "name": "stdout",
     "output_type": "stream",
     "text": [
      "It is hot day\n"
     ]
    }
   ],
   "source": [
    "temp = 30\n",
    "if temp > 25:\n",
    "    print(\"It is hot day\")\n",
    "else:\n",
    "    print(\"It is a cool day\")\n",
    "    "
   ]
  },
  {
   "cell_type": "code",
   "execution_count": 56,
   "id": "159ea862-082b-46cd-95b8-c88cca29d59d",
   "metadata": {},
   "outputs": [
    {
     "name": "stdout",
     "output_type": "stream",
     "text": [
      "It is a cool day\n"
     ]
    }
   ],
   "source": [
    "temp = 30\n",
    "if temp > 35:\n",
    "    print(\"It is hot day\")\n",
    "else:\n",
    "    print(\"It is a cool day\")"
   ]
  },
  {
   "cell_type": "code",
   "execution_count": 60,
   "id": "f00cf8e6-a389-429b-b060-a44e7dff07ec",
   "metadata": {},
   "outputs": [
    {
     "name": "stdin",
     "output_type": "stream",
     "text": [
      "enter number 1\n"
     ]
    }
   ],
   "source": [
    "# prob\n",
    "num = int(input(\"enter number\"))\n"
   ]
  },
  {
   "cell_type": "code",
   "execution_count": 61,
   "id": "9d124c41-72c5-46a5-a292-a79061c8585c",
   "metadata": {},
   "outputs": [
    {
     "name": "stdout",
     "output_type": "stream",
     "text": [
      "odd\n"
     ]
    }
   ],
   "source": [
    "if num%2==0:\n",
    " print(\"even\")\n",
    "else:\n",
    "    print(\"odd\")"
   ]
  },
  {
   "cell_type": "code",
   "execution_count": 62,
   "id": "2c4b6b54-6e2e-4d94-b951-a4685c1935dc",
   "metadata": {},
   "outputs": [
    {
     "name": "stdin",
     "output_type": "stream",
     "text": [
      "enter number 2\n"
     ]
    }
   ],
   "source": [
    "num = int(input(\"enter number\"))"
   ]
  },
  {
   "cell_type": "code",
   "execution_count": 63,
   "id": "38653dc4-fd2d-4d1f-945e-29f36611bb1a",
   "metadata": {},
   "outputs": [
    {
     "name": "stdout",
     "output_type": "stream",
     "text": [
      "even\n"
     ]
    }
   ],
   "source": [
    "if num%2==0:\n",
    " print(\"even\")\n",
    "else:\n",
    "    print(\"odd\")"
   ]
  },
  {
   "cell_type": "code",
   "execution_count": null,
   "id": "65e80c18-02e4-4018-89a8-70166f15e77a",
   "metadata": {},
   "outputs": [],
   "source": [
    "# elif\n"
   ]
  },
  {
   "cell_type": "code",
   "execution_count": 67,
   "id": "9d865d48-0a03-4d3a-9539-16c0f68a75c4",
   "metadata": {},
   "outputs": [
    {
     "name": "stdout",
     "output_type": "stream",
     "text": [
      "grade B\n"
     ]
    }
   ],
   "source": [
    "marks=85\n",
    "if marks>=90:\n",
    " print(\"grade A\")\n",
    "elif marks>=80:\n",
    "    print(\"grade B\")\n",
    "elif marks>=70:\n",
    "    print(\"grade C\")\n",
    "else:\n",
    " print(\"grade D\")"
   ]
  },
  {
   "cell_type": "code",
   "execution_count": 68,
   "id": "3d16acb9-43a3-460f-991f-1e0e7fb10932",
   "metadata": {},
   "outputs": [
    {
     "name": "stdout",
     "output_type": "stream",
     "text": [
      "Grade B\n",
      "Grade C\n"
     ]
    }
   ],
   "source": [
    "mar=88\n",
    "if mar>=90:\n",
    " print(\" Grade A\")\n",
    "if mar>=80:\n",
    " print(\"Grade B\")\n",
    "if mar>=70:\n",
    "    print(\"Grade C\")\n",
    "else:\n",
    "    print(\"Fail\")"
   ]
  },
  {
   "cell_type": "code",
   "execution_count": 69,
   "id": "dc856d1d-da76-47ff-b623-4373eb525ea7",
   "metadata": {},
   "outputs": [
    {
     "name": "stdout",
     "output_type": "stream",
     "text": [
      "Fail\n"
     ]
    }
   ],
   "source": [
    "mar=30\n",
    "if mar>=90:\n",
    " print(\" Grade A\")\n",
    "if mar>=80:\n",
    " print(\"Grade B\")\n",
    "if mar>=70:\n",
    "    print(\"Grade C\")\n",
    "else:\n",
    "    print(\"Fail\")"
   ]
  },
  {
   "cell_type": "code",
   "execution_count": null,
   "id": "16cf7db0-06b5-446b-b794-f8b68a120fc2",
   "metadata": {},
   "outputs": [],
   "source": [
    "# nested if"
   ]
  },
  {
   "cell_type": "code",
   "execution_count": 70,
   "id": "6e0201bc-121d-42bb-b30b-301fe342dc0b",
   "metadata": {},
   "outputs": [
    {
     "name": "stdout",
     "output_type": "stream",
     "text": [
      "Positive number\n",
      "Odd number\n"
     ]
    }
   ],
   "source": [
    "number = 15\n",
    "if number>0:\n",
    "    print(\"Positive number\")\n",
    "    if number%2 == 0:\n",
    "        print(\"Even number\")\n",
    "    else:\n",
    "        print(\"Odd number\")\n",
    "else:\n",
    "    print(\"The number is Zero or a negative number\")"
   ]
  },
  {
   "cell_type": "code",
   "execution_count": 72,
   "id": "5d975d4b-0714-4953-84e2-bd7bffe2230f",
   "metadata": {},
   "outputs": [
    {
     "name": "stdout",
     "output_type": "stream",
     "text": [
      "Positive number\n",
      "Even number\n"
     ]
    }
   ],
   "source": [
    "number = 26\n",
    "if number>0:\n",
    "    print(\"Positive number\")\n",
    "    if number%2 == 0:\n",
    "        print(\"Even number\")\n",
    "    else:\n",
    "        print(\"Odd number\")\n",
    "else:\n",
    "    print(\"The number is Zero or a negative number\")"
   ]
  },
  {
   "cell_type": "code",
   "execution_count": 73,
   "id": "4243ad9d-5607-4013-8f45-3f312c3bdcb6",
   "metadata": {},
   "outputs": [
    {
     "name": "stdout",
     "output_type": "stream",
     "text": [
      "The number is Zero or a negative number\n"
     ]
    }
   ],
   "source": [
    "number = 0\n",
    "if number>0:\n",
    "    print(\"Positive number\")\n",
    "    if number%2 == 0:\n",
    "        print(\"Even number\")\n",
    "    else:\n",
    "        print(\"Odd number\")\n",
    "else:\n",
    "    print(\"The number is Zero or a negative number\")"
   ]
  },
  {
   "cell_type": "code",
   "execution_count": 74,
   "id": "d6469ce8-4aa9-4692-a501-8ac4e6981580",
   "metadata": {},
   "outputs": [
    {
     "name": "stdout",
     "output_type": "stream",
     "text": [
      "its hot\n"
     ]
    }
   ],
   "source": [
    "#prob\n",
    "temp=30\n",
    "if temp<0:\n",
    "    print(\"its freezing\")\n",
    "elif 0<temp<10:\n",
    "    print(\"its cold\")\n",
    "elif 10<temp<25:\n",
    "    print(\"its warm\")\n",
    "elif temp>25:\n",
    "    print(\"its hot\")"
   ]
  },
  {
   "cell_type": "code",
   "execution_count": 75,
   "id": "18a8b191-4874-4316-818d-6b50462734b3",
   "metadata": {},
   "outputs": [
    {
     "name": "stdout",
     "output_type": "stream",
     "text": [
      "its freezing\n"
     ]
    }
   ],
   "source": [
    "temp=-2\n",
    "if temp<0:\n",
    "    print(\"its freezing\")\n",
    "elif 0<temp<10:\n",
    "    print(\"its cold\")\n",
    "elif 10<temp<25:\n",
    "    print(\"its warm\")\n",
    "elif temp>25:\n",
    "    print(\"its hot\")"
   ]
  },
  {
   "cell_type": "code",
   "execution_count": 76,
   "id": "781f32af-e827-467f-b352-0d95c229a01e",
   "metadata": {},
   "outputs": [
    {
     "name": "stdout",
     "output_type": "stream",
     "text": [
      "its cold\n"
     ]
    }
   ],
   "source": [
    "temp=5\n",
    "if temp<0:\n",
    "    print(\"its freezing\")\n",
    "elif 0<temp<10:\n",
    "    print(\"its cold\")\n",
    "elif 10<temp<25:\n",
    "    print(\"its warm\")\n",
    "elif temp>25:\n",
    "    print(\"its hot\")"
   ]
  },
  {
   "cell_type": "code",
   "execution_count": 77,
   "id": "8f6a6abf-feab-4ae8-88ec-253b35cb2838",
   "metadata": {},
   "outputs": [
    {
     "name": "stdout",
     "output_type": "stream",
     "text": [
      "its warm\n"
     ]
    }
   ],
   "source": [
    "temp=15\n",
    "if temp<0:\n",
    "    print(\"its freezing\")\n",
    "elif 0<temp<10:\n",
    "    print(\"its cold\")\n",
    "elif 10<temp<25:\n",
    "    print(\"its warm\")\n",
    "elif temp>25:\n",
    "    print(\"its hot\")"
   ]
  },
  {
   "cell_type": "code",
   "execution_count": null,
   "id": "de4b82de-a9fa-4689-8f8c-db4eb63af14b",
   "metadata": {},
   "outputs": [],
   "source": []
  }
 ],
 "metadata": {
  "kernelspec": {
   "display_name": "Python 3 (ipykernel)",
   "language": "python",
   "name": "python3"
  },
  "language_info": {
   "codemirror_mode": {
    "name": "ipython",
    "version": 3
   },
   "file_extension": ".py",
   "mimetype": "text/x-python",
   "name": "python",
   "nbconvert_exporter": "python",
   "pygments_lexer": "ipython3",
   "version": "3.12.7"
  }
 },
 "nbformat": 4,
 "nbformat_minor": 5
}
