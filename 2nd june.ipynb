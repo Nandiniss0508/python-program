{
 "cells": [
  {
   "cell_type": "code",
   "execution_count": 2,
   "id": "600c83b1-4056-46eb-989e-365b71a7c800",
   "metadata": {},
   "outputs": [
    {
     "name": "stdout",
     "output_type": "stream",
     "text": [
      "Median income : 65000.0\n"
     ]
    }
   ],
   "source": [
    "import numpy as np\n",
    "# median and mean\n",
    "income = ([45000,55000,60000,65000,70000,80000,90000])\n",
    "median_income = np.median(income)\n",
    "print(\"Median income :\",median_income)"
   ]
  },
  {
   "cell_type": "code",
   "execution_count": 3,
   "id": "fbd0f0d2-f691-4e89-827c-0f2f4aa8bddf",
   "metadata": {},
   "outputs": [
    {
     "name": "stdout",
     "output_type": "stream",
     "text": [
      "mean income: 66428.57142857143\n"
     ]
    }
   ],
   "source": [
    "mean_income = np.mean(income)\n",
    "print(\"mean income:\",mean_income)"
   ]
  },
  {
   "cell_type": "code",
   "execution_count": 4,
   "id": "09cd7528-618d-441b-bd2f-ec69382607cc",
   "metadata": {},
   "outputs": [
    {
     "data": {
      "text/plain": [
       "3.40587727318528"
      ]
     },
     "execution_count": 4,
     "metadata": {},
     "output_type": "execute_result"
    }
   ],
   "source": [
    "# standard deviation\n",
    "\n",
    "class_A = np.array([85,88,90,92,95])\n",
    "class_B = np.array([70,80,85,95,100])\n",
    "np.std(class_A)"
   ]
  },
  {
   "cell_type": "code",
   "execution_count": 5,
   "id": "4b9fa655-219c-465b-9e32-c9d85329786b",
   "metadata": {},
   "outputs": [
    {
     "data": {
      "text/plain": [
       "10.677078252031311"
      ]
     },
     "execution_count": 5,
     "metadata": {},
     "output_type": "execute_result"
    }
   ],
   "source": [
    "np.std(class_B)"
   ]
  },
  {
   "cell_type": "code",
   "execution_count": 6,
   "id": "858cdac4-f20d-455c-87a5-9b415f4d7559",
   "metadata": {},
   "outputs": [
    {
     "data": {
      "text/plain": [
       "0.25"
      ]
     },
     "execution_count": 6,
     "metadata": {},
     "output_type": "execute_result"
    }
   ],
   "source": [
    "#variance\n",
    "\n",
    "prd_a = np.array([4,5])\n",
    "prd_b = np.array([2,8])\n",
    "np.var(prd_a)"
   ]
  },
  {
   "cell_type": "code",
   "execution_count": 7,
   "id": "3e2a097a-657b-46fd-8ddc-dcc208eac48d",
   "metadata": {},
   "outputs": [
    {
     "data": {
      "text/plain": [
       "9.0"
      ]
     },
     "execution_count": 7,
     "metadata": {},
     "output_type": "execute_result"
    }
   ],
   "source": [
    "np.var(prd_b)"
   ]
  },
  {
   "cell_type": "code",
   "execution_count": 8,
   "id": "f55a7a4a-1e31-4afc-8ebd-0c06c33b255f",
   "metadata": {},
   "outputs": [
    {
     "name": "stdout",
     "output_type": "stream",
     "text": [
      "minimum traffic: 1200\n",
      "maximum traffic: 1800\n"
     ]
    }
   ],
   "source": [
    "#min and max\n",
    "\n",
    "daily_traffic = np.array([1200,1350,1480,1650,1800])\n",
    "print(\"minimum traffic:\",np.min(daily_traffic))\n",
    "print(\"maximum traffic:\",np.max(daily_traffic))"
   ]
  },
  {
   "cell_type": "code",
   "execution_count": 9,
   "id": "b11b4d09-3206-4210-8be8-11b14c4f0ea3",
   "metadata": {},
   "outputs": [
    {
     "name": "stdout",
     "output_type": "stream",
     "text": [
      "total weekly sales: 46100\n"
     ]
    }
   ],
   "source": [
    "# sum - summmation\n",
    "sales = np.array([5500,6200,4800,7200,6800,7500,8100])\n",
    "total_sales = np.sum(sales)\n",
    "print(\"total weekly sales:\", total_sales)"
   ]
  },
  {
   "cell_type": "code",
   "execution_count": 14,
   "id": "09a0f75e-e4ee-433c-8952-d3f90df658ff",
   "metadata": {},
   "outputs": [
    {
     "name": "stdout",
     "output_type": "stream",
     "text": [
      "25th percentile 95.25\n",
      "50th percentile 109.0\n",
      "75th percentile 123.5\n",
      "90th percentile 132.2\n",
      "100th percentile 138.0\n"
     ]
    }
   ],
   "source": [
    "#percentile\n",
    "test_scores = np.array([65,75,80,85,90,92,94,95,96,98,100,102,104,106,108,110,112,114,116,118,120,122,124,126,128,130,132,134,136,138])\n",
    "print(\"25th percentile\",np.percentile(test_scores,25))\n",
    "print(\"50th percentile\",np.percentile(test_scores,50))\n",
    "print(\"75th percentile\",np.percentile(test_scores,75))\n",
    "print(\"90th percentile\",np.percentile(test_scores,90))\n",
    "print(\"100th percentile\",np.percentile(test_scores,100))\n"
   ]
  },
  {
   "cell_type": "code",
   "execution_count": 10,
   "id": "c8b43ed3-aabb-4287-8b40-de84040011ed",
   "metadata": {},
   "outputs": [],
   "source": [
    "#save files\n",
    "\n",
    "arr = np.array([1,2,3,4,5])\n",
    "np.save(\"my_array.npy\",arr)"
   ]
  },
  {
   "cell_type": "code",
   "execution_count": 11,
   "id": "1f57bfd5-b9d8-4311-8cdf-c3d084a82123",
   "metadata": {},
   "outputs": [
    {
     "name": "stdout",
     "output_type": "stream",
     "text": [
      "[1 2 3 4 5]\n"
     ]
    }
   ],
   "source": [
    "#load files\n",
    "loader_arr = np.load(\"my_array.npy\")\n",
    "print(loader_arr)"
   ]
  },
  {
   "cell_type": "code",
   "execution_count": 12,
   "id": "a774f5d9-aaca-41fb-a257-a0397cdb6fa6",
   "metadata": {},
   "outputs": [
    {
     "data": {
      "text/plain": [
       "array([1, 2, 3, 4, 5])"
      ]
     },
     "execution_count": 12,
     "metadata": {},
     "output_type": "execute_result"
    }
   ],
   "source": [
    "np.load(\"my_array.npy\")"
   ]
  },
  {
   "cell_type": "code",
   "execution_count": 13,
   "id": "834e1d6d-2bb6-44f9-9fc9-9b9f0c54f151",
   "metadata": {},
   "outputs": [],
   "source": [
    "#save files\n",
    "arr = np.array([[1,2,3],[4,5,6]])\n",
    "np.savetxt(\"array.txt\",arr)\n"
   ]
  },
  {
   "cell_type": "code",
   "execution_count": null,
   "id": "5f534113-93c1-4d68-8423-e659fb8b364f",
   "metadata": {},
   "outputs": [],
   "source": []
  }
 ],
 "metadata": {
  "kernelspec": {
   "display_name": "Python 3 (ipykernel)",
   "language": "python",
   "name": "python3"
  },
  "language_info": {
   "codemirror_mode": {
    "name": "ipython",
    "version": 3
   },
   "file_extension": ".py",
   "mimetype": "text/x-python",
   "name": "python",
   "nbconvert_exporter": "python",
   "pygments_lexer": "ipython3",
   "version": "3.12.7"
  }
 },
 "nbformat": 4,
 "nbformat_minor": 5
}
