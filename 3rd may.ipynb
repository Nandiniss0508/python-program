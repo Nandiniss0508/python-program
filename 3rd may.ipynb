{
 "cells": [
  {
   "cell_type": "code",
   "execution_count": 24,
   "id": "d6787440-01b8-4de6-900b-9ac7a6b3adbd",
   "metadata": {},
   "outputs": [
    {
     "name": "stdout",
     "output_type": "stream",
     "text": [
      "1\n",
      "2\n",
      "3\n",
      "4\n",
      "6\n",
      "7\n"
     ]
    }
   ],
   "source": [
    "# print numbers from 1 to 7 except 5\n",
    "#continue\n",
    "number = [1,2,3,4,5,6,7]\n",
    "for i in number:\n",
    "    if i==5:\n",
    "        continue\n",
    "    print(i)"
   ]
  },
  {
   "cell_type": "code",
   "execution_count": 33,
   "id": "46ce0153-798d-436a-9287-6d5c0759619b",
   "metadata": {},
   "outputs": [
    {
     "name": "stdout",
     "output_type": "stream",
     "text": [
      "0\n",
      "1\n",
      "2\n",
      "3\n",
      "4\n",
      "5\n",
      "6\n"
     ]
    }
   ],
   "source": [
    "# break\n",
    "for i in range(10):\n",
    "    print(i)\n",
    "    if i == 6:\n",
    "        break"
   ]
  },
  {
   "cell_type": "code",
   "execution_count": 46,
   "id": "9f435cc3-fe94-4b64-ae4b-da84f24d1f13",
   "metadata": {},
   "outputs": [
    {
     "name": "stdout",
     "output_type": "stream",
     "text": [
      "0\n",
      "1\n",
      "2\n",
      "4\n"
     ]
    }
   ],
   "source": [
    "#pass   holds the empty space\n",
    "for number in range(5):\n",
    "    if number == 3:\n",
    "        pass\n",
    "    else:\n",
    "        print(number)"
   ]
  },
  {
   "cell_type": "code",
   "execution_count": 27,
   "id": "cbe39dc4-fa48-490a-bd52-e5e04cd7f6bf",
   "metadata": {},
   "outputs": [
    {
     "name": "stdout",
     "output_type": "stream",
     "text": [
      "11\n",
      "13\n",
      "15\n",
      "17\n",
      "19\n",
      "21\n",
      "23\n",
      "25\n",
      "27\n",
      "29\n",
      "31\n",
      "33\n",
      "35\n",
      "37\n",
      "39\n",
      "41\n",
      "43\n",
      "45\n",
      "47\n",
      "49\n"
     ]
    }
   ],
   "source": [
    "# write a loop the prints prime numbers from 10 to 50\n",
    "for i in range(10,50):\n",
    "    if i%2 != 0:\n",
    "        print(i)"
   ]
  },
  {
   "cell_type": "code",
   "execution_count": 30,
   "id": "d5ad99ac-e0ae-40e9-be2c-2c29cc50f848",
   "metadata": {},
   "outputs": [
    {
     "name": "stdout",
     "output_type": "stream",
     "text": [
      "11 is a prime number\n",
      "13 is a prime number\n",
      "15 is a prime number\n",
      "17 is a prime number\n",
      "19 is a prime number\n",
      "21 is a prime number\n",
      "23 is a prime number\n",
      "25 is a prime number\n",
      "27 is a prime number\n",
      "29 is a prime number\n",
      "31 is a prime number\n",
      "33 is a prime number\n",
      "35 is a prime number\n",
      "37 is a prime number\n",
      "39 is a prime number\n",
      "41 is a prime number\n",
      "43 is a prime number\n",
      "45 is a prime number\n",
      "47 is a prime number\n",
      "49 is a prime number\n"
     ]
    }
   ],
   "source": [
    "#write a loop that prints only the prime numbers from 10 to 50\n",
    "for i in range(10,50):\n",
    "    if i%2 != 0:\n",
    "        print(f'{i} is a prime number')"
   ]
  },
  {
   "cell_type": "code",
   "execution_count": 13,
   "id": "cf27534e-f719-4254-9524-fac2257c12f0",
   "metadata": {},
   "outputs": [
    {
     "name": "stdout",
     "output_type": "stream",
     "text": [
      "12 is even and greater than 10\n",
      "14 is even and greater than 10\n",
      "16 is even and greater than 10\n",
      "18 is even and greater than 10\n",
      "20 is even and greater than 10\n"
     ]
    }
   ],
   "source": [
    "# from the list of numbers print only the ones that are both even and greater than 10\n",
    "list = [12,14,15,16,17,18,19,20]\n",
    "for i in list:\n",
    " if i%2==0 and i>10:\n",
    "     print(f'{i} is even and greater than 10')"
   ]
  },
  {
   "cell_type": "code",
   "execution_count": 14,
   "id": "9b4bb601-bd9a-4ff8-9ead-ef73d828351d",
   "metadata": {},
   "outputs": [
    {
     "name": "stdout",
     "output_type": "stream",
     "text": [
      "0\n",
      "1\n",
      "3\n",
      "4\n"
     ]
    }
   ],
   "source": [
    "# print numbers from 1 to 5 except 2\n",
    "for number in range(5):\n",
    "    if number==2:\n",
    "        continue\n",
    "    print(number)"
   ]
  },
  {
   "cell_type": "code",
   "execution_count": 20,
   "id": "5937410e-1d71-4dd0-b0f0-fd2f283fb3c2",
   "metadata": {},
   "outputs": [
    {
     "name": "stdout",
     "output_type": "stream",
     "text": [
      "0\n",
      "1\n",
      "2\n",
      "4\n"
     ]
    }
   ],
   "source": [
    "# print numbers from 1 to 5 except 3\n",
    "for number in range(5):\n",
    " if number==3:\n",
    "    continue\n",
    " print(number)"
   ]
  },
  {
   "cell_type": "code",
   "execution_count": 48,
   "id": "70a5770c-53e9-437b-9406-1f66e0258e6f",
   "metadata": {},
   "outputs": [
    {
     "name": "stdout",
     "output_type": "stream",
     "text": [
      "1\n",
      "2\n",
      "3\n",
      "4\n",
      "5\n"
     ]
    }
   ],
   "source": [
    "a = [1,2,3,4,5]\n",
    "for i in a:\n",
    "    print(i)"
   ]
  },
  {
   "cell_type": "code",
   "execution_count": null,
   "id": "82873d39-f117-40eb-9fc4-f640ad2219b6",
   "metadata": {},
   "outputs": [],
   "source": []
  }
 ],
 "metadata": {
  "kernelspec": {
   "display_name": "Python 3 (ipykernel)",
   "language": "python",
   "name": "python3"
  },
  "language_info": {
   "codemirror_mode": {
    "name": "ipython",
    "version": 3
   },
   "file_extension": ".py",
   "mimetype": "text/x-python",
   "name": "python",
   "nbconvert_exporter": "python",
   "pygments_lexer": "ipython3",
   "version": "3.12.7"
  }
 },
 "nbformat": 4,
 "nbformat_minor": 5
}
