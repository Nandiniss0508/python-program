{
 "cells": [
  {
   "cell_type": "code",
   "execution_count": 1,
   "id": "1ee41596-950f-4802-992b-a37b5f4cd897",
   "metadata": {},
   "outputs": [
    {
     "name": "stdout",
     "output_type": "stream",
     "text": [
      "count is:  1\n",
      "count is:  2\n",
      "count is:  3\n",
      "count is:  4\n",
      "count is:  5\n"
     ]
    }
   ],
   "source": [
    "#while loop\n",
    "\n",
    "count =  1\n",
    "while count<=5:\n",
    "    print(\"count is: \", count)\n",
    "    count+=1"
   ]
  },
  {
   "cell_type": "code",
   "execution_count": 6,
   "id": "8741dc76-e195-466f-b5e9-7d9791eac8ff",
   "metadata": {},
   "outputs": [
    {
     "name": "stdout",
     "output_type": "stream",
     "text": [
      "current number is: 10\n",
      "current number is: 8\n",
      "current number is: 6\n",
      "current number is: 4\n",
      "current number is: 2\n"
     ]
    }
   ],
   "source": [
    "num=10\n",
    "while num>0:\n",
    "    print(\"current number is:\", num)\n",
    "    num-=2"
   ]
  },
  {
   "cell_type": "code",
   "execution_count": 9,
   "id": "7e6ed4f4-7111-4e3f-93f7-5ca5867ab375",
   "metadata": {},
   "outputs": [
    {
     "name": "stdout",
     "output_type": "stream",
     "text": [
      "x is: 3\n",
      "x is: 2\n",
      "x is: 1\n",
      "loop has ended\n"
     ]
    }
   ],
   "source": [
    "x=3\n",
    "while x>0:\n",
    "    print(\"x is:\",x)\n",
    "    x-=1\n",
    "else:\n",
    " print(\"loop has ended\")\n"
   ]
  },
  {
   "cell_type": "code",
   "execution_count": 11,
   "id": "7d39ba34-3b7c-461d-92ff-d1110bc29f6b",
   "metadata": {},
   "outputs": [
    {
     "data": {
      "text/plain": [
       "'h'"
      ]
     },
     "execution_count": 11,
     "metadata": {},
     "output_type": "execute_result"
    }
   ],
   "source": [
    "#strings\n",
    "single_quotes = 'hello'\n",
    "double_quotes = \"hello\"\n",
    "\n",
    "# indexing\n",
    "a = \"his it's\"\n",
    "a[0]"
   ]
  },
  {
   "cell_type": "code",
   "execution_count": 14,
   "id": "8a3fe3f8-2b62-4119-b358-f9a5d97761b5",
   "metadata": {},
   "outputs": [
    {
     "data": {
      "text/plain": [
       "'l'"
      ]
     },
     "execution_count": 14,
     "metadata": {},
     "output_type": "execute_result"
    }
   ],
   "source": [
    "my_str = \"hello, world!\"\n",
    "my_str[2]"
   ]
  },
  {
   "cell_type": "code",
   "execution_count": 15,
   "id": "3ec62f86-57d4-4048-8883-0fdaa62a370c",
   "metadata": {},
   "outputs": [
    {
     "data": {
      "text/plain": [
       "'h'"
      ]
     },
     "execution_count": 15,
     "metadata": {},
     "output_type": "execute_result"
    }
   ],
   "source": [
    "my_str[0]"
   ]
  },
  {
   "cell_type": "code",
   "execution_count": 16,
   "id": "ffdf5dc2-5d85-4967-8784-581bed716e92",
   "metadata": {},
   "outputs": [
    {
     "data": {
      "text/plain": [
       "'e'"
      ]
     },
     "execution_count": 16,
     "metadata": {},
     "output_type": "execute_result"
    }
   ],
   "source": [
    "my_str[1]"
   ]
  },
  {
   "cell_type": "code",
   "execution_count": 17,
   "id": "61d70812-349b-4bac-9328-1e8209e5063f",
   "metadata": {},
   "outputs": [
    {
     "data": {
      "text/plain": [
       "'py'"
      ]
     },
     "execution_count": 17,
     "metadata": {},
     "output_type": "execute_result"
    }
   ],
   "source": [
    "#slicing\n",
    "text = \"python programming\"\n",
    "text[0:2]"
   ]
  },
  {
   "cell_type": "code",
   "execution_count": 18,
   "id": "0b41f647-9d93-469c-b5f9-9b2672c9d9d6",
   "metadata": {},
   "outputs": [
    {
     "data": {
      "text/plain": [
       "'pytho'"
      ]
     },
     "execution_count": 18,
     "metadata": {},
     "output_type": "execute_result"
    }
   ],
   "source": [
    "text[0:5]"
   ]
  },
  {
   "cell_type": "code",
   "execution_count": 19,
   "id": "3da64a52-65eb-4f49-92e4-63f620bffbe3",
   "metadata": {},
   "outputs": [
    {
     "data": {
      "text/plain": [
       "'pto'"
      ]
     },
     "execution_count": 19,
     "metadata": {},
     "output_type": "execute_result"
    }
   ],
   "source": [
    "text[0:5:2]"
   ]
  },
  {
   "cell_type": "code",
   "execution_count": 20,
   "id": "e1ade882-1ccf-4f80-b87a-422b4c5db1b0",
   "metadata": {},
   "outputs": [
    {
     "data": {
      "text/plain": [
       "'ph'"
      ]
     },
     "execution_count": 20,
     "metadata": {},
     "output_type": "execute_result"
    }
   ],
   "source": [
    "text[0:5:3]"
   ]
  },
  {
   "cell_type": "code",
   "execution_count": 21,
   "id": "3ba7d7eb-833e-4ee8-aad6-a545abb2c579",
   "metadata": {},
   "outputs": [
    {
     "data": {
      "text/plain": [
       "'python p'"
      ]
     },
     "execution_count": 21,
     "metadata": {},
     "output_type": "execute_result"
    }
   ],
   "source": [
    "text[ :8]"
   ]
  },
  {
   "cell_type": "code",
   "execution_count": 22,
   "id": "234d4d02-7aa2-4ca7-85c0-ba4ba6557256",
   "metadata": {},
   "outputs": [
    {
     "data": {
      "text/plain": [
       "'thon programming'"
      ]
     },
     "execution_count": 22,
     "metadata": {},
     "output_type": "execute_result"
    }
   ],
   "source": [
    "text[2: ]"
   ]
  },
  {
   "cell_type": "code",
   "execution_count": 23,
   "id": "988ad03d-797c-4a84-9c3c-d5d12d8e51f5",
   "metadata": {},
   "outputs": [
    {
     "data": {
      "text/plain": [
       "'python'"
      ]
     },
     "execution_count": 23,
     "metadata": {},
     "output_type": "execute_result"
    }
   ],
   "source": [
    "text[ :6]"
   ]
  },
  {
   "cell_type": "code",
   "execution_count": 24,
   "id": "c87975e1-44ca-40b3-b198-16ea4469e0bc",
   "metadata": {},
   "outputs": [
    {
     "data": {
      "text/plain": [
       "'programming'"
      ]
     },
     "execution_count": 24,
     "metadata": {},
     "output_type": "execute_result"
    }
   ],
   "source": [
    "text[7: ]"
   ]
  },
  {
   "cell_type": "code",
   "execution_count": 25,
   "id": "c4f52038-dcf2-4ad2-bc6e-a264fb33a53e",
   "metadata": {},
   "outputs": [
    {
     "data": {
      "text/plain": [
       "' programmin'"
      ]
     },
     "execution_count": 25,
     "metadata": {},
     "output_type": "execute_result"
    }
   ],
   "source": [
    "text[-12:-1]"
   ]
  },
  {
   "cell_type": "code",
   "execution_count": 26,
   "id": "779e62dc-76cc-4878-bc80-79a0dca9c1f4",
   "metadata": {},
   "outputs": [
    {
     "data": {
      "text/plain": [
       "'gnimmargorp nohtyp'"
      ]
     },
     "execution_count": 26,
     "metadata": {},
     "output_type": "execute_result"
    }
   ],
   "source": [
    "# string reversal\n",
    "text[::-1]"
   ]
  },
  {
   "cell_type": "code",
   "execution_count": 27,
   "id": "14b0df89-b159-4206-a443-bfe671df2317",
   "metadata": {},
   "outputs": [
    {
     "data": {
      "text/plain": [
       "'hello, python'"
      ]
     },
     "execution_count": 27,
     "metadata": {},
     "output_type": "execute_result"
    }
   ],
   "source": [
    "# editing\n",
    "orig_str = \"hello, world\"\n",
    "new_str = orig_str.replace(\"world\",\"python\")\n",
    "new_str"
   ]
  },
  {
   "cell_type": "code",
   "execution_count": 28,
   "id": "96cd05c1-3312-476e-92fa-ea6390c69982",
   "metadata": {},
   "outputs": [],
   "source": [
    "name = \"my name\"\n",
    "your_name = name.replace(\"my\", \"his\")"
   ]
  },
  {
   "cell_type": "code",
   "execution_count": 29,
   "id": "32360458-9ff2-4057-a4b4-4a4adf85ad53",
   "metadata": {},
   "outputs": [
    {
     "data": {
      "text/plain": [
       "'his name'"
      ]
     },
     "execution_count": 29,
     "metadata": {},
     "output_type": "execute_result"
    }
   ],
   "source": [
    "your_name"
   ]
  },
  {
   "cell_type": "code",
   "execution_count": 31,
   "id": "1793fed5-ebcb-4569-be87-9cea554698af",
   "metadata": {},
   "outputs": [
    {
     "data": {
      "text/plain": [
       "'Hello world!'"
      ]
     },
     "execution_count": 31,
     "metadata": {},
     "output_type": "execute_result"
    }
   ],
   "source": [
    "# concatenation\n",
    "part1 = \"Hello\"\n",
    "part2 = \"world\"\n",
    "combined_str = part1 + \" \" + part2 + \"!\"\n",
    "combined_str"
   ]
  },
  {
   "cell_type": "code",
   "execution_count": 7,
   "id": "232a2298-ad4f-4f01-8669-6443f922c0d0",
   "metadata": {},
   "outputs": [
    {
     "name": "stdout",
     "output_type": "stream",
     "text": [
      "my name is Alice and my age is 30\n"
     ]
    }
   ],
   "source": [
    "# formatting string\n",
    "name = \"Alice\"\n",
    "age = 30\n",
    "print(\"my name is\",name,\"and my age is\",age)\n"
   ]
  },
  {
   "cell_type": "code",
   "execution_count": 13,
   "id": "a93524cb-96d9-4924-bfbf-d65fb76601c6",
   "metadata": {},
   "outputs": [
    {
     "data": {
      "text/plain": [
       "'Alice is the name and i am 30 years old'"
      ]
     },
     "execution_count": 13,
     "metadata": {},
     "output_type": "execute_result"
    }
   ],
   "source": [
    "f'{name} is the name and i am {age} years old'"
   ]
  },
  {
   "cell_type": "code",
   "execution_count": 14,
   "id": "8301016a-8aca-4186-bc68-51d84abce4c2",
   "metadata": {},
   "outputs": [
    {
     "data": {
      "text/plain": [
       "'this is Alice and age is 30'"
      ]
     },
     "execution_count": 14,
     "metadata": {},
     "output_type": "execute_result"
    }
   ],
   "source": [
    "f'this is {name} and age is {age}'"
   ]
  },
  {
   "cell_type": "code",
   "execution_count": 45,
   "id": "67ba5e4b-0e72-4060-ab9e-183cbd0d4ce1",
   "metadata": {},
   "outputs": [
    {
     "data": {
      "text/plain": [
       "'hello'"
      ]
     },
     "execution_count": 45,
     "metadata": {},
     "output_type": "execute_result"
    }
   ],
   "source": [
    "my_str1 = \"hello\"\n",
    "my_str1\n",
    "\n"
   ]
  },
  {
   "cell_type": "code",
   "execution_count": 46,
   "id": "61e590f1-eb12-45cd-9ceb-d53985bbade0",
   "metadata": {},
   "outputs": [],
   "source": [
    "del my_str1"
   ]
  },
  {
   "cell_type": "code",
   "execution_count": 47,
   "id": "da4879be-1ae1-408f-9d24-7b42253d71b6",
   "metadata": {},
   "outputs": [
    {
     "ename": "NameError",
     "evalue": "name 'my_str1' is not defined",
     "output_type": "error",
     "traceback": [
      "\u001b[1;31m---------------------------------------------------------------------------\u001b[0m",
      "\u001b[1;31mNameError\u001b[0m                                 Traceback (most recent call last)",
      "Cell \u001b[1;32mIn[47], line 1\u001b[0m\n\u001b[1;32m----> 1\u001b[0m my_str1\n",
      "\u001b[1;31mNameError\u001b[0m: name 'my_str1' is not defined"
     ]
    }
   ],
   "source": [
    "my_str1"
   ]
  },
  {
   "cell_type": "code",
   "execution_count": 50,
   "id": "4f11fcd2-6e32-4bc4-b0de-7eae9c08dc5e",
   "metadata": {},
   "outputs": [
    {
     "data": {
      "text/plain": [
       "'Ha'"
      ]
     },
     "execution_count": 50,
     "metadata": {},
     "output_type": "execute_result"
    }
   ],
   "source": [
    "#repetations\n",
    "string = \"Ha\"\n",
    "string"
   ]
  },
  {
   "cell_type": "code",
   "execution_count": 51,
   "id": "9967fd79-486e-4b17-81ee-6e88dfb268b8",
   "metadata": {},
   "outputs": [
    {
     "data": {
      "text/plain": [
       "'HaHaHaHaHaHaHaHaHaHa'"
      ]
     },
     "execution_count": 51,
     "metadata": {},
     "output_type": "execute_result"
    }
   ],
   "source": [
    "result = string * 10\n",
    "result"
   ]
  },
  {
   "cell_type": "code",
   "execution_count": 52,
   "id": "a60a82c8-c80d-40c2-8270-70b51d8a8d93",
   "metadata": {},
   "outputs": [
    {
     "name": "stdout",
     "output_type": "stream",
     "text": [
      "p\n",
      "y\n",
      "t\n",
      "h\n",
      "o\n",
      "n\n"
     ]
    }
   ],
   "source": [
    "# loop in strings\n",
    "# for loop\n",
    "text3 = \"python\"\n",
    "for char in text3:\n",
    "    print(char)"
   ]
  },
  {
   "cell_type": "code",
   "execution_count": 55,
   "id": "8866a1ea-fa4b-48e4-80bb-301004a47678",
   "metadata": {},
   "outputs": [
    {
     "name": "stdout",
     "output_type": "stream",
     "text": [
      "number of vowels: 3\n"
     ]
    }
   ],
   "source": [
    "text2 = \"programming\"\n",
    "vowels = \"aeiou\"\n",
    "count = 0\n",
    "for char in text2:\n",
    "    if char in vowels:\n",
    "        count+=1\n",
    "print(\"number of vowels:\",count)"
   ]
  },
  {
   "cell_type": "code",
   "execution_count": 59,
   "id": "780a55a9-1ecb-4f01-b368-d7d6d19e8ee6",
   "metadata": {},
   "outputs": [
    {
     "data": {
      "text/plain": [
       "'aeiou'"
      ]
     },
     "execution_count": 59,
     "metadata": {},
     "output_type": "execute_result"
    }
   ],
   "source": [
    "vowels"
   ]
  },
  {
   "cell_type": "code",
   "execution_count": 61,
   "id": "7c5b5e31-7e67-45bb-a020-4e6ad90dd6f8",
   "metadata": {},
   "outputs": [
    {
     "data": {
      "text/plain": [
       "'AEIOU'"
      ]
     },
     "execution_count": 61,
     "metadata": {},
     "output_type": "execute_result"
    }
   ],
   "source": [
    "vowels.upper()"
   ]
  },
  {
   "cell_type": "code",
   "execution_count": 62,
   "id": "10971180-d348-4c40-8e5d-32028f6305b8",
   "metadata": {},
   "outputs": [
    {
     "data": {
      "text/plain": [
       "'NANDINI'"
      ]
     },
     "execution_count": 62,
     "metadata": {},
     "output_type": "execute_result"
    }
   ],
   "source": [
    "names = \"nandini\"\n",
    "names.upper()\n"
   ]
  },
  {
   "cell_type": "code",
   "execution_count": null,
   "id": "305c8985-8cd1-4494-ac0e-f3f3276b3f26",
   "metadata": {},
   "outputs": [],
   "source": []
  }
 ],
 "metadata": {
  "kernelspec": {
   "display_name": "Python 3 (ipykernel)",
   "language": "python",
   "name": "python3"
  },
  "language_info": {
   "codemirror_mode": {
    "name": "ipython",
    "version": 3
   },
   "file_extension": ".py",
   "mimetype": "text/x-python",
   "name": "python",
   "nbconvert_exporter": "python",
   "pygments_lexer": "ipython3",
   "version": "3.12.7"
  }
 },
 "nbformat": 4,
 "nbformat_minor": 5
}
