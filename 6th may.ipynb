{
 "cells": [
  {
   "cell_type": "code",
   "execution_count": 6,
   "id": "aa005e63-00a3-4d14-a4af-8f0b40c0224e",
   "metadata": {},
   "outputs": [
    {
     "name": "stdout",
     "output_type": "stream",
     "text": [
      "p\n",
      "y\n",
      "t\n",
      "h\n",
      "o\n",
      "n\n"
     ]
    }
   ],
   "source": [
    "# loop operations\n",
    "text=\"python\"\n",
    "for char in text:\n",
    "    print(char)\n"
   ]
  },
  {
   "cell_type": "code",
   "execution_count": 7,
   "id": "4f9c54f6-f173-4bc8-a6dd-9f33304cf1b6",
   "metadata": {},
   "outputs": [
    {
     "data": {
      "text/plain": [
       "'HELLO'"
      ]
     },
     "execution_count": 7,
     "metadata": {},
     "output_type": "execute_result"
    }
   ],
   "source": [
    "text1 = \"hello\"\n",
    "text1.upper()"
   ]
  },
  {
   "cell_type": "code",
   "execution_count": 8,
   "id": "9ccc3988-a16b-4598-a855-b66cbf2ebe03",
   "metadata": {},
   "outputs": [
    {
     "data": {
      "text/plain": [
       "'hello'"
      ]
     },
     "execution_count": 8,
     "metadata": {},
     "output_type": "execute_result"
    }
   ],
   "source": [
    "text2=\"HELLO\"\n",
    "text2.lower()"
   ]
  },
  {
   "cell_type": "code",
   "execution_count": 9,
   "id": "432bd262-d5e2-4fec-92ed-40ad7a30e9e6",
   "metadata": {},
   "outputs": [
    {
     "data": {
      "text/plain": [
       "True"
      ]
     },
     "execution_count": 9,
     "metadata": {},
     "output_type": "execute_result"
    }
   ],
   "source": [
    "# menbership operators\n",
    "# in operator\n",
    "\n",
    "text3 = \"Hello world\"\n",
    "\"w\" in text3"
   ]
  },
  {
   "cell_type": "code",
   "execution_count": 10,
   "id": "b043b6a0-26ee-4286-bed6-9b30b7bde271",
   "metadata": {},
   "outputs": [
    {
     "data": {
      "text/plain": [
       "False"
      ]
     },
     "execution_count": 10,
     "metadata": {},
     "output_type": "execute_result"
    }
   ],
   "source": [
    "\"z\" in text3"
   ]
  },
  {
   "cell_type": "code",
   "execution_count": 11,
   "id": "65758a35-a4ae-458a-b187-7e20eca6b913",
   "metadata": {},
   "outputs": [
    {
     "data": {
      "text/plain": [
       "True"
      ]
     },
     "execution_count": 11,
     "metadata": {},
     "output_type": "execute_result"
    }
   ],
   "source": [
    "\"ll\" in text3"
   ]
  },
  {
   "cell_type": "code",
   "execution_count": 12,
   "id": "5174c481-e25c-4184-8019-6606265ad45b",
   "metadata": {},
   "outputs": [
    {
     "data": {
      "text/plain": [
       "False"
      ]
     },
     "execution_count": 12,
     "metadata": {},
     "output_type": "execute_result"
    }
   ],
   "source": [
    "\"zswt\" in text3"
   ]
  },
  {
   "cell_type": "code",
   "execution_count": 13,
   "id": "318bb365-1e86-4215-8aad-40fc86c0845f",
   "metadata": {},
   "outputs": [
    {
     "data": {
      "text/plain": [
       "False"
      ]
     },
     "execution_count": 13,
     "metadata": {},
     "output_type": "execute_result"
    }
   ],
   "source": [
    "# not in operatot\n",
    "\n",
    "text11 = \"hello world\"\n",
    "\"hello\" not in text11"
   ]
  },
  {
   "cell_type": "code",
   "execution_count": 14,
   "id": "1ed156b3-f7ac-4e3f-909e-16c82e2255f5",
   "metadata": {},
   "outputs": [
    {
     "data": {
      "text/plain": [
       "False"
      ]
     },
     "execution_count": 14,
     "metadata": {},
     "output_type": "execute_result"
    }
   ],
   "source": [
    "\"world\" not in text11"
   ]
  },
  {
   "cell_type": "code",
   "execution_count": 15,
   "id": "426a12ee-0e30-444d-8ee5-faab568d19b2",
   "metadata": {},
   "outputs": [
    {
     "data": {
      "text/plain": [
       "True"
      ]
     },
     "execution_count": 15,
     "metadata": {},
     "output_type": "execute_result"
    }
   ],
   "source": [
    "\"nandy\" not in text11"
   ]
  },
  {
   "cell_type": "code",
   "execution_count": 18,
   "id": "ede38c07-c07f-4dc4-8936-64e575a7318a",
   "metadata": {},
   "outputs": [
    {
     "name": "stdout",
     "output_type": "stream",
     "text": [
      "False\n"
     ]
    }
   ],
   "source": [
    "# search for a substring\n",
    "\n",
    "text = \"im am there\"\n",
    "res = \"im\" not in text\n",
    "print(res)"
   ]
  },
  {
   "cell_type": "code",
   "execution_count": 19,
   "id": "223bacdc-e355-43e3-9133-85b4f9bb27a3",
   "metadata": {},
   "outputs": [
    {
     "name": "stdout",
     "output_type": "stream",
     "text": [
      "True\n"
     ]
    }
   ],
   "source": [
    "text = \"im am there\"\n",
    "res = \"not\" not in text\n",
    "print(res)"
   ]
  },
  {
   "cell_type": "code",
   "execution_count": 20,
   "id": "3117b1ab-8dab-4467-b9ab-c56a2c3d0589",
   "metadata": {},
   "outputs": [
    {
     "data": {
      "text/plain": [
       "False"
      ]
     },
     "execution_count": 20,
     "metadata": {},
     "output_type": "execute_result"
    }
   ],
   "source": [
    "text = \"hello\"\n",
    "\"ordered\" in text"
   ]
  },
  {
   "cell_type": "code",
   "execution_count": 21,
   "id": "456ffc08-1c4d-497f-ad75-f91f1c701940",
   "metadata": {},
   "outputs": [
    {
     "data": {
      "text/plain": [
       "True"
      ]
     },
     "execution_count": 21,
     "metadata": {},
     "output_type": "execute_result"
    }
   ],
   "source": [
    "\"ordered\" not in text"
   ]
  },
  {
   "cell_type": "code",
   "execution_count": 22,
   "id": "2768ea83-5a08-4dad-ba7d-6c19b60e7cfb",
   "metadata": {},
   "outputs": [
    {
     "data": {
      "text/plain": [
       "True"
      ]
     },
     "execution_count": 22,
     "metadata": {},
     "output_type": "execute_result"
    }
   ],
   "source": [
    "\"collection\" not in text"
   ]
  },
  {
   "cell_type": "code",
   "execution_count": 23,
   "id": "762ec1e6-2bfa-4856-a4d1-cc25f05eff84",
   "metadata": {},
   "outputs": [
    {
     "data": {
      "text/plain": [
       "False"
      ]
     },
     "execution_count": 23,
     "metadata": {},
     "output_type": "execute_result"
    }
   ],
   "source": [
    "\"collection\" in text"
   ]
  },
  {
   "cell_type": "code",
   "execution_count": 24,
   "id": "dd66cb2d-42d3-4eac-b7a9-6d65488fcad6",
   "metadata": {},
   "outputs": [
    {
     "data": {
      "text/plain": [
       "False"
      ]
     },
     "execution_count": 24,
     "metadata": {},
     "output_type": "execute_result"
    }
   ],
   "source": [
    "\"duplicate\" in text"
   ]
  },
  {
   "cell_type": "code",
   "execution_count": 25,
   "id": "dd41c732-d75d-4577-bced-d43e2e27db3f",
   "metadata": {},
   "outputs": [
    {
     "data": {
      "text/plain": [
       "True"
      ]
     },
     "execution_count": 25,
     "metadata": {},
     "output_type": "execute_result"
    }
   ],
   "source": [
    "\"duplicate\" not in text"
   ]
  },
  {
   "cell_type": "code",
   "execution_count": 26,
   "id": "a49c813b-dcaa-433f-8726-bf8f5f53f84e",
   "metadata": {},
   "outputs": [
    {
     "data": {
      "text/plain": [
       "'Hello World Try!'"
      ]
     },
     "execution_count": 26,
     "metadata": {},
     "output_type": "execute_result"
    }
   ],
   "source": [
    "# str.title()\n",
    "\n",
    "text = \"hello world try!\"\n",
    "text.title()\n"
   ]
  },
  {
   "cell_type": "code",
   "execution_count": 28,
   "id": "6f590d53-cfa5-417d-9684-aca1ebd4466b",
   "metadata": {},
   "outputs": [
    {
     "data": {
      "text/plain": [
       "'hello, world!'"
      ]
     },
     "execution_count": 28,
     "metadata": {},
     "output_type": "execute_result"
    }
   ],
   "source": [
    "# str.strip() remove leading and tailing white spaces\n",
    "text = \"    hello, world!   \"\n",
    "strip_text = text.strip()\n",
    "strip_text"
   ]
  },
  {
   "cell_type": "code",
   "execution_count": 29,
   "id": "495cef53-8256-454c-9d68-212682ff4422",
   "metadata": {},
   "outputs": [
    {
     "data": {
      "text/plain": [
       "'hello, python! python'"
      ]
     },
     "execution_count": 29,
     "metadata": {},
     "output_type": "execute_result"
    }
   ],
   "source": [
    "# str.replace() replace old with new\n",
    "text = \"hello, world! world\"\n",
    "text.replace(\"world\",\"python\")"
   ]
  },
  {
   "cell_type": "code",
   "execution_count": 32,
   "id": "4e5aa6f6-be9f-4277-a07d-d4bdf654b269",
   "metadata": {},
   "outputs": [
    {
     "data": {
      "text/plain": [
       "['hello,', 'world!', 'this', 'is', 'a', 'split', 'method']"
      ]
     },
     "execution_count": 32,
     "metadata": {},
     "output_type": "execute_result"
    }
   ],
   "source": [
    "# str.split() \n",
    "text = \"hello, world! this is a split method\"\n",
    "text.split(\" \")\n"
   ]
  },
  {
   "cell_type": "code",
   "execution_count": 33,
   "id": "9424b1a9-e806-442b-a2f1-f58a0ac5bebc",
   "metadata": {},
   "outputs": [
    {
     "data": {
      "text/plain": [
       "['hello, world', ' this is a split method']"
      ]
     },
     "execution_count": 33,
     "metadata": {},
     "output_type": "execute_result"
    }
   ],
   "source": [
    "text.split(\"!\")"
   ]
  },
  {
   "cell_type": "code",
   "execution_count": 34,
   "id": "40a08776-1355-4728-ace4-07fdb53736a9",
   "metadata": {},
   "outputs": [
    {
     "data": {
      "text/plain": [
       "['hello, world! ', ' is a split method']"
      ]
     },
     "execution_count": 34,
     "metadata": {},
     "output_type": "execute_result"
    }
   ],
   "source": [
    "text.split(\"this\")"
   ]
  },
  {
   "cell_type": "code",
   "execution_count": 37,
   "id": "9f8c8d1b-d82b-4a24-bead-5a0097f5bafc",
   "metadata": {},
   "outputs": [
    {
     "data": {
      "text/plain": [
       "'hello-world- this -is'"
      ]
     },
     "execution_count": 37,
     "metadata": {},
     "output_type": "execute_result"
    }
   ],
   "source": [
    "# str.join(iterable)\n",
    "words = [\"hello\", \"world\" ,\" this \", \"is\"]\n",
    "joined_text = \"-\".join(words)\n",
    "joined_text"
   ]
  },
  {
   "cell_type": "code",
   "execution_count": 38,
   "id": "53508245-5c8a-4dfc-8af0-6f0b45683ef3",
   "metadata": {},
   "outputs": [
    {
     "data": {
      "text/plain": [
       "7"
      ]
     },
     "execution_count": 38,
     "metadata": {},
     "output_type": "execute_result"
    }
   ],
   "source": [
    "# str.find(string)\n",
    "text = \"hello, world\"\n",
    "index = text.find(\"world\")\n",
    "index"
   ]
  },
  {
   "cell_type": "code",
   "execution_count": 39,
   "id": "5dcee8ad-0f49-4f87-b17f-8967a79fa762",
   "metadata": {},
   "outputs": [
    {
     "data": {
      "text/plain": [
       "2"
      ]
     },
     "execution_count": 39,
     "metadata": {},
     "output_type": "execute_result"
    }
   ],
   "source": [
    "#  str.count(substring)\n",
    "text = \"hello, hello, world\"\n",
    "count = text.count(\"hello\")\n",
    "count"
   ]
  },
  {
   "cell_type": "code",
   "execution_count": 41,
   "id": "c514958c-7774-4c2f-95f7-bc0e3f725fda",
   "metadata": {},
   "outputs": [
    {
     "data": {
      "text/plain": [
       "3"
      ]
     },
     "execution_count": 41,
     "metadata": {},
     "output_type": "execute_result"
    }
   ],
   "source": [
    "count = text.count(\"o\")\n",
    "count"
   ]
  },
  {
   "cell_type": "code",
   "execution_count": 42,
   "id": "d4a13e85-18c0-47cd-8d6d-bb5c17051edd",
   "metadata": {},
   "outputs": [
    {
     "data": {
      "text/plain": [
       "1"
      ]
     },
     "execution_count": 42,
     "metadata": {},
     "output_type": "execute_result"
    }
   ],
   "source": [
    "count = text.count(\"world\")\n",
    "count"
   ]
  },
  {
   "cell_type": "code",
   "execution_count": 45,
   "id": "a1ad7448-45f7-4277-b38c-99173c48dbd3",
   "metadata": {},
   "outputs": [
    {
     "data": {
      "text/plain": [
       "True"
      ]
     },
     "execution_count": 45,
     "metadata": {},
     "output_type": "execute_result"
    }
   ],
   "source": [
    "# str.startswith(prefix)\n",
    "text=\"hello world!\"\n",
    "starts_with = text.startswith(\"hello\")\n",
    "starts_with\n"
   ]
  },
  {
   "cell_type": "code",
   "execution_count": 46,
   "id": "6d2754fc-cc7b-4b3d-866f-4b3c157baa34",
   "metadata": {},
   "outputs": [
    {
     "data": {
      "text/plain": [
       "False"
      ]
     },
     "execution_count": 46,
     "metadata": {},
     "output_type": "execute_result"
    }
   ],
   "source": [
    "starts_with = text.startswith(\"world!\")\n",
    "starts_with"
   ]
  },
  {
   "cell_type": "code",
   "execution_count": 47,
   "id": "244cee93-53aa-4e45-9a6e-36adf4e8d3b0",
   "metadata": {},
   "outputs": [
    {
     "data": {
      "text/plain": [
       "True"
      ]
     },
     "execution_count": 47,
     "metadata": {},
     "output_type": "execute_result"
    }
   ],
   "source": [
    "# str.endswith(suffix)\n",
    "ends_with = text.endswith(\"world!\")\n",
    "ends_with"
   ]
  },
  {
   "cell_type": "code",
   "execution_count": 48,
   "id": "7bb389b8-919e-44c4-b53d-397c7b1bc556",
   "metadata": {},
   "outputs": [
    {
     "data": {
      "text/plain": [
       "False"
      ]
     },
     "execution_count": 48,
     "metadata": {},
     "output_type": "execute_result"
    }
   ],
   "source": [
    "ends_with = text.endswith(\"world\")\n",
    "ends_with"
   ]
  },
  {
   "cell_type": "code",
   "execution_count": 49,
   "id": "b7865e79-67a9-43d1-a2f3-f3d012139bf9",
   "metadata": {},
   "outputs": [
    {
     "data": {
      "text/plain": [
       "'hello, john! welcome to the python world'"
      ]
     },
     "execution_count": 49,
     "metadata": {},
     "output_type": "execute_result"
    }
   ],
   "source": [
    "#1q\n",
    "var = \"john\"\n",
    "f\"hello, john! welcome to the python world\""
   ]
  },
  {
   "cell_type": "code",
   "execution_count": 54,
   "id": "f6bfee7d-5000-4dc5-a6af-91f3883b4e09",
   "metadata": {},
   "outputs": [
    {
     "name": "stdout",
     "output_type": "stream",
     "text": [
      "John Doe\n"
     ]
    }
   ],
   "source": [
    "#2q\n",
    "first_name = \"John\"\n",
    "last_name = \"Doe\"\n",
    "result = first_name + \" \" + last_name\n",
    "print(result)"
   ]
  },
  {
   "cell_type": "code",
   "execution_count": 2,
   "id": "101863d1-a739-47c6-b8a8-a0b749d0fef9",
   "metadata": {},
   "outputs": [
    {
     "data": {
      "text/plain": [
       "True"
      ]
     },
     "execution_count": 2,
     "metadata": {},
     "output_type": "execute_result"
    }
   ],
   "source": [
    "#isdigit\n",
    "text = \"12345\"\n",
    "text.isdigit()"
   ]
  },
  {
   "cell_type": "code",
   "execution_count": 3,
   "id": "6e43ed49-9c37-4c93-bf33-ad31eacee2bf",
   "metadata": {},
   "outputs": [
    {
     "data": {
      "text/plain": [
       "False"
      ]
     },
     "execution_count": 3,
     "metadata": {},
     "output_type": "execute_result"
    }
   ],
   "source": [
    "text = \"a2345\"\n",
    "text.isdigit()"
   ]
  },
  {
   "cell_type": "code",
   "execution_count": 4,
   "id": "2edb7795-1924-43dc-91fb-f1d25aa47e1e",
   "metadata": {},
   "outputs": [
    {
     "data": {
      "text/plain": [
       "True"
      ]
     },
     "execution_count": 4,
     "metadata": {},
     "output_type": "execute_result"
    }
   ],
   "source": [
    "#isalpha\n",
    "text1 = \"hello\"\n",
    "text1.isalpha()\n"
   ]
  },
  {
   "cell_type": "code",
   "execution_count": 5,
   "id": "428a2933-4ff3-462d-99ec-402d7566eebf",
   "metadata": {},
   "outputs": [
    {
     "data": {
      "text/plain": [
       "False"
      ]
     },
     "execution_count": 5,
     "metadata": {},
     "output_type": "execute_result"
    }
   ],
   "source": [
    "text1 = \"1ello\"\n",
    "text1.isalpha()\n"
   ]
  },
  {
   "cell_type": "code",
   "execution_count": 6,
   "id": "a2273230-9372-4b08-a042-c8c405b8616e",
   "metadata": {},
   "outputs": [
    {
     "data": {
      "text/plain": [
       "True"
      ]
     },
     "execution_count": 6,
     "metadata": {},
     "output_type": "execute_result"
    }
   ],
   "source": [
    "#islower\n",
    "text = \"hello\"\n",
    "text.islower()"
   ]
  },
  {
   "cell_type": "code",
   "execution_count": 7,
   "id": "2ec2604f-d4b0-40e0-a581-0349bafd6c02",
   "metadata": {},
   "outputs": [
    {
     "data": {
      "text/plain": [
       "False"
      ]
     },
     "execution_count": 7,
     "metadata": {},
     "output_type": "execute_result"
    }
   ],
   "source": [
    "text = \"Hello\"\n",
    "text.islower()"
   ]
  },
  {
   "cell_type": "code",
   "execution_count": 9,
   "id": "17b58160-c528-44b4-a7da-0465e7bf0c6d",
   "metadata": {},
   "outputs": [
    {
     "data": {
      "text/plain": [
       "True"
      ]
     },
     "execution_count": 9,
     "metadata": {},
     "output_type": "execute_result"
    }
   ],
   "source": [
    "#isupper()\n",
    "text = \"HELLO\"\n",
    "text.isupper()"
   ]
  },
  {
   "cell_type": "code",
   "execution_count": 10,
   "id": "39b8299d-6d45-4126-82ba-bece363ff17f",
   "metadata": {},
   "outputs": [
    {
     "data": {
      "text/plain": [
       "False"
      ]
     },
     "execution_count": 10,
     "metadata": {},
     "output_type": "execute_result"
    }
   ],
   "source": [
    "text = \"hELLO\"\n",
    "text.isupper()"
   ]
  },
  {
   "cell_type": "code",
   "execution_count": 12,
   "id": "3f458a34-16b9-4049-934b-adba7866bde7",
   "metadata": {},
   "outputs": [
    {
     "data": {
      "text/plain": [
       "'00000042'"
      ]
     },
     "execution_count": 12,
     "metadata": {},
     "output_type": "execute_result"
    }
   ],
   "source": [
    "#zfill padded text\n",
    "text = \"42\"\n",
    "text.zfill(8)"
   ]
  },
  {
   "cell_type": "code",
   "execution_count": 2,
   "id": "b3df7aa2-3d7c-4339-a45f-5cdbe5337084",
   "metadata": {},
   "outputs": [
    {
     "data": {
      "text/plain": [
       "12"
      ]
     },
     "execution_count": 2,
     "metadata": {},
     "output_type": "execute_result"
    }
   ],
   "source": [
    "# str.rfind(substring)\n",
    "\n",
    "text = \"Hello,Hello,World\"\n",
    "text.rfind(\"World\")"
   ]
  },
  {
   "cell_type": "code",
   "execution_count": 3,
   "id": "fedb29fb-5d21-4400-8e59-35d744993a79",
   "metadata": {},
   "outputs": [
    {
     "data": {
      "text/plain": [
       "'apple'"
      ]
     },
     "execution_count": 3,
     "metadata": {},
     "output_type": "execute_result"
    }
   ],
   "source": [
    "#min()\n",
    "words = [\"apple\",\"banana\",\"cherry\"]\n",
    "min(words)"
   ]
  },
  {
   "cell_type": "code",
   "execution_count": 4,
   "id": "dd431125-e557-4010-942d-702096a0b371",
   "metadata": {},
   "outputs": [
    {
     "data": {
      "text/plain": [
       "'cherry'"
      ]
     },
     "execution_count": 4,
     "metadata": {},
     "output_type": "execute_result"
    }
   ],
   "source": [
    "#max()\n",
    "max(words)"
   ]
  },
  {
   "cell_type": "code",
   "execution_count": 6,
   "id": "db0b55a6-2c1f-465f-a4ee-d75db112476f",
   "metadata": {},
   "outputs": [
    {
     "data": {
      "text/plain": [
       "12"
      ]
     },
     "execution_count": 6,
     "metadata": {},
     "output_type": "execute_result"
    }
   ],
   "source": [
    "#len()\n",
    "text = \"hello world!\"\n",
    "len(text)"
   ]
  },
  {
   "cell_type": "code",
   "execution_count": 7,
   "id": "a2198f1c-78b2-404b-a048-1ccfc561e0e6",
   "metadata": {},
   "outputs": [
    {
     "data": {
      "text/plain": [
       "['a', 'a', 'a', 'b', 'n', 'n']"
      ]
     },
     "execution_count": 7,
     "metadata": {},
     "output_type": "execute_result"
    }
   ],
   "source": [
    "#sorted\n",
    "text1 = \"banana\"\n",
    "sorted(text1)"
   ]
  },
  {
   "cell_type": "code",
   "execution_count": 12,
   "id": "8db7cb04-f65c-46e6-8f14-c22f15ffd0b3",
   "metadata": {},
   "outputs": [
    {
     "data": {
      "text/plain": [
       "'! d l r o w   , o l l e h'"
      ]
     },
     "execution_count": 12,
     "metadata": {},
     "output_type": "execute_result"
    }
   ],
   "source": [
    "#reversed()\n",
    "text = \"hello, world!\"\n",
    "rev_text='.'.join(reversed(text))\n",
    "rev_text"
   ]
  },
  {
   "cell_type": "code",
   "execution_count": 13,
   "id": "82aad247-e042-4065-b7ce-18a8ffc12e08",
   "metadata": {},
   "outputs": [
    {
     "data": {
      "text/plain": [
       "'! d l r o w   , o l l e h'"
      ]
     },
     "execution_count": 13,
     "metadata": {},
     "output_type": "execute_result"
    }
   ],
   "source": [
    "text = \"hello, world!\"\n",
    "rev_text=' '.join(reversed(text))\n",
    "rev_text"
   ]
  },
  {
   "cell_type": "code",
   "execution_count": 15,
   "id": "bd0e7a82-0732-4a46-bc74-e1dbd8138a62",
   "metadata": {},
   "outputs": [
    {
     "data": {
      "text/plain": [
       "True"
      ]
     },
     "execution_count": 15,
     "metadata": {},
     "output_type": "execute_result"
    }
   ],
   "source": [
    "#all()\n",
    "text = \"12345\"\n",
    "all(text)"
   ]
  },
  {
   "cell_type": "code",
   "execution_count": 16,
   "id": "3ba4e369-8118-43ae-bcac-dfc64b9d7a09",
   "metadata": {},
   "outputs": [
    {
     "data": {
      "text/plain": [
       "True"
      ]
     },
     "execution_count": 16,
     "metadata": {},
     "output_type": "execute_result"
    }
   ],
   "source": [
    "all_digit = all(char.isdigit()for char in text)\n",
    "all_digit"
   ]
  },
  {
   "cell_type": "code",
   "execution_count": 17,
   "id": "08e17582-7903-4be7-9e18-c09356229630",
   "metadata": {},
   "outputs": [
    {
     "data": {
      "text/plain": [
       "False"
      ]
     },
     "execution_count": 17,
     "metadata": {},
     "output_type": "execute_result"
    }
   ],
   "source": [
    "text1 = \"A123\"\n",
    "all_digit = all(char.isdigit() for char in text1)\n",
    "all_digit"
   ]
  },
  {
   "cell_type": "code",
   "execution_count": 18,
   "id": "c0eb41df-a780-41d6-8e45-678a3c6eb8cb",
   "metadata": {},
   "outputs": [
    {
     "data": {
      "text/plain": [
       "6"
      ]
     },
     "execution_count": 18,
     "metadata": {},
     "output_type": "execute_result"
    }
   ],
   "source": [
    "#sum()\n",
    "num = [1,2,3]\n",
    "sum(num)"
   ]
  },
  {
   "cell_type": "code",
   "execution_count": null,
   "id": "0400d4c1-f374-4eed-b724-0f2fe8882e0a",
   "metadata": {},
   "outputs": [],
   "source": []
  }
 ],
 "metadata": {
  "kernelspec": {
   "display_name": "Python 3 (ipykernel)",
   "language": "python",
   "name": "python3"
  },
  "language_info": {
   "codemirror_mode": {
    "name": "ipython",
    "version": 3
   },
   "file_extension": ".py",
   "mimetype": "text/x-python",
   "name": "python",
   "nbconvert_exporter": "python",
   "pygments_lexer": "ipython3",
   "version": "3.12.7"
  }
 },
 "nbformat": 4,
 "nbformat_minor": 5
}
