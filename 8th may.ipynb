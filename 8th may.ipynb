{
 "cells": [
  {
   "cell_type": "code",
   "execution_count": 1,
   "id": "1434d52b-92ab-405c-9576-3179dbf6b0fb",
   "metadata": {},
   "outputs": [
    {
     "data": {
      "text/plain": [
       "['first', 'second', 'third']"
      ]
     },
     "execution_count": 1,
     "metadata": {},
     "output_type": "execute_result"
    }
   ],
   "source": [
    "#list operations\n",
    "\n",
    "ordered_list = [\"first\",\"second\", \"third\"]\n",
    "ordered_list"
   ]
  },
  {
   "cell_type": "code",
   "execution_count": 2,
   "id": "31790dd1-5ece-4ae0-b9b8-41cdcb6d75b6",
   "metadata": {},
   "outputs": [
    {
     "name": "stdout",
     "output_type": "stream",
     "text": [
      "[1, 20, 3]\n"
     ]
    }
   ],
   "source": [
    "# mutable\n",
    "\n",
    "mut_list = [1,2,3]\n",
    "mut_list[1] = 20\n",
    "print(mut_list)"
   ]
  },
  {
   "cell_type": "code",
   "execution_count": 3,
   "id": "997f784d-9174-48fd-9ad4-b63813b5fdf1",
   "metadata": {},
   "outputs": [
    {
     "data": {
      "text/plain": [
       "[1, 20, 30]"
      ]
     },
     "execution_count": 3,
     "metadata": {},
     "output_type": "execute_result"
    }
   ],
   "source": [
    "mut_list[2]=30\n",
    "mut_list"
   ]
  },
  {
   "cell_type": "code",
   "execution_count": 4,
   "id": "843b537a-81bb-473f-a473-b3ffb93d2b19",
   "metadata": {},
   "outputs": [
    {
     "name": "stdout",
     "output_type": "stream",
     "text": [
      "[3, 'hello', 3.14, [1, 2, 3]]\n"
     ]
    }
   ],
   "source": [
    "# heterogenous\n",
    "\n",
    "hete_list = [3, \"hello\", 3.14, [1,2,3]]\n",
    "print(hete_list)"
   ]
  },
  {
   "cell_type": "code",
   "execution_count": 5,
   "id": "802a034c-103b-4be4-a44b-0969f01ec5ec",
   "metadata": {},
   "outputs": [
    {
     "name": "stdout",
     "output_type": "stream",
     "text": [
      "apple\n"
     ]
    }
   ],
   "source": [
    "# indexing\n",
    "index_list = [\"apple\",\"banana\",\"cherry\"]\n",
    "first_item = index_list[0]\n",
    "print(first_item)"
   ]
  },
  {
   "cell_type": "code",
   "execution_count": 8,
   "id": "e8940e2b-d02f-4c58-bcd4-f195bf0c6414",
   "metadata": {},
   "outputs": [
    {
     "data": {
      "text/plain": [
       "'apple banana'"
      ]
     },
     "execution_count": 8,
     "metadata": {},
     "output_type": "execute_result"
    }
   ],
   "source": [
    "index_list = [\"apple\",\"banana\",\"cherry\"]\n",
    "index_list[0]+ \" \" + index_list[1]\n"
   ]
  },
  {
   "cell_type": "code",
   "execution_count": 10,
   "id": "996ea275-4683-4a7a-ab20-174b8e980189",
   "metadata": {},
   "outputs": [
    {
     "name": "stdout",
     "output_type": "stream",
     "text": [
      "array('i', [1, 2, 3, 4])\n"
     ]
    }
   ],
   "source": [
    "# Arrays \n",
    "import array\n",
    "my_array = array.array(\"i\",[1,2,3,4])\n",
    "print(my_array)"
   ]
  },
  {
   "cell_type": "code",
   "execution_count": 11,
   "id": "4b605810-b29a-4f02-b80f-8248404c4745",
   "metadata": {},
   "outputs": [
    {
     "name": "stdout",
     "output_type": "stream",
     "text": [
      "apple\n",
      "cherry\n",
      "elderberry\n",
      "cherry\n"
     ]
    }
   ],
   "source": [
    "# indexing\n",
    "fruits = [\"apple\",\"banana\",\"cherry\",\"dates\",\"elderberry\"]\n",
    "print(fruits[0])\n",
    "print(fruits[2])\n",
    "print(fruits[-1])  # prints last element\n",
    "print(fruits[-3]) "
   ]
  },
  {
   "cell_type": "code",
   "execution_count": 12,
   "id": "bace455c-c6fc-4983-a217-40b5ba5c635a",
   "metadata": {},
   "outputs": [
    {
     "data": {
      "text/plain": [
       "[30, 40, 50]"
      ]
     },
     "execution_count": 12,
     "metadata": {},
     "output_type": "execute_result"
    }
   ],
   "source": [
    "#slicing a list\n",
    "\n",
    "numbers = [10,20,30,40,50,60,70,80,90,100]\n",
    "numbers[2:5]"
   ]
  },
  {
   "cell_type": "code",
   "execution_count": 14,
   "id": "71276ffe-f5dd-4221-aab0-9456e0cd78eb",
   "metadata": {},
   "outputs": [
    {
     "data": {
      "text/plain": [
       "[60, 70, 80]"
      ]
     },
     "execution_count": 14,
     "metadata": {},
     "output_type": "execute_result"
    }
   ],
   "source": [
    "#negative indexing\n",
    "numbers[-5:-2]"
   ]
  },
  {
   "cell_type": "code",
   "execution_count": 15,
   "id": "ad871aba-1f48-40bd-8cce-47655eba4b62",
   "metadata": {},
   "outputs": [
    {
     "data": {
      "text/plain": [
       "[20, 50, 80]"
      ]
     },
     "execution_count": 15,
     "metadata": {},
     "output_type": "execute_result"
    }
   ],
   "source": [
    "#slicing with step value\n",
    "numbers[1:8:3]"
   ]
  },
  {
   "cell_type": "code",
   "execution_count": 16,
   "id": "2cf38dfe-3b1f-4b15-99f2-11a1c952091d",
   "metadata": {},
   "outputs": [
    {
     "data": {
      "text/plain": [
       "[40, 50, 60, 70, 80, 90, 100]"
      ]
     },
     "execution_count": 16,
     "metadata": {},
     "output_type": "execute_result"
    }
   ],
   "source": [
    "#slicing  with only a start index\n",
    "numbers[3:]"
   ]
  },
  {
   "cell_type": "code",
   "execution_count": 17,
   "id": "106602f3-0366-4395-9dc9-f821b79f150d",
   "metadata": {},
   "outputs": [
    {
     "data": {
      "text/plain": [
       "[10, 20, 30, 40]"
      ]
     },
     "execution_count": 17,
     "metadata": {},
     "output_type": "execute_result"
    }
   ],
   "source": [
    "#slicing with only end index\n",
    "numbers[:4]"
   ]
  },
  {
   "cell_type": "code",
   "execution_count": 18,
   "id": "d67eb0f7-1a4a-49e9-994c-cde6ba242358",
   "metadata": {},
   "outputs": [
    {
     "data": {
      "text/plain": [
       "[10, 20, 30, 40, 50, 60, 70, 80, 90, 100]"
      ]
     },
     "execution_count": 18,
     "metadata": {},
     "output_type": "execute_result"
    }
   ],
   "source": [
    "#slicing the entire list\n",
    "numbers[:]"
   ]
  },
  {
   "cell_type": "code",
   "execution_count": 18,
   "id": "00f9a82b-8bd5-4443-b634-93e6e93d2ed5",
   "metadata": {},
   "outputs": [
    {
     "data": {
      "text/plain": [
       "[100, 90, 80, 70, 60, 50, 40, 30, 20, 10]"
      ]
     },
     "execution_count": 18,
     "metadata": {},
     "output_type": "execute_result"
    }
   ],
   "source": [
    "#slicing the list with a negative step or reversing of list\n",
    "\n",
    "numbers[::-1]"
   ]
  },
  {
   "cell_type": "code",
   "execution_count": 31,
   "id": "2950bbf9-23c3-4be5-89a9-b987ce4eb9c0",
   "metadata": {},
   "outputs": [
    {
     "data": {
      "text/plain": [
       "[10, 20, 30, 40, 50, 60, 70, 80, 90, 100]"
      ]
     },
     "execution_count": 31,
     "metadata": {},
     "output_type": "execute_result"
    }
   ],
   "source": [
    "numbers"
   ]
  },
  {
   "cell_type": "code",
   "execution_count": 11,
   "id": "5d98adbf-2e12-4841-b3e3-21806bc9bf69",
   "metadata": {},
   "outputs": [
    {
     "data": {
      "text/plain": [
       "[1, 2, 6]"
      ]
     },
     "execution_count": 11,
     "metadata": {},
     "output_type": "execute_result"
    }
   ],
   "source": [
    "#use slicing to modify list\n",
    "modify=[1,2,3,4,5,6]\n",
    "modify[2:5]=[ ]\n",
    "modify"
   ]
  },
  {
   "cell_type": "code",
   "execution_count": 14,
   "id": "7663bbd8-cc85-453c-aa02-acbd143e44ad",
   "metadata": {},
   "outputs": [
    {
     "data": {
      "text/plain": [
       "[1, 2, 3, 4, 5, 6]"
      ]
     },
     "execution_count": 14,
     "metadata": {},
     "output_type": "execute_result"
    }
   ],
   "source": [
    "modify[2:5]=[3,4,5,6]\n",
    "modify"
   ]
  },
  {
   "cell_type": "code",
   "execution_count": 15,
   "id": "c1ea7762-f282-4170-83ec-82dc7c2986bb",
   "metadata": {},
   "outputs": [
    {
     "data": {
      "text/plain": [
       "['red', 'green', 'blue', 'yellow', 'purple']"
      ]
     },
     "execution_count": 15,
     "metadata": {},
     "output_type": "execute_result"
    }
   ],
   "source": [
    "#replacing a range of elements\n",
    "\n",
    "colors = [\"red\",\"green\",\"blue\",\"yellow\",\"purple\"]\n",
    "colors"
   ]
  },
  {
   "cell_type": "code",
   "execution_count": 17,
   "id": "47d683b4-c25a-46f0-b229-f71c885795b4",
   "metadata": {},
   "outputs": [
    {
     "data": {
      "text/plain": [
       "['red', 'cyan', 'magenta', 'yellow', 'purple']"
      ]
     },
     "execution_count": 17,
     "metadata": {},
     "output_type": "execute_result"
    }
   ],
   "source": [
    "#replace \"green\" \"blue\" with \"cyan\" and \"magenta\"\n",
    "colors [1:3] = [\"cyan\",\"magenta\"]\n",
    "colors"
   ]
  },
  {
   "cell_type": "code",
   "execution_count": null,
   "id": "8d18b3b8-971d-423c-a9d8-0667fd5168e2",
   "metadata": {},
   "outputs": [],
   "source": [
    "#inserting elements while replacing\n",
    "animals[1:2]"
   ]
  },
  {
   "cell_type": "code",
   "execution_count": 3,
   "id": "b5460cd6-7dda-4d1e-9438-d6d1d5a79e37",
   "metadata": {},
   "outputs": [
    {
     "data": {
      "text/plain": [
       "['new york', 'chicago']"
      ]
     },
     "execution_count": 3,
     "metadata": {},
     "output_type": "execute_result"
    }
   ],
   "source": [
    "#deleting items\n",
    "cities = [\"new york\",\"los_angeles\",\"chicago\"]\n",
    "del(cities[1])\n",
    "cities"
   ]
  },
  {
   "cell_type": "code",
   "execution_count": 5,
   "id": "06a25f6d-7288-4056-8467-ce0967df460c",
   "metadata": {},
   "outputs": [
    {
     "data": {
      "text/plain": [
       "['python', 'javascript', 'c', 'java']"
      ]
     },
     "execution_count": 5,
     "metadata": {},
     "output_type": "execute_result"
    }
   ],
   "source": [
    "# modify elements using list\n",
    "\n",
    "language = [\"python\",\"c\",\"java\"]\n",
    "language.insert(1,\"javascript\")\n",
    "language"
   ]
  },
  {
   "cell_type": "code",
   "execution_count": 6,
   "id": "61affe90-22b3-467d-9a00-4f55650f6de4",
   "metadata": {},
   "outputs": [
    {
     "data": {
      "text/plain": [
       "[1, 2, 3, 4, 5, 6, 7, 8]"
      ]
     },
     "execution_count": 6,
     "metadata": {},
     "output_type": "execute_result"
    }
   ],
   "source": [
    "#arthematic operations on list\n",
    "#list addition\n",
    "list1 = [1,2,3,4]\n",
    "list2 = [5,6,7,8]\n",
    "res = list1+list2\n",
    "res"
   ]
  },
  {
   "cell_type": "code",
   "execution_count": 7,
   "id": "a4573c74-759c-45e7-90bb-f4318aebdf52",
   "metadata": {},
   "outputs": [
    {
     "data": {
      "text/plain": [
       "[1, 2, 3, 1, 2, 3]"
      ]
     },
     "execution_count": 7,
     "metadata": {},
     "output_type": "execute_result"
    }
   ],
   "source": [
    "#list multiplication\n",
    "list1 = [1,2,3]\n",
    "list1 * 2"
   ]
  },
  {
   "cell_type": "code",
   "execution_count": 9,
   "id": "ad9da44c-a4a0-47ab-9208-dad3748575ab",
   "metadata": {},
   "outputs": [
    {
     "data": {
      "text/plain": [
       "[1, 2, 3, 4, 1, 2, 3, 4, 1, 2, 3, 4]"
      ]
     },
     "execution_count": 9,
     "metadata": {},
     "output_type": "execute_result"
    }
   ],
   "source": [
    "list2 = [1,2,3,4]\n",
    "list2 * 3"
   ]
  },
  {
   "cell_type": "code",
   "execution_count": 11,
   "id": "43170b82-1b50-45ce-9f7a-bddce639bc12",
   "metadata": {},
   "outputs": [
    {
     "data": {
      "text/plain": [
       "True"
      ]
     },
     "execution_count": 11,
     "metadata": {},
     "output_type": "execute_result"
    }
   ],
   "source": [
    "#membership operations in and not in\n",
    "my_list = [\"apple\",\"banana\",\"cherry\"]\n",
    "\"apple\" in my_list"
   ]
  },
  {
   "cell_type": "code",
   "execution_count": 12,
   "id": "6e845add-4e0c-48b6-8cfe-d87c4b268038",
   "metadata": {},
   "outputs": [
    {
     "data": {
      "text/plain": [
       "False"
      ]
     },
     "execution_count": 12,
     "metadata": {},
     "output_type": "execute_result"
    }
   ],
   "source": [
    "\"pineapple\" in my_list"
   ]
  },
  {
   "cell_type": "code",
   "execution_count": 13,
   "id": "90d3083c-3491-49bd-8aa9-6049bfc362d5",
   "metadata": {},
   "outputs": [
    {
     "data": {
      "text/plain": [
       "False"
      ]
     },
     "execution_count": 13,
     "metadata": {},
     "output_type": "execute_result"
    }
   ],
   "source": [
    "\"apple\" not in my_list"
   ]
  },
  {
   "cell_type": "code",
   "execution_count": 14,
   "id": "911152e3-dccb-48d8-8583-c27ac5161483",
   "metadata": {},
   "outputs": [
    {
     "data": {
      "text/plain": [
       "True"
      ]
     },
     "execution_count": 14,
     "metadata": {},
     "output_type": "execute_result"
    }
   ],
   "source": [
    "\"dates\" not in my_list"
   ]
  },
  {
   "cell_type": "code",
   "execution_count": 20,
   "id": "1477e3f1-bbae-4d13-9d74-e3fd185dca0d",
   "metadata": {},
   "outputs": [
    {
     "name": "stdout",
     "output_type": "stream",
     "text": [
      "apple\n",
      "banana\n",
      "mango\n"
     ]
    }
   ],
   "source": [
    "#loop operations\n",
    "\n",
    "my_lists = [\"apple\",\"banana\",\"mango\"]\n",
    "for i in my_lists:\n",
    "    print(i)"
   ]
  },
  {
   "cell_type": "code",
   "execution_count": null,
   "id": "f22e5228-cfbc-457d-be88-dd12e603fb68",
   "metadata": {},
   "outputs": [],
   "source": []
  },
  {
   "cell_type": "code",
   "execution_count": null,
   "id": "af5a9491-7a23-4682-8d4e-2309f80fa9fa",
   "metadata": {},
   "outputs": [],
   "source": []
  },
  {
   "cell_type": "code",
   "execution_count": 37,
   "id": "6198a8ae-3201-4f80-8741-0d3cd6986147",
   "metadata": {},
   "outputs": [
    {
     "name": "stdout",
     "output_type": "stream",
     "text": [
      "1 2 3 \n",
      "4 5 6 \n",
      "7 8 9 \n"
     ]
    }
   ],
   "source": [
    "mat = [[1,2,3], [4,5,6], [7,8,9]]\n",
    "for row in mat:\n",
    "    for element in row:\n",
    "        print(element,end=\" \")\n",
    "    print()\n",
    "    "
   ]
  },
  {
   "cell_type": "code",
   "execution_count": null,
   "id": "57515ed0-7e0f-48a5-a284-d68590160d8f",
   "metadata": {},
   "outputs": [],
   "source": []
  }
 ],
 "metadata": {
  "kernelspec": {
   "display_name": "Python 3 (ipykernel)",
   "language": "python",
   "name": "python3"
  },
  "language_info": {
   "codemirror_mode": {
    "name": "ipython",
    "version": 3
   },
   "file_extension": ".py",
   "mimetype": "text/x-python",
   "name": "python",
   "nbconvert_exporter": "python",
   "pygments_lexer": "ipython3",
   "version": "3.12.7"
  }
 },
 "nbformat": 4,
 "nbformat_minor": 5
}
