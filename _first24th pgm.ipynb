{
 "cells": [
  {
   "cell_type": "code",
   "execution_count": 1,
   "id": "b0a71442-9243-46fd-adb8-e60d68198fef",
   "metadata": {},
   "outputs": [
    {
     "name": "stdout",
     "output_type": "stream",
     "text": [
      "hello world\n"
     ]
    }
   ],
   "source": [
    "print(\"hello world\")"
   ]
  },
  {
   "cell_type": "markdown",
   "id": "63366868-2180-4bce-b81c-70403d47bf06",
   "metadata": {},
   "source": [
    "# this is markdown"
   ]
  },
  {
   "cell_type": "markdown",
   "id": "d9b9d3ce-8580-4529-b8de-618f4114da26",
   "metadata": {},
   "source": [
    "## this is markdown\n"
   ]
  },
  {
   "cell_type": "markdown",
   "id": "2ebf6186-ccf3-4a3c-99b1-a03e92663aaf",
   "metadata": {},
   "source": [
    "### this is markdown"
   ]
  },
  {
   "cell_type": "code",
   "execution_count": 29,
   "id": "0c6ffc50-23a3-4541-a89d-58a56c0031e7",
   "metadata": {},
   "outputs": [],
   "source": [
    "# case sensitive\n"
   ]
  },
  {
   "cell_type": "code",
   "execution_count": 4,
   "id": "a6c5d568-a219-44e6-ba38-2349243c0739",
   "metadata": {},
   "outputs": [
    {
     "name": "stdout",
     "output_type": "stream",
     "text": [
      "raj\n"
     ]
    }
   ],
   "source": [
    "print('raj')"
   ]
  },
  {
   "cell_type": "code",
   "execution_count": 5,
   "id": "fbda4ea1-2657-47a7-8027-e0ccb839c9cf",
   "metadata": {},
   "outputs": [
    {
     "name": "stdout",
     "output_type": "stream",
     "text": [
      "hello-world\n"
     ]
    }
   ],
   "source": [
    "print('hello', end='-')\n",
    "print('world')"
   ]
  },
  {
   "cell_type": "code",
   "execution_count": 6,
   "id": "dad49e9b-0dfa-4688-bed0-ac2b5893e44a",
   "metadata": {},
   "outputs": [
    {
     "name": "stdout",
     "output_type": "stream",
     "text": [
      "hello****world\n"
     ]
    }
   ],
   "source": [
    "print('hello', end='****')\n",
    "print('world')"
   ]
  },
  {
   "cell_type": "code",
   "execution_count": 8,
   "id": "5362108d-7b18-4f4a-ba2e-9e6caf8d178a",
   "metadata": {},
   "outputs": [
    {
     "name": "stdout",
     "output_type": "stream",
     "text": [
      "hello world\n"
     ]
    }
   ],
   "source": [
    "print('hello', end=' ')\n",
    "print('world')"
   ]
  },
  {
   "cell_type": "code",
   "execution_count": 35,
   "id": "9259f09d-1354-4ec9-81aa-3a9db9f72e79",
   "metadata": {},
   "outputs": [
    {
     "name": "stdout",
     "output_type": "stream",
     "text": [
      "hello+hi*world\n"
     ]
    }
   ],
   "source": [
    "print('hello', end='+')\n",
    "print('hi', end=\"*\")\n",
    "print('world')      "
   ]
  },
  {
   "cell_type": "code",
   "execution_count": 12,
   "id": "2bf1df48-2a99-468e-8784-480eed54d435",
   "metadata": {},
   "outputs": [
    {
     "data": {
      "text/plain": [
       "int"
      ]
     },
     "execution_count": 12,
     "metadata": {},
     "output_type": "execute_result"
    }
   ],
   "source": [
    "age = 25\n",
    "type(age)"
   ]
  },
  {
   "cell_type": "code",
   "execution_count": 13,
   "id": "e7426cb5-ce88-49c2-97f2-a55540577d19",
   "metadata": {},
   "outputs": [
    {
     "data": {
      "text/plain": [
       "float"
      ]
     },
     "execution_count": 13,
     "metadata": {},
     "output_type": "execute_result"
    }
   ],
   "source": [
    "price = 5.5\n",
    "type(price)"
   ]
  },
  {
   "cell_type": "code",
   "execution_count": 14,
   "id": "8b2616d7-8ac4-4397-b36a-ec86bf7fe89f",
   "metadata": {},
   "outputs": [
    {
     "data": {
      "text/plain": [
       "str"
      ]
     },
     "execution_count": 14,
     "metadata": {},
     "output_type": "execute_result"
    }
   ],
   "source": [
    "name = \"darling\"\n",
    "type(name)"
   ]
  },
  {
   "cell_type": "code",
   "execution_count": 16,
   "id": "6310fc9c-3f99-4de2-85f3-ba63beb5aa04",
   "metadata": {},
   "outputs": [
    {
     "data": {
      "text/plain": [
       "bool"
      ]
     },
     "execution_count": 16,
     "metadata": {},
     "output_type": "execute_result"
    }
   ],
   "source": [
    "is_sunny = True\n",
    "is_cloudy = False\n",
    "type(is_sunny)\n"
   ]
  },
  {
   "cell_type": "code",
   "execution_count": 36,
   "id": "ba7f37fb-d6a8-4752-b0bf-a11e56ee8dcc",
   "metadata": {},
   "outputs": [
    {
     "data": {
      "text/plain": [
       "bool"
      ]
     },
     "execution_count": 36,
     "metadata": {},
     "output_type": "execute_result"
    }
   ],
   "source": [
    "type(is_cloudy)"
   ]
  },
  {
   "cell_type": "code",
   "execution_count": 27,
   "id": "a13ca33d-4d64-4efd-a781-419ab1d12a53",
   "metadata": {},
   "outputs": [],
   "source": [
    "\n",
    "list = [\"apple\", 5, 5.3]\n",
    "num = [1,2,3]\n",
    "mixed = [1,\"apple\",3.5, True]"
   ]
  },
  {
   "cell_type": "code",
   "execution_count": 28,
   "id": "c40377d1-9e85-4300-aebc-c9a437cd63a7",
   "metadata": {},
   "outputs": [
    {
     "data": {
      "text/plain": [
       "list"
      ]
     },
     "execution_count": 28,
     "metadata": {},
     "output_type": "execute_result"
    }
   ],
   "source": [
    "type(num)"
   ]
  },
  {
   "cell_type": "code",
   "execution_count": 30,
   "id": "870d1cb0-6e9b-435d-a758-7aa5c35d13a9",
   "metadata": {},
   "outputs": [
    {
     "data": {
      "text/plain": [
       "list"
      ]
     },
     "execution_count": 30,
     "metadata": {},
     "output_type": "execute_result"
    }
   ],
   "source": [
    "type(mixed)"
   ]
  },
  {
   "cell_type": "code",
   "execution_count": 31,
   "id": "3732bb06-75d5-4030-81b6-f699180df8aa",
   "metadata": {},
   "outputs": [
    {
     "data": {
      "text/plain": [
       "list"
      ]
     },
     "execution_count": 31,
     "metadata": {},
     "output_type": "execute_result"
    }
   ],
   "source": [
    "type(list)"
   ]
  },
  {
   "cell_type": "code",
   "execution_count": 19,
   "id": "42bb7a45-533b-43ed-a854-05a1d7242ff0",
   "metadata": {},
   "outputs": [
    {
     "data": {
      "text/plain": [
       "tuple"
      ]
     },
     "execution_count": 19,
     "metadata": {},
     "output_type": "execute_result"
    }
   ],
   "source": [
    "point = (3,4)\n",
    "person = (\"john\",30, \"engineer\")\n",
    "type(point)"
   ]
  },
  {
   "cell_type": "code",
   "execution_count": 32,
   "id": "97603775-bd42-4928-ba93-e19abefe1e7b",
   "metadata": {},
   "outputs": [
    {
     "data": {
      "text/plain": [
       "tuple"
      ]
     },
     "execution_count": 32,
     "metadata": {},
     "output_type": "execute_result"
    }
   ],
   "source": [
    "type(person)"
   ]
  },
  {
   "cell_type": "code",
   "execution_count": 33,
   "id": "0780222b-9f8b-4286-8099-dba6fa0a941a",
   "metadata": {},
   "outputs": [
    {
     "data": {
      "text/plain": [
       "set"
      ]
     },
     "execution_count": 33,
     "metadata": {},
     "output_type": "execute_result"
    }
   ],
   "source": [
    "fruits = {\"apple\", \" mango\", \"cherry\"}\n",
    "numbers = {1,2,3,4}\n",
    "type(numbers)\n"
   ]
  },
  {
   "cell_type": "code",
   "execution_count": 34,
   "id": "e37173e4-93cc-477c-87a7-c926497e66fe",
   "metadata": {},
   "outputs": [
    {
     "data": {
      "text/plain": [
       "set"
      ]
     },
     "execution_count": 34,
     "metadata": {},
     "output_type": "execute_result"
    }
   ],
   "source": [
    "type(fruits)\n"
   ]
  },
  {
   "cell_type": "code",
   "execution_count": 23,
   "id": "859eb2a5-a114-4524-bd75-d5122a028c16",
   "metadata": {},
   "outputs": [
    {
     "name": "stdout",
     "output_type": "stream",
     "text": [
      "{1, 2, 3}\n"
     ]
    }
   ],
   "source": [
    "num = {1,1,2,3}\n",
    "print(num)"
   ]
  },
  {
   "cell_type": "code",
   "execution_count": null,
   "id": "80a1c145-c46c-418f-8c5c-34f162a511e5",
   "metadata": {},
   "outputs": [],
   "source": []
  }
 ],
 "metadata": {
  "kernelspec": {
   "display_name": "Python 3 (ipykernel)",
   "language": "python",
   "name": "python3"
  },
  "language_info": {
   "codemirror_mode": {
    "name": "ipython",
    "version": 3
   },
   "file_extension": ".py",
   "mimetype": "text/x-python",
   "name": "python",
   "nbconvert_exporter": "python",
   "pygments_lexer": "ipython3",
   "version": "3.12.7"
  }
 },
 "nbformat": 4,
 "nbformat_minor": 5
}
