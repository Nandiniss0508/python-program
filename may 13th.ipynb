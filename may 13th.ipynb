{
 "cells": [
  {
   "cell_type": "code",
   "execution_count": null,
   "id": "ca19dcf4-5a07-43fa-a343-7aea71ab8927",
   "metadata": {},
   "outputs": [],
   "source": [
    "# sets"
   ]
  },
  {
   "cell_type": "code",
   "execution_count": 1,
   "id": "1e70a14a-f607-4dd5-852d-f792dbb6a28c",
   "metadata": {},
   "outputs": [
    {
     "data": {
      "text/plain": [
       "[1, 1, 1, 2, 2, 3, 4.4, 4, 4, 5, 5]"
      ]
     },
     "execution_count": 1,
     "metadata": {},
     "output_type": "execute_result"
    }
   ],
   "source": [
    "#no duplication: unique elements in sets\n",
    "lists = [1,1,1,2,2,3,4.4,4,4,5,5]\n",
    "lists"
   ]
  },
  {
   "cell_type": "code",
   "execution_count": 2,
   "id": "e3e6669f-ca91-4d2a-9766-fec9f267a6b9",
   "metadata": {},
   "outputs": [
    {
     "data": {
      "text/plain": [
       "{1, 2, 3, 3.2, 4, 5}"
      ]
     },
     "execution_count": 2,
     "metadata": {},
     "output_type": "execute_result"
    }
   ],
   "source": [
    "my_set = {1,1,1,2,2,3,3.2,4,4,5,5,5,}\n",
    "my_set"
   ]
  },
  {
   "cell_type": "code",
   "execution_count": 3,
   "id": "92508e58-905f-4295-8854-21bfadc38dc5",
   "metadata": {},
   "outputs": [
    {
     "data": {
      "text/plain": [
       "{1, 2, 3, 4, 8}"
      ]
     },
     "execution_count": 3,
     "metadata": {},
     "output_type": "execute_result"
    }
   ],
   "source": [
    "# mutable\n",
    "my_sets = {1,2,3,4}\n",
    "my_sets.add(8)\n",
    "my_sets"
   ]
  },
  {
   "cell_type": "code",
   "execution_count": 4,
   "id": "9ad788d3-b121-4185-909c-5682aa7fd8f8",
   "metadata": {},
   "outputs": [
    {
     "data": {
      "text/plain": [
       "{1, 2, 3, 4}"
      ]
     },
     "execution_count": 4,
     "metadata": {},
     "output_type": "execute_result"
    }
   ],
   "source": [
    "my_sets.remove(8)\n",
    "my_sets"
   ]
  },
  {
   "cell_type": "code",
   "execution_count": 1,
   "id": "6b9d49ab-74c2-4b80-9f10-144cbfae24df",
   "metadata": {},
   "outputs": [
    {
     "ename": "TypeError",
     "evalue": "'set' object is not subscriptable",
     "output_type": "error",
     "traceback": [
      "\u001b[1;31m---------------------------------------------------------------------------\u001b[0m",
      "\u001b[1;31mTypeError\u001b[0m                                 Traceback (most recent call last)",
      "Cell \u001b[1;32mIn[1], line 3\u001b[0m\n\u001b[0;32m      1\u001b[0m \u001b[38;5;66;03m# no indexing\u001b[39;00m\n\u001b[0;32m      2\u001b[0m my_sets \u001b[38;5;241m=\u001b[39m {\u001b[38;5;241m1\u001b[39m,\u001b[38;5;241m2\u001b[39m,\u001b[38;5;241m3\u001b[39m}\n\u001b[1;32m----> 3\u001b[0m my_sets[\u001b[38;5;241m0\u001b[39m]\n",
      "\u001b[1;31mTypeError\u001b[0m: 'set' object is not subscriptable"
     ]
    }
   ],
   "source": [
    "# no indexing\n",
    "my_sets = {1,2,3}\n",
    "my_sets[0]"
   ]
  },
  {
   "cell_type": "code",
   "execution_count": null,
   "id": "6418e9f6-5f29-43d7-9c0f-06097d8ccde1",
   "metadata": {},
   "outputs": [],
   "source": [
    "# mutable\n",
    "# sets methods\n"
   ]
  },
  {
   "cell_type": "code",
   "execution_count": 89,
   "id": "06743756-462f-4dd6-80c8-b7b559956791",
   "metadata": {},
   "outputs": [
    {
     "data": {
      "text/plain": [
       "{1, 2, 3, 4}"
      ]
     },
     "execution_count": 89,
     "metadata": {},
     "output_type": "execute_result"
    }
   ],
   "source": [
    "# add\n",
    "my_sets = {1,2,3}\n",
    "my_sets.add(4)\n",
    "my_sets"
   ]
  },
  {
   "cell_type": "code",
   "execution_count": 90,
   "id": "5e726e70-f9fb-4b63-9d8f-b4e6bdccfba1",
   "metadata": {},
   "outputs": [
    {
     "data": {
      "text/plain": [
       "{1, 2, 3, 4}"
      ]
     },
     "execution_count": 90,
     "metadata": {},
     "output_type": "execute_result"
    }
   ],
   "source": [
    "my_sets.add(1)\n",
    "my_sets"
   ]
  },
  {
   "cell_type": "code",
   "execution_count": 5,
   "id": "e592a505-2088-4d58-9726-079297ede31e",
   "metadata": {},
   "outputs": [
    {
     "data": {
      "text/plain": [
       "{1, 2, 3, 4, 5, 11, 22, 33}"
      ]
     },
     "execution_count": 5,
     "metadata": {},
     "output_type": "execute_result"
    }
   ],
   "source": [
    "# update\n",
    "my_sets1 = {1,2,3}\n",
    "my_sets1.update([11,22,33])\n",
    "my_sets1.update([4,5])\n",
    "my_sets1\n"
   ]
  },
  {
   "cell_type": "code",
   "execution_count": 6,
   "id": "ee526141-1320-41d6-a0f7-c93f960f05c1",
   "metadata": {},
   "outputs": [
    {
     "data": {
      "text/plain": [
       "{2, 3}"
      ]
     },
     "execution_count": 6,
     "metadata": {},
     "output_type": "execute_result"
    }
   ],
   "source": [
    "# remove\n",
    "my_sets2 = {1,2,3}\n",
    "my_sets2.remove(1)\n",
    "my_sets2"
   ]
  },
  {
   "cell_type": "code",
   "execution_count": 7,
   "id": "4941cd7e-e572-457f-9d1c-675331d78f97",
   "metadata": {},
   "outputs": [
    {
     "ename": "KeyError",
     "evalue": "22",
     "output_type": "error",
     "traceback": [
      "\u001b[1;31m---------------------------------------------------------------------------\u001b[0m",
      "\u001b[1;31mKeyError\u001b[0m                                  Traceback (most recent call last)",
      "Cell \u001b[1;32mIn[7], line 1\u001b[0m\n\u001b[1;32m----> 1\u001b[0m my_sets2\u001b[38;5;241m.\u001b[39mremove(\u001b[38;5;241m22\u001b[39m)\n\u001b[0;32m      2\u001b[0m my_sets2\n",
      "\u001b[1;31mKeyError\u001b[0m: 22"
     ]
    }
   ],
   "source": [
    "my_sets2.remove(22)  #22 element is not in the set\n",
    "my_sets2"
   ]
  },
  {
   "cell_type": "code",
   "execution_count": 14,
   "id": "c52b3b68-80fd-4903-b527-3eec03ffbe81",
   "metadata": {},
   "outputs": [
    {
     "data": {
      "text/plain": [
       "{1, 3}"
      ]
     },
     "execution_count": 14,
     "metadata": {},
     "output_type": "execute_result"
    }
   ],
   "source": [
    "# discard\n",
    "my_sets = {1,2,3}\n",
    "my_sets.discard(2)\n",
    "my_sets"
   ]
  },
  {
   "cell_type": "code",
   "execution_count": 15,
   "id": "763b9ba2-0414-4993-b8ce-6f01f67edecb",
   "metadata": {},
   "outputs": [
    {
     "data": {
      "text/plain": [
       "{1, 3}"
      ]
     },
     "execution_count": 15,
     "metadata": {},
     "output_type": "execute_result"
    }
   ],
   "source": [
    "my_sets.discard(22)# no error thrown\n",
    "my_sets"
   ]
  },
  {
   "cell_type": "code",
   "execution_count": 10,
   "id": "033d9382-842a-4347-918a-8ca8df2ea35b",
   "metadata": {},
   "outputs": [
    {
     "data": {
      "text/plain": [
       "1"
      ]
     },
     "execution_count": 10,
     "metadata": {},
     "output_type": "execute_result"
    }
   ],
   "source": [
    "# pop pops random element\n",
    "my_setss = {1,2,3}\n",
    "a = my_setss.pop()\n",
    "a"
   ]
  },
  {
   "cell_type": "code",
   "execution_count": 17,
   "id": "3c56c851-6293-419e-94ca-ebd031fa8138",
   "metadata": {},
   "outputs": [
    {
     "data": {
      "text/plain": [
       "set()"
      ]
     },
     "execution_count": 17,
     "metadata": {},
     "output_type": "execute_result"
    }
   ],
   "source": [
    "# clear() clears all the elements of the set\n",
    "my_sets = {1,2,3}\n",
    "my_sets.clear()\n",
    "my_sets\n"
   ]
  },
  {
   "cell_type": "code",
   "execution_count": 18,
   "id": "cce13b12-cc20-41d8-ae05-f69d0be447b9",
   "metadata": {},
   "outputs": [
    {
     "data": {
      "text/plain": [
       "{1, 2, 3, 4, 5}"
      ]
     },
     "execution_count": 18,
     "metadata": {},
     "output_type": "execute_result"
    }
   ],
   "source": [
    "# union \"or\" \"|\"\n",
    "set1 = {1,2,3}\n",
    "set2 = {3,4,5}\n",
    "set1.union(set2)"
   ]
  },
  {
   "cell_type": "code",
   "execution_count": 20,
   "id": "a299a6dd-05f4-4599-91e8-d9c4b3a974ea",
   "metadata": {},
   "outputs": [
    {
     "data": {
      "text/plain": [
       "{2, 3}"
      ]
     },
     "execution_count": 20,
     "metadata": {},
     "output_type": "execute_result"
    }
   ],
   "source": [
    "# intersection \"and\"\"&\"\n",
    "set1 = {1,2,3}\n",
    "set2 = {2,3,4}\n",
    "set1.intersection(set2)"
   ]
  },
  {
   "cell_type": "code",
   "execution_count": 21,
   "id": "96bc8de2-2c0c-460f-893f-62e1255d7a13",
   "metadata": {},
   "outputs": [
    {
     "data": {
      "text/plain": [
       "{1, 5}"
      ]
     },
     "execution_count": 21,
     "metadata": {},
     "output_type": "execute_result"
    }
   ],
   "source": [
    "# difference\n",
    "set1 = {1,2,3,5}\n",
    "set2 = {2,3,4}\n",
    "set1.difference(set2)"
   ]
  },
  {
   "cell_type": "code",
   "execution_count": 22,
   "id": "d384d569-d83b-450c-b5f2-ac7c4d24ae74",
   "metadata": {},
   "outputs": [
    {
     "data": {
      "text/plain": [
       "{4}"
      ]
     },
     "execution_count": 22,
     "metadata": {},
     "output_type": "execute_result"
    }
   ],
   "source": [
    "set2.difference(set1)"
   ]
  },
  {
   "cell_type": "code",
   "execution_count": 85,
   "id": "a62bbdb7-9f41-4e41-90b1-a829419a71a1",
   "metadata": {},
   "outputs": [
    {
     "data": {
      "text/plain": [
       "{1, 4}"
      ]
     },
     "execution_count": 85,
     "metadata": {},
     "output_type": "execute_result"
    }
   ],
   "source": [
    "#symmetric differnce\n",
    "set1 = {1,2,3}\n",
    "set2 = {2,3,4}\n",
    "result = set1.symmetric_difference(set2)\n",
    "result\n"
   ]
  },
  {
   "cell_type": "code",
   "execution_count": 27,
   "id": "7602dcca-64db-47ba-a764-7e0c9ff8a743",
   "metadata": {},
   "outputs": [
    {
     "data": {
      "text/plain": [
       "False"
      ]
     },
     "execution_count": 27,
     "metadata": {},
     "output_type": "execute_result"
    }
   ],
   "source": [
    "# issubset()\n",
    "set1 = {1,2,3}\n",
    "set2 = {1,2}\n",
    "set1.issubset(set2)"
   ]
  },
  {
   "cell_type": "code",
   "execution_count": 28,
   "id": "5a73b993-b9b9-4671-97b3-721fe23982c4",
   "metadata": {},
   "outputs": [
    {
     "data": {
      "text/plain": [
       "True"
      ]
     },
     "execution_count": 28,
     "metadata": {},
     "output_type": "execute_result"
    }
   ],
   "source": [
    "set2.issubset(set1)"
   ]
  },
  {
   "cell_type": "code",
   "execution_count": 32,
   "id": "c8562d9b-7555-4c6b-8a1d-4e1f3254ec91",
   "metadata": {},
   "outputs": [
    {
     "data": {
      "text/plain": [
       "True"
      ]
     },
     "execution_count": 32,
     "metadata": {},
     "output_type": "execute_result"
    }
   ],
   "source": [
    "# issuperset\n",
    "set1 = {1,2,3}\n",
    "set2 = {1,2}\n",
    "set1.issuperset(set2)"
   ]
  },
  {
   "cell_type": "code",
   "execution_count": 33,
   "id": "3b48bf1f-4f75-4210-8df5-93694e49229f",
   "metadata": {},
   "outputs": [
    {
     "data": {
      "text/plain": [
       "False"
      ]
     },
     "execution_count": 33,
     "metadata": {},
     "output_type": "execute_result"
    }
   ],
   "source": [
    "set2.issuperset(set1)"
   ]
  },
  {
   "cell_type": "code",
   "execution_count": 34,
   "id": "8ddaab20-ba3f-4540-88b2-781a988ea85c",
   "metadata": {},
   "outputs": [
    {
     "data": {
      "text/plain": [
       "True"
      ]
     },
     "execution_count": 34,
     "metadata": {},
     "output_type": "execute_result"
    }
   ],
   "source": [
    "# isdisjoint()\n",
    "set1 = {1,2,3}\n",
    "set2 = {4,5,6}\n",
    "set1.isdisjoint(set2)"
   ]
  },
  {
   "cell_type": "code",
   "execution_count": 38,
   "id": "7b90bb2f-e43a-4322-ae7f-15ade3de3cc1",
   "metadata": {},
   "outputs": [
    {
     "data": {
      "text/plain": [
       "False"
      ]
     },
     "execution_count": 38,
     "metadata": {},
     "output_type": "execute_result"
    }
   ],
   "source": [
    "set1 = {1,2,3}\n",
    "set2 = {1,2,3}\n",
    "set1.isdisjoint(set2)"
   ]
  },
  {
   "cell_type": "code",
   "execution_count": 40,
   "id": "24d5e14e-da9a-48f1-9268-f4e8347d8124",
   "metadata": {},
   "outputs": [
    {
     "data": {
      "text/plain": [
       "{1, 2, 3}"
      ]
     },
     "execution_count": 40,
     "metadata": {},
     "output_type": "execute_result"
    }
   ],
   "source": [
    "# copy()\n",
    "set1 = {1,2,3}\n",
    "set_copy = set1.copy()\n",
    "set_copy"
   ]
  },
  {
   "cell_type": "code",
   "execution_count": 47,
   "id": "4f2b8582-3e23-406e-bd6b-6479e1cdb8aa",
   "metadata": {},
   "outputs": [
    {
     "data": {
      "text/plain": [
       "{1, 2, 3, 4}"
      ]
     },
     "execution_count": 47,
     "metadata": {},
     "output_type": "execute_result"
    }
   ],
   "source": [
    "# frozen set\n",
    "sets1 = {1,2,3}\n",
    "sets1.add(4)\n",
    "sets1"
   ]
  },
  {
   "cell_type": "code",
   "execution_count": 50,
   "id": "a90673a3-76f8-4bb9-bcaa-6a0e15a6e433",
   "metadata": {},
   "outputs": [
    {
     "data": {
      "text/plain": [
       "frozenset({1, 2, 3, 4, 5})"
      ]
     },
     "execution_count": 50,
     "metadata": {},
     "output_type": "execute_result"
    }
   ],
   "source": [
    "a=frozenset(sets1)\n",
    "a"
   ]
  },
  {
   "cell_type": "code",
   "execution_count": 51,
   "id": "a2062074-9a40-4bff-be9a-0a1a973cfbde",
   "metadata": {},
   "outputs": [
    {
     "ename": "AttributeError",
     "evalue": "'frozenset' object has no attribute 'add'",
     "output_type": "error",
     "traceback": [
      "\u001b[1;31m---------------------------------------------------------------------------\u001b[0m",
      "\u001b[1;31mAttributeError\u001b[0m                            Traceback (most recent call last)",
      "Cell \u001b[1;32mIn[51], line 1\u001b[0m\n\u001b[1;32m----> 1\u001b[0m a\u001b[38;5;241m.\u001b[39madd(\u001b[38;5;241m5\u001b[39m)\n\u001b[0;32m      2\u001b[0m a\n",
      "\u001b[1;31mAttributeError\u001b[0m: 'frozenset' object has no attribute 'add'"
     ]
    }
   ],
   "source": [
    "a.add(5)# frozen set cannot ne modified\n",
    "a"
   ]
  },
  {
   "cell_type": "code",
   "execution_count": 52,
   "id": "14c5823c-236a-447c-8130-e93ba57cfd51",
   "metadata": {},
   "outputs": [
    {
     "data": {
      "text/plain": [
       "4"
      ]
     },
     "execution_count": 52,
     "metadata": {},
     "output_type": "execute_result"
    }
   ],
   "source": [
    "# python functions on sets\n",
    "# len() length\n",
    "m_set = {1,2,3,4}\n",
    "len(m_set)"
   ]
  },
  {
   "cell_type": "code",
   "execution_count": 53,
   "id": "565490ba-8292-4ef6-8b26-28c2fa30142f",
   "metadata": {},
   "outputs": [
    {
     "data": {
      "text/plain": [
       "4"
      ]
     },
     "execution_count": 53,
     "metadata": {},
     "output_type": "execute_result"
    }
   ],
   "source": [
    "# max\n",
    "max(m_set)"
   ]
  },
  {
   "cell_type": "code",
   "execution_count": 54,
   "id": "e39025ba-f606-42a0-9fad-8cd5f4a1a41c",
   "metadata": {},
   "outputs": [
    {
     "data": {
      "text/plain": [
       "1"
      ]
     },
     "execution_count": 54,
     "metadata": {},
     "output_type": "execute_result"
    }
   ],
   "source": [
    "#min\n",
    "min(m_set)"
   ]
  },
  {
   "cell_type": "code",
   "execution_count": 55,
   "id": "684cd355-695b-4826-a4c3-27998bcfbd6a",
   "metadata": {},
   "outputs": [
    {
     "data": {
      "text/plain": [
       "10"
      ]
     },
     "execution_count": 55,
     "metadata": {},
     "output_type": "execute_result"
    }
   ],
   "source": [
    "# sum\n",
    "sum(m_set)"
   ]
  },
  {
   "cell_type": "code",
   "execution_count": 56,
   "id": "4e64aff8-0c02-4917-8e90-c0010c9ecd17",
   "metadata": {},
   "outputs": [],
   "source": [
    "# sorted\n",
    "my_set = {2,3,6,4,1}\n",
    "a = sorted(my_set)"
   ]
  },
  {
   "cell_type": "code",
   "execution_count": 57,
   "id": "a8f6e1ed-ce1e-49b8-b9e0-022a53427eec",
   "metadata": {},
   "outputs": [
    {
     "data": {
      "text/plain": [
       "[1, 2, 3, 4, 6]"
      ]
     },
     "execution_count": 57,
     "metadata": {},
     "output_type": "execute_result"
    }
   ],
   "source": [
    "a"
   ]
  },
  {
   "cell_type": "code",
   "execution_count": 58,
   "id": "63e735f2-7263-4e23-81d1-dbbe25952608",
   "metadata": {},
   "outputs": [
    {
     "data": {
      "text/plain": [
       "list"
      ]
     },
     "execution_count": 58,
     "metadata": {},
     "output_type": "execute_result"
    }
   ],
   "source": [
    "type(a)"
   ]
  },
  {
   "cell_type": "code",
   "execution_count": 60,
   "id": "7f72e589-8112-4857-98d5-15d1f649a2e3",
   "metadata": {},
   "outputs": [
    {
     "data": {
      "text/plain": [
       "True"
      ]
     },
     "execution_count": 60,
     "metadata": {},
     "output_type": "execute_result"
    }
   ],
   "source": [
    "# any\n",
    "my_set = {0,False,None,50}\n",
    "any(my_set)"
   ]
  },
  {
   "cell_type": "code",
   "execution_count": 61,
   "id": "d9f1673e-ffe9-4052-9d16-9972e14f8eea",
   "metadata": {},
   "outputs": [
    {
     "data": {
      "text/plain": [
       "True"
      ]
     },
     "execution_count": 61,
     "metadata": {},
     "output_type": "execute_result"
    }
   ],
   "source": [
    "# all\n",
    "my_set = {1,2,3}\n",
    "all(my_set)"
   ]
  },
  {
   "cell_type": "code",
   "execution_count": 62,
   "id": "9ea6d1a9-17b6-4b2b-b105-01e244151ac8",
   "metadata": {},
   "outputs": [
    {
     "data": {
      "text/plain": [
       "{1, 2, 3, 4}"
      ]
     },
     "execution_count": 62,
     "metadata": {},
     "output_type": "execute_result"
    }
   ],
   "source": [
    "#set() remove duplications\n",
    "my_list = [1,2,2,3,3,4]\n",
    "my_set = set(my_list)\n",
    "my_set"
   ]
  },
  {
   "cell_type": "code",
   "execution_count": 83,
   "id": "d88bf9fc-42f5-459d-88a0-3c907f282c14",
   "metadata": {},
   "outputs": [
    {
     "name": "stdout",
     "output_type": "stream",
     "text": [
      "4 16 "
     ]
    }
   ],
   "source": [
    "# with out set comprehension for even squares\n",
    "numbers = [1,2,3,4,5]\n",
    "for x in numbers:\n",
    "    if x%2==0:\n",
    "       print(x**2,end=\" \")\n",
    "        \n"
   ]
  },
  {
   "cell_type": "code",
   "execution_count": 63,
   "id": "0f3d7fe5-00f6-42d6-bd8e-3b5fe703a8c5",
   "metadata": {},
   "outputs": [
    {
     "data": {
      "text/plain": [
       "{4, 16}"
      ]
     },
     "execution_count": 63,
     "metadata": {},
     "output_type": "execute_result"
    }
   ],
   "source": [
    "#  with set comprehension \n",
    "numbers = [1,2,3,4,5]\n",
    "even_square_set = {x**2 for x in numbers if x%2==0}\n",
    "even_square_set"
   ]
  },
  {
   "cell_type": "code",
   "execution_count": null,
   "id": "ec8b9475-be6f-4287-bea1-08879601ceec",
   "metadata": {},
   "outputs": [],
   "source": []
  }
 ],
 "metadata": {
  "kernelspec": {
   "display_name": "Python 3 (ipykernel)",
   "language": "python",
   "name": "python3"
  },
  "language_info": {
   "codemirror_mode": {
    "name": "ipython",
    "version": 3
   },
   "file_extension": ".py",
   "mimetype": "text/x-python",
   "name": "python",
   "nbconvert_exporter": "python",
   "pygments_lexer": "ipython3",
   "version": "3.12.7"
  }
 },
 "nbformat": 4,
 "nbformat_minor": 5
}
